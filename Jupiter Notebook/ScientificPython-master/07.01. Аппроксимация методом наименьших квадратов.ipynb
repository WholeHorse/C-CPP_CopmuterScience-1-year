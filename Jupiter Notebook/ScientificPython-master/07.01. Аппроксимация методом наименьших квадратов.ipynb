{
 "cells": [
  {
   "cell_type": "code",
   "execution_count": 1,
   "metadata": {},
   "outputs": [],
   "source": [
    "import numpy as np\n",
    "import matplotlib.pyplot as plt\n",
    "%matplotlib inline\n",
    "from scipy import linalg"
   ]
  },
  {
   "cell_type": "markdown",
   "metadata": {},
   "source": [
    "## Аппроксимация данных методом наименьших квадратов\n",
    "\n",
    "Задача *аппроксимации* похожа на задачу интерполяции. Имеются некоторые точки и мы хотим найти функцию, график которой проходит через эти точки. Главное отличие от интерполяции в том, что график не обязательно точно проходит через эти точки, а может немного отклоняться от них, однако в целом функция правильно описывает тренд в данных.\n",
    "\n",
    "Пусть, например, у нас есть такие точки:"
   ]
  },
  {
   "cell_type": "code",
   "execution_count": 2,
   "metadata": {},
   "outputs": [
    {
     "data": {
      "image/png": "[encoded data removed]",
      "text/plain": [
       "<Figure size 432x288 with 1 Axes>"
      ]
     },
     "metadata": {
      "needs_background": "light"
     },
     "output_type": "display_data"
    }
   ],
   "source": [
    "x = np.array([0, 1, 2, 3, 4])\n",
    "y = np.array([1, 2, 2, 3, 4])\n",
    "plt.plot(x, y, 'o', color='tab:orange')\n",
    "pass"
   ]
  },
  {
   "cell_type": "markdown",
   "metadata": {},
   "source": [
    "Точки лежат вдоль некоторой прямой. Например, такой\n",
    "(пока вы можете не обращать внимание на то, как мы ее построили):"
   ]
  },
  {
   "cell_type": "code",
   "execution_count": 3,
   "metadata": {},
   "outputs": [],
   "source": [
    "m = len(x)\n",
    "X = np.stack((np.ones(m), x)).T\n",
    "beta, residuals, rank, sv = linalg.lstsq(X, y)"
   ]
  },
  {
   "cell_type": "code",
   "execution_count": 4,
   "metadata": {},
   "outputs": [
    {
     "data": {
      "text/plain": [
       "(0.9999999999999993, 0.7000000000000002)"
      ]
     },
     "execution_count": 4,
     "metadata": {},
     "output_type": "execute_result"
    }
   ],
   "source": [
    "beta0, beta1 = beta\n",
    "beta0, beta1"
   ]
  },
  {
   "cell_type": "code",
   "execution_count": 5,
   "metadata": {},
   "outputs": [
    {
     "data": {
      "image/png": "[encoded data removed]",
      "text/plain": [
       "<Figure size 432x288 with 1 Axes>"
      ]
     },
     "metadata": {
      "needs_background": "light"
     },
     "output_type": "display_data"
    }
   ],
   "source": [
    "plt.plot(x, X@beta)\n",
    "plt.plot(x, y, 'o')\n",
    "pass"
   ]
  },
  {
   "cell_type": "markdown",
   "metadata": {},
   "source": [
    "## 1. Простая линейная регрессия\n",
    "\n",
    "Один из самых распространенных методов нахождения такой аппроксимирующей прямой - *метод наименьших квадратов* (МНК).\n",
    "Итак, пусть имеются точки\n",
    "$$\n",
    "(x_1, y_1),\\, (x_2, y_2),\\, \\dots,\\, (x_m, y_m).\n",
    "$$\n",
    "Ищем линейную функцию (в математической статистике ее называют *простой линейной регрессией*)\n",
    "$$\n",
    "y = \\beta_0 + \\beta_1 x,\n",
    "$$\n",
    "такую, что\n",
    "$$\n",
    "y_i \\approx \\beta_0 + \\beta_1 x_i\n",
    "\\qquad\n",
    "(i=1,2,\\dots, m).\n",
    "$$\n",
    "А именно, ищем $\\beta_0$, $\\beta_1$, на которых достигается минимум суммы квадратов невязок (*остаточной суммы квадратов*)\n",
    "$$\n",
    "R(\\beta_0,\\, \\beta_1) = \\sum_{i=1}^m \\bigl(y_i - \\beta_0 - \\beta_1 x_i\\bigr)^2 \\to \\min_{\\beta_0,\\, \\beta_1} \\tag{*}\n",
    "$$\n",
    "$R(\\beta_0,\\, \\beta_1)$ - это сумма квадратов отклонений предсказанных значений $\\beta_0 + \\beta_1 x_i$ от истинных $y_i$. \n",
    "\n",
    "Чтобы найти миниимум $(*)$ возьмум частные производные по каждому неизвестному параметру $\\beta_0$ и $\\beta_1$ и приравняем их нулю:\n",
    "$$\n",
    "\\frac{\\partial R}{\\partial \\beta_0} = -2\\sum_{i=1}^m \\bigl(y_i - \\beta_0 - \\beta_1 x_i\\bigr) = 0,\n",
    "\\qquad\n",
    "\\frac{\\partial R}{\\partial \\beta_0} = -2\\sum_{i=1}^m \\bigl(y_i - \\beta_0 - \\beta_1 x_i\\bigr) x_i = 0.\n",
    "$$\n",
    "После очевидных преобразований получаем\n",
    "$$\n",
    "\\left\\{\n",
    "\\begin{array}{l}\n",
    "        \\beta_0 m \\hskip{.8cm}   + \\beta_1 \\sum\\limits_{i=1}^m   x_i  \\hskip{.44cm} = \\sum\\limits_{i=1}^m y_i, \\\\\n",
    " \\beta_0 \\sum\\limits_{i=1}^m x_i + \\beta_1 \\sum\\limits_{i=1}^m x_i^2 = \\sum\\limits_{i=1}^m x_iy_i. \\\\\n",
    "\\end{array} \n",
    "\\right.  \\tag{**}\n",
    "$$\n",
    "Получили систему линейных уравнений относительно неизвестных $\\beta_0$, $\\beta_1$.\n",
    "Она называется *системой нормальных уравнений*.\n",
    "Можно доказать, что решение этой системы доставляет минимум функции ($*$) (для этого надо проверить вторые производные, но мы не будем этим сейчас заниматься).\n",
    "\n",
    "**Пример.** Пусть имеются точки $(x_i, y_i)$ $(i=1,2,\\dots,m)$, $m=5$,\n",
    "$$\n",
    "\\begin{array}{|c|c|c|c|}\n",
    "\\hline\n",
    "x_i & 0 & 1 & 2 & 3 & 4 \\\\\n",
    "\\hline                  \n",
    "y_i & 1 & 2 & 2 & 3 & 4 \\\\\n",
    "\\hline\n",
    "\\end{array}\n",
    "$$\n",
    "Находим $\\sum\\limits_{i=1}^5 x_i = 10$, $\\sum\\limits_{i=1}^5 x_i^2 = 30$, $\\sum\\limits_{i=1}^5 y_i = 12$, \n",
    "$\\sum\\limits_{i=1}^5 x_iy_i = 31$. Система ($**$) приобретает вид\n",
    "$$\n",
    "\\left\\{\n",
    "\\begin{array}{r}\n",
    "       5 \\beta_0 + 10 \\beta_1 = 12, \\\\\n",
    "      10 \\beta_0 + 30 \\beta_1 = 31.\n",
    "\\end{array}      \n",
    "\\right.      \n",
    "$$\n",
    "Находим решение этой системы $\\beta_0 = 1$, $\\beta=0.7$.\n",
    "Таким образом, уравнение искомой аппроксимирующей прямой - $y=1+0.7x$.\n",
    "Именно она изображена на рисунке выше.\n",
    "\n",
    "**Замечание.**\n",
    "Если ввести матрицы\n",
    "$$\n",
    "X = \n",
    "\\left(\n",
    "\\begin{array}{cc}\n",
    "1 & x_1 \\\\\n",
    "1 & x_2 \\\\\n",
    "\\vdots & \\vdots \\\\\n",
    "1 & x_m \\\\\n",
    "\\end{array}\n",
    "\\right),\n",
    "\\qquad\n",
    "y =\n",
    "\\left(\n",
    "\\begin{array}{c}\n",
    "y_1 \\\\\n",
    "y_2 \\\\\n",
    "\\vdots \\\\\n",
    "y_m \\\\\n",
    "\\end{array}\n",
    "\\right),\n",
    "\\qquad\n",
    "\\beta =\n",
    "\\left(\n",
    "\\begin{array}{c}\n",
    "\\beta_0 \\\\\n",
    "\\beta_1 \\\\\n",
    "\\end{array}\n",
    "\\right),\n",
    "$$\n",
    "тогда систему нормальных уравнений ($**$) можно записать как\n",
    "$$\n",
    "(X^{\\rm T} X)\\, \\beta = X^{\\rm T} y. \\tag{***}\n",
    "$$\n",
    "\n",
    "В частности, для рассмотренного примера\n",
    "$$\n",
    "X^{\\rm T} X =\n",
    "\\left(\n",
    "\\begin{array}{ccccc}\n",
    "  1 & 1 & 1 & 1 & 1 \\\\\n",
    "  0 & 1 & 2 & 3 & 4\n",
    "\\end{array}\n",
    "\\right)\n",
    "\\cdot\n",
    "\\left(\n",
    "\\begin{array}{cc}\n",
    "  1 & 0 \\\\\n",
    "  1 & 1 \\\\\n",
    "  1 & 2 \\\\\n",
    "  1 & 3 \\\\\n",
    "  1 & 4 \\\\\n",
    "\\end{array}\n",
    "\\right)\n",
    "=\n",
    "\\left(\n",
    "\\begin{array}{cc}\n",
    "  5 & 10 \\\\\n",
    " 10 & 30 \\\\\n",
    "\\end{array}\n",
    "\\right),\n",
    "\\qquad\n",
    "X^{\\rm T} \\beta =\n",
    "\\left(\n",
    "\\begin{array}{ccccc}\n",
    "  1 & 1 & 1 & 1 & 1 \\\\\n",
    "  0 & 1 & 2 & 3 & 4\n",
    "\\end{array}\n",
    "\\right)\n",
    "\\cdot\n",
    "\\left(\n",
    "\\begin{array}{c}\n",
    "  1 \\\\\n",
    "  2 \\\\\n",
    "  2 \\\\\n",
    "  3 \\\\\n",
    "  4 \\\\\n",
    "\\end{array}\n",
    "\\right)\n",
    "=\n",
    "\\left(\n",
    "\\begin{array}{c}\n",
    "  12 \\\\\n",
    "  31 \\\\\n",
    "\\end{array}\n",
    "\\right).\n",
    "$$\n",
    "\n",
    "Давайте все это опробуем в Питоне. Напрямую будем вычислять матрицы $X^{\\rm T} X$, $X^{\\rm T} y$.\n",
    "А для решения системы ($***$) воспользуемся функцией `linalg.solve`. \n",
    "На практике мы рекомендуем пользоваться функцией `linalg.lstsq`, описанной ниже."
   ]
  },
  {
   "cell_type": "code",
   "execution_count": 6,
   "metadata": {},
   "outputs": [
    {
     "data": {
      "text/plain": [
       "(1.0000000000000002, 0.7)"
      ]
     },
     "execution_count": 6,
     "metadata": {},
     "output_type": "execute_result"
    }
   ],
   "source": [
    "x = np.array([0, 1, 2, 3, 4])\n",
    "y = np.array([1, 2, 2, 3, 4])\n",
    "\n",
    "n = len(x)\n",
    "X = np.stack((np.ones(n), x)).T\n",
    "beta = np.linalg.solve(X.T@X, X.T@y)\n",
    "beta0, beta1 = beta\n",
    "beta0, beta1"
   ]
  },
  {
   "cell_type": "code",
   "execution_count": 7,
   "metadata": {},
   "outputs": [
    {
     "data": {
      "image/png": "[encoded data removed]",
      "text/plain": [
       "<Figure size 432x288 with 1 Axes>"
      ]
     },
     "metadata": {
      "needs_background": "light"
     },
     "output_type": "display_data"
    }
   ],
   "source": [
    "plt.plot(x, y, 'o')\n",
    "plt.plot(x, X@beta)\n",
    "pass"
   ]
  },
  {
   "cell_type": "markdown",
   "metadata": {},
   "source": [
    "## 2. МНК в общей постановке\n",
    "\n",
    "В более общей постановке задачи аппроксимации предполагают, что данные \n",
    "$$\n",
    "(x_1, y_1),\\, (x_2, y_2),\\, \\dots,\\, (x_m, y_m)\n",
    "$$\n",
    "удовлетворяют соотношению\n",
    "$$\n",
    "y_i = f(x_i) + \\mbox{ошибка} \\qquad (i=1,2,\\dots,m),\n",
    "$$\n",
    "где $f(x)$ - некоторая функция, называемая *модельной функцией* или *моделью*.\n",
    "Иными словами,\n",
    "$$\n",
    "y_i \\approx f(x_i) \\qquad (i=1,2,\\dots,m). \\tag{+}\n",
    "$$\n",
    "\n",
    "Часто модель ищут в виде \n",
    "$$\n",
    "f(x) = \\beta_1 f_1(x) + \\beta_2 f_2(x) + \\dots + \\beta_n f_n(x), \\tag{++}\n",
    "$$\n",
    "где $f_1(x),f_2(x),\\dots,f_n(x)$ - некоторые заданные функции.\n",
    "Например, при аппроксимации данных линейной функцией (как было выше) $f_1(x) = 1$, $f_2(x)=x$. \n",
    "В более общем случае рассматривают аппроксимацию полиномами (многочленами), тогда\n",
    "$f_1(x) = 1,\\, f_2(x)=x\\, \\dots,\\, f_n(x)=x^{n-1}$.\n",
    "\n",
    "Есть разные подходы, как понимать приближенное равенство в ($+$).\n",
    "Наиболее популярный подход - *метод наименьших квадратов*, когда ищут значения параметров $\\beta_1, \\dots, \\beta_n$,\n",
    "на которых достигается минимум\n",
    "$$\n",
    " \\sum_{i=1}^m \\left(\\beta_1 f_1(x_i) + \\dots + \\beta_n f_n(x_i) - y_i \\strut\\right)^2 \\to \\min_{\\beta_1, \\dots, \\beta_n}. \\tag{+++}\n",
    "$$\n",
    "При этом\n",
    "$$\n",
    "{\\rm MSE} = \\frac{1}{m}\\sum_{i=1}^m \\left(\\beta_1 f_1(x_i) + \\dots + \\beta_n f_n(x_i) - y_i \\strut\\right)^2\n",
    "$$\n",
    "называют *средним квадратом ошибки* (*mean squared error*).\n",
    "\n",
    "Так как параметры $\\beta_1, \\dots, \\beta_n$ в ($++$) входят в модель линейно, то метод называется *линейным* методом наименьших квадратов (при этом функции $f_1(x),f_2(x),\\dots,f_n(x)$ не обязаны быть линейными).\n",
    "\n",
    "Заметим, что $x$ не обязан быть скаляром, а может быть вектором.\n"
   ]
  },
  {
   "cell_type": "markdown",
   "metadata": {},
   "source": [
    "## 3. МНК на матричном языке\n",
    "\n",
    "Очень удобно задачу наименьших квадратов исследовать, используя матричные обозначения.\n",
    "Введем матрицы \n",
    "$$\n",
    "X = \n",
    "\\left(\n",
    "\\begin{array}{cc}\n",
    "f_1(x_1) & f_2(x_1) & \\dots & f_n(x_1) \\\\\n",
    "f_1(x_2) & f_2(x_2) & \\dots & f_n(x_2) \\\\\n",
    "\\dots \\\\\n",
    "f_1(x_m) & f_2(x_m) & \\dots & f_n(x_m) \\\\\n",
    "\\end{array}\n",
    "\\right),\n",
    "\\qquad\n",
    "y =\n",
    "\\left(\n",
    "\\begin{array}{c}\n",
    "y_1 \\\\\n",
    "y_2 \\\\\n",
    "\\vdots \\\\\n",
    "y_m \\\\\n",
    "\\end{array}\n",
    "\\right),\n",
    "\\qquad\n",
    "\\beta =\n",
    "\\left(\n",
    "\\begin{array}{c}\n",
    "\\beta_1 \\\\\n",
    "\\beta_2 \\\\\n",
    "\\vdots \\\\\n",
    "\\beta_n\n",
    "\\end{array}\n",
    "\\right).\n",
    "$$\n",
    "\n",
    "Обратите внимание, что все элементы в $X$ и $y$ известны, а коэффициенты в $\\beta$ пока нет.\n",
    "\n",
    "Формулы $(+)$ тогда можно записать как\n",
    "$$\n",
    "X\\beta \\approx y\n",
    "$$\n",
    "а задачу минимизации $(+++)$ - следующим образом:\n",
    "$$\n",
    "\\|X\\beta - y\\|_2^2 \\to \\min_{\\beta}.\n",
    "$$\n",
    "Заметим, что минимум нормы $\\|X\\beta - y\\|_2$ совпадает с минимумом ее квадрата $\\|X\\beta - y\\|_2^2$ (так как квадрат - функция монотонная для неотрицательного аргумента), но с $\\|X\\beta - y\\|_2^2$ работать проще, так как здесь отсутствуют радикалы.\n",
    "\n",
    "Обратите внимание, что равенство $X\\beta \\approx y$ означает, что мы желаем приближенно представить столбец $y$ в виде линейной комбинации столбцов матрицы $X$. Требование $\\|X\\beta - y\\|_2 \\to \\min_{\\beta}$ специфицирует, *что конкретно* означает здесь это *приближение* - минимизацию евклидовой нормы невязки $X\\beta - y$.\n",
    "\n",
    "Если бы систему $X\\beta = y$ удавалось решить точно, то норма невязки равнялась бы нулю.\n",
    "В этом случае график модельной зависимости проходил бы точно через заданные точки.\n",
    "Однако, как правило, при аппроксимации данных получаемая с.л.у. $X\\beta = y$ переопределена, т.е. не имеет решений.\n",
    "Вектор $\\beta$, на котором минимизируется евклидова норма  $\\|X\\beta - y\\|_2$ называется *псевдорешением* системы $X\\beta = y$.\n",
    "Итак, решение линейной задачи наименьших квадратов есть псевдорешение системы $X\\beta = y$.\n",
    "\n",
    "Для нахождения решения задачи наименьших квадратов можно также найти все частные производные по каждому неизвестному параметру $\\beta_1, \\beta_2, \\dots, \\beta_n$ и приравнять их к нулю, как мы это делали для частного случая. Оказывается, мы придем к *системе нормальных уравнений* того же вида ($**$)\n",
    "$$\n",
    "(X^{\\rm T} X)\\, \\beta = X^{\\rm T} y. \\tag{**}\n",
    "$$\n",
    "Псевдорешение системы $X\\beta = y$ есть решение системы нормальных уравнений.\n",
    "\n",
    "Итак, решение линейной задачи наименьших квадратов сводится к решение системы нормальных линейных уравнений.\n",
    "\n",
    "**Замечание 1.** При решении больших задач обычно явно не вычилсяют матрицу $X^{\\rm T} X$ (она может оказаться плохо обусловленной), а используют более продвинутые методы решения линейной задачи наименьших квадратов, например, использующие \n",
    "$QR$-разложение, сингулярное разложение и др.\n",
    "\n",
    "**Замечание 2.** Вместо минимизации евклидовой нормы (т.е. вместо минимизации суммы квадратов) мы могли бы минимизировать другую норму, например, чебышевскую (минимизировать максимальную ошибку) или манхеттеновскую (минимизировать сумму модулей ошибок). В некоторых практических приложениях такие постановки задачи аппроксимации более естественны. Однако евклидову норму минимизировать проще. Все сводится к решению системы нормальных уравнений. Для минимизации других норм используют более сложные методы (методы оптимизации).\n",
    "\n",
    "**Замечание 3.** Часто встречаются задачи аппроксимации, в которых неизвестные параметры входят нелинейным образом. Например, по данным мы ищем зависимость вида\n",
    "$$\n",
    "f(x) = \\beta_1 e^{\\lambda_1 x} + \\beta_2 e^{\\lambda_2 x}.\n",
    "$$\n",
    "Если $\\lambda_1$, $\\lambda_2$ известны, а требуется найти $\\beta_1$, $\\beta_2$, то это *линейная задача* наименьших квадратов.\n",
    "Если же требуется найти $\\lambda_1$, $\\lambda_2$, то это *нелинейная задача* наименьших квадратов. Для решения нелинейных задач наименьших квадратов используют более сложные методы (методы оптимизации).\n"
   ]
  },
  {
   "cell_type": "markdown",
   "metadata": {},
   "source": [
    " ## 4. Функция `linalg.lstsq()`\n",
    " Линейную задачу наименьших квадратов решает функция `linalg.lstsq(X, y)`.\n",
    " Вернемся к нашему модельному примеру."
   ]
  },
  {
   "cell_type": "code",
   "execution_count": 8,
   "metadata": {},
   "outputs": [
    {
     "data": {
      "image/png": "[encoded data removed]",
      "text/plain": [
       "<Figure size 432x288 with 1 Axes>"
      ]
     },
     "metadata": {
      "needs_background": "light"
     },
     "output_type": "display_data"
    }
   ],
   "source": [
    "x = np.array([0, 1, 2, 3, 4])\n",
    "y = np.array([1, 2, 2, 3, 4])\n",
    "plt.plot(x, y, 'o', color='tab:orange')\n",
    "pass"
   ]
  },
  {
   "cell_type": "markdown",
   "metadata": {},
   "source": [
    "Формируем матрицу `X` и обращаемся к функции `linalg.lstsq(X, y)`:"
   ]
  },
  {
   "cell_type": "code",
   "execution_count": 9,
   "metadata": {},
   "outputs": [],
   "source": [
    "m = len(x)\n",
    "X = np.stack((np.ones(m), x)).T\n",
    "beta, residuals, rank, sv = linalg.lstsq(X, y)"
   ]
  },
  {
   "cell_type": "markdown",
   "metadata": {},
   "source": [
    "`lstsq()` возвращает коэффициенты `beta`, сумму квадратов `residuals`, ранг `rank` матрицы `X` и ее сингулярные числа `sv`"
   ]
  },
  {
   "cell_type": "code",
   "execution_count": 10,
   "metadata": {},
   "outputs": [
    {
     "data": {
      "text/plain": [
       "(0.9999999999999993, 0.7000000000000002)"
      ]
     },
     "execution_count": 10,
     "metadata": {},
     "output_type": "execute_result"
    }
   ],
   "source": [
    "beta0, beta1 = beta\n",
    "beta0, beta1"
   ]
  },
  {
   "cell_type": "code",
   "execution_count": 11,
   "metadata": {},
   "outputs": [
    {
     "data": {
      "image/png": "[encoded data removed]",
      "text/plain": [
       "<Figure size 432x288 with 1 Axes>"
      ]
     },
     "metadata": {
      "needs_background": "light"
     },
     "output_type": "display_data"
    }
   ],
   "source": [
    "plt.plot(x, X@beta)\n",
    "plt.plot(x, y, 'o')\n",
    "pass"
   ]
  },
  {
   "cell_type": "markdown",
   "metadata": {},
   "source": [
    "Сумма квадратов отклонений равна"
   ]
  },
  {
   "cell_type": "code",
   "execution_count": 12,
   "metadata": {},
   "outputs": [
    {
     "data": {
      "text/plain": [
       "0.29999999999999954"
      ]
     },
     "execution_count": 12,
     "metadata": {},
     "output_type": "execute_result"
    }
   ],
   "source": [
    "residuals"
   ]
  },
  {
   "cell_type": "markdown",
   "metadata": {},
   "source": [
    "Проверим это:"
   ]
  },
  {
   "cell_type": "code",
   "execution_count": 13,
   "metadata": {},
   "outputs": [
    {
     "data": {
      "text/plain": [
       "0.2999999999999998"
      ]
     },
     "execution_count": 13,
     "metadata": {},
     "output_type": "execute_result"
    }
   ],
   "source": [
    "linalg.norm(X@beta - y)**2"
   ]
  },
  {
   "cell_type": "markdown",
   "metadata": {},
   "source": [
    "## 5. Функция `polyfit()`\n",
    "\n",
    "Для аппроксимации данных полиномами можно воспользоваться функцией `polyfit(x,y,n)`. Здесь `n` - степень искомого многочлена. Коэффициенты многочлена возвращаются в массиве в порядке убывания степеней."
   ]
  },
  {
   "cell_type": "code",
   "execution_count": 14,
   "metadata": {},
   "outputs": [
    {
     "data": {
      "text/plain": [
       "array([0.7, 1. ])"
      ]
     },
     "execution_count": 14,
     "metadata": {},
     "output_type": "execute_result"
    }
   ],
   "source": [
    "np.polyfit(x, y, 1)"
   ]
  },
  {
   "cell_type": "markdown",
   "metadata": {},
   "source": [
    "## 6. Еще один простой пример\n",
    "\n",
    "Давайте аппроксимируем данные, сгенерированные вручную.\n",
    "Точки будут лежать вдоль параболы.\n",
    "Запишем сами функцию и добавим к координате $y$ небольшую ошибку (распределенную по нормальному закону."
   ]
  },
  {
   "cell_type": "code",
   "execution_count": 15,
   "metadata": {},
   "outputs": [],
   "source": [
    "def my_quadratic_function(x):\n",
    "    return x**2 - 0.6*x + 1"
   ]
  },
  {
   "cell_type": "markdown",
   "metadata": {},
   "source": [
    "Парабола:"
   ]
  },
  {
   "cell_type": "code",
   "execution_count": 16,
   "metadata": {},
   "outputs": [
    {
     "data": {
      "image/png": "[encoded data removed]",
      "text/plain": [
       "<Figure size 432x288 with 1 Axes>"
      ]
     },
     "metadata": {
      "needs_background": "light"
     },
     "output_type": "display_data"
    }
   ],
   "source": [
    "xx = np.linspace(0, 1, 500)\n",
    "plt.plot(xx, my_quadratic_function(xx))\n",
    "pass"
   ]
  },
  {
   "cell_type": "markdown",
   "metadata": {},
   "source": [
    "А теперь сгенерируем данные:"
   ]
  },
  {
   "cell_type": "code",
   "execution_count": 17,
   "metadata": {},
   "outputs": [],
   "source": [
    "np.random.seed(42)\n",
    "m = 20\n",
    "x = np.random.rand(m)\n",
    "y = my_quadratic_function(x) + 0.05*np.random.randn(m)"
   ]
  },
  {
   "cell_type": "code",
   "execution_count": 18,
   "metadata": {},
   "outputs": [
    {
     "data": {
      "image/png": "[encoded data removed]",
      "text/plain": [
       "<Figure size 432x288 with 1 Axes>"
      ]
     },
     "metadata": {
      "needs_background": "light"
     },
     "output_type": "display_data"
    }
   ],
   "source": [
    "xx = np.linspace(0, 1, 500)\n",
    "plt.plot(xx, my_quadratic_function(xx))\n",
    "plt.plot(x, y, 'o')\n",
    "pass"
   ]
  },
  {
   "cell_type": "markdown",
   "metadata": {},
   "source": [
    "Насколько точно мы сможем восстановить параболу по точкам?  \n",
    "\n",
    "Попробуем оба метода: `lstsq()` и `polyfit()`"
   ]
  },
  {
   "cell_type": "code",
   "execution_count": 19,
   "metadata": {},
   "outputs": [],
   "source": [
    "X = np.stack((np.ones(m), x, x**2)).T\n",
    "beta, _, _, _ = linalg.lstsq(X, y)"
   ]
  },
  {
   "cell_type": "code",
   "execution_count": 20,
   "metadata": {},
   "outputs": [
    {
     "data": {
      "text/plain": [
       "array([ 1.01701246, -0.74509807,  1.11942245])"
      ]
     },
     "execution_count": 20,
     "metadata": {},
     "output_type": "execute_result"
    }
   ],
   "source": [
    "beta0, beta1, beta2 = beta\n",
    "beta"
   ]
  },
  {
   "cell_type": "code",
   "execution_count": 21,
   "metadata": {},
   "outputs": [
    {
     "data": {
      "image/png": "[encoded data removed]",
      "text/plain": [
       "<Figure size 432x288 with 1 Axes>"
      ]
     },
     "metadata": {
      "needs_background": "light"
     },
     "output_type": "display_data"
    }
   ],
   "source": [
    "xx = np.linspace(0, 1, 500)\n",
    "plt.plot(xx, my_quadratic_function(xx), label = 'Original')\n",
    "plt.plot(x, y, 'o', label = 'Data')\n",
    "plt.plot(xx, beta0 + beta1*xx + beta2*xx**2, label = 'Restored')\n",
    "plt.legend()\n",
    "plt.grid()\n",
    "pass"
   ]
  },
  {
   "cell_type": "markdown",
   "metadata": {},
   "source": [
    "То же самое можно проделать, используя функцию `polyfit()`:"
   ]
  },
  {
   "cell_type": "code",
   "execution_count": 22,
   "metadata": {},
   "outputs": [
    {
     "data": {
      "text/plain": [
       "array([ 1.11942245, -0.74509807,  1.01701246])"
      ]
     },
     "execution_count": 22,
     "metadata": {},
     "output_type": "execute_result"
    }
   ],
   "source": [
    "beta = np.polyfit(x, y, 2)\n",
    "beta"
   ]
  },
  {
   "cell_type": "markdown",
   "metadata": {},
   "source": [
    "Получили те же коэффициенты."
   ]
  },
  {
   "cell_type": "markdown",
   "metadata": {},
   "source": [
    "## Выводы\n",
    "\n",
    "1. Линейная задача наименьших квадратов - это задача поиска коэффициентов $\\beta_1,\\dots,\\beta_n$, доставляющих минимум функции\n",
    "$$\n",
    " \\sum_{i=1}^m \\left(\\beta_1 f_1(x_i) + \\dots + \\beta_n f_n(x_i) - y_i \\strut\\right)^2 \\to \\min_{\\beta_1, \\dots, \\beta_n},\n",
    "$$\n",
    "где $(x_1, y_1), (x_2, y_2), \\dots, (x_m, y_m)$ - данные, а $f_1(x), f_2(x), \\dots, f_n(x)$ - известные функции.\n",
    "\n",
    "2. Линейная задача наименьших квадратов может быть сформулирована как задача поиска псевдорешения системы $X\\beta = y$, т.е. поиска вектора $\\beta$, минимизирующего евклидову норму невязки.\n",
    "\n",
    "3. Решение линейной задачи наименьших квадратов $X\\beta \\approx y$ сводится к решению системы нормальных линейных уравнений\n",
    "$X^{\\rm T} X \\beta = X^{\\rm T} y$.\n",
    "\n"
   ]
  }
 ],
 "metadata": {
  "kernelspec": {
   "display_name": "Python 3",
   "language": "python",
   "name": "python3"
  },
  "language_info": {
   "codemirror_mode": {
    "name": "ipython",
    "version": 3
   },
   "file_extension": ".py",
   "mimetype": "text/x-python",
   "name": "python",
   "nbconvert_exporter": "python",
   "pygments_lexer": "ipython3",
   "version": "3.7.3"
  }
 },
 "nbformat": 4,
 "nbformat_minor": 2
}
