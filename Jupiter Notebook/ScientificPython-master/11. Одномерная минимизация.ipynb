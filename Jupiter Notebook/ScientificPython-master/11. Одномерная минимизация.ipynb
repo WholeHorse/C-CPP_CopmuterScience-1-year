{
 "cells": [
  {
   "cell_type": "code",
   "execution_count": 1,
   "metadata": {},
   "outputs": [],
   "source": [
    "import numpy as np\n",
    "from scipy import linalg\n",
    "import matplotlib.pyplot as plt\n",
    "%matplotlib inline"
   ]
  },
  {
   "cell_type": "markdown",
   "metadata": {},
   "source": [
    "# Методы одномерной оптимизации\n",
    "\n",
    "Задача оптимизации функции заключается в поиске ее минимума или максимума.\n",
    "Максимизации функции $f(x)$ эквивалентна минимизации $-f(x)$, поэтому достаточно рассматривать только одну из этих задач.\n",
    "Итак, пусть требуется найти \n",
    "$$\n",
    "\\min f(x), \\qquad \\mbox{где $a\\le x \\le b$}\n",
    "$$\n",
    "\n",
    "\n",
    "## 1. Некоторые методы\n",
    "\n",
    "### 1.1. Метод золотого сечения\n",
    "\n",
    "Пусть функция $f(x)$ на отрезке $[a,b]$ *унимодальна*, т.е. имеет единственную точку минимума $x^*$ и убывает на отрезке $[a,x^*]$ и возрастает на $[x^*,b]$.\n",
    "Выберем некоторые две точки $x_1$ и $x_2$ на отрезке $[a,b]$, причем $x_1 < x_2$.\n",
    "Если $f(x_1)< f(x_2)$, то ясно, что точка минимума находится на отрезке $[a,x_2]$, тем самым свели задачу поиска точки минимума к меньшему отрезку.\n",
    "\n",
    "<img src=\"https://studfile.net/html/2706/297/html_OxZSXTVw5n.niFf/img-zF_R8m.png\">\n",
    "\n",
    "Если $f(x_1)> f(x_2)$, то точка минимума находится на отрезке $[x_1,b]$ - снова свели задачу к поиску точки минимума на меньшем отрезке. \n",
    "\n",
    "\n",
    "\n",
    "<img src=\"https://studfile.net/html/2706/297/html_OxZSXTVw5n.niFf/img-mtTwuQ.png\">\n",
    "\n",
    "Всякий раз на новом отрезке выбираем две внутренних точки, в которых вычисляем $f(x)$ и повторяем рассуждения.\n",
    "\n",
    "Заметим, что оба раза новый отрезок уже содержит одну внутреннюю точку, в которой $f(x)$ уже вычислено: для $[a,x_2]$ - это $x_1$, а для $[x_1,b]$ - это $x_2$. Поэтому достаточно найти значение функции еще в одной точке.\n",
    "\n",
    "Давайте выбирать точки $x_1$, $x_2$ симметрично относительно центра и так, чтобы на каждой итерации они делили отрезок в одном и том же соотношении $\\tau$. Итак, точка $x_1$ должна делить отрезок $[a,b]$ в том же отношении $\\tau$, что точка $x_2$ делит отрезок $[x_1, b]$. Аналогично, точка $x_2$ должна делить отрезок $[a,b]$ в том же отношении $\\tau$, что точка $x_1$ делит отрезок $[a, x_2]$.\n",
    "\n",
    "<img src=\"https://www.semestr.ru/images/math/optim/golden-image002.jpg\">\n",
    "\n",
    "Тогда получаем\n",
    "\n",
    "$$\n",
    "\\frac{1-\\tau}{\\tau} = \\tau,\n",
    "$$\n",
    "откуда\n",
    "$$\n",
    "\\tau^2 + \\tau - 1 = 0\n",
    "$$\n",
    "\n",
    "$$\n",
    "\\tau_{1,2} = \\frac{-1\\pm\\sqrt{5}}{2}\n",
    "$$\n",
    "\n",
    "$$\n",
    "\\tau = \\frac{\\sqrt{5} - 1}{2} = \\frac{1}{\\frac{1+\\sqrt{5}}{2}} = \\frac{1}{\\varphi} = 1 - \\varphi.\n",
    "$$\n",
    "Число\n",
    "$$\n",
    "\\varphi = \\frac{1+\\sqrt{5}}{2} = 1.618033988749895\\dots\n",
    "$$\n",
    "называется *золотым сечением*.\n",
    "\n"
   ]
  },
  {
   "cell_type": "code",
   "execution_count": 2,
   "metadata": {},
   "outputs": [
    {
     "data": {
      "text/plain": [
       "(1.618033988749895, 0.6180339887498949)"
      ]
     },
     "execution_count": 2,
     "metadata": {},
     "output_type": "execute_result"
    }
   ],
   "source": [
    "(1+5**(1/2))/2, (-1+5**(1/2))/2"
   ]
  },
  {
   "cell_type": "markdown",
   "metadata": {},
   "source": [
    "### 1.2. Метод Ньютона\n",
    "\n",
    "Пусть $f(x)$ имеет непрерывную вторую производную.\n",
    "Тогда в точке минимума $x^*$ и в некоторой ее окрестности функция $f(x)$ должна быть выпуклой вниз, поэтому $f''(x^*)>0$.\n",
    "Рассмотрим начальный отрезок разложения в ряд Тейлора функции $f(x)$ в точке $x_k$:\n",
    "\n",
    "$$\n",
    "f(x) \\approx f(x_k) + f'(x_k) (x-x_k) + \\frac{1}{2} f''(x_k) (x-x_k)^2\n",
    "$$\n",
    "График \n",
    "$$\n",
    "\\varphi(x) = f(x_k) + f'(x_k) (x-x_k) + \\frac{1}{2} f''(x_k) (x-x_k)^2\n",
    "$$ \n",
    "- это график *касательной параболы* к $f(x)$ в точке $x_k$.\n",
    "\n",
    "На $k$-й итерации будем находить минимум функции $\\varphi(x)$ \n",
    "$$\n",
    "f(x_k) + f'(x_k) (x-x_k) + \\frac{1}{2} f''(x_k) (x-x_k)^2.\n",
    "$$\n",
    "Если $f''(x_k) > 0$, то минимум достигается в единственной точке\n",
    "$$\n",
    "x_{k+1} = x_k - \\frac{f'(x_k)}{f''(x_k)}.\n",
    "$$\n",
    "Эту точку и возьмем в качестве $x_{k+1}$.\n",
    "\n",
    "<img src=\"http://www.nsc.ru/rus/textbooks/akhmerov/mo/images/09.gif\">\n",
    "\n",
    "\n",
    "Заметим, что метод Ньютона для решения задачи минимизации функции - эквивалентен методу Ньютона для решения нелинейного уравнения, примененного к уравнению\n",
    "$$\n",
    "f'(x) = 0.\n",
    "$$"
   ]
  },
  {
   "cell_type": "markdown",
   "metadata": {},
   "source": [
    "### 1.3.  Метод квадратичной интерполяции\n",
    "\n",
    "По точкам $\\bigl(x_{k-2}, f(x_{k-2})\\bigr)$, $\\bigl(x_{k-1}, f(x_{k-1})\\bigr)$, $\\bigl(x_k, f(x_k)\\bigr)$ строим интерполяционный квадратичный интерполянт\n",
    "$$\n",
    "g(x) = \n",
    " f(x_{k-2})\\frac{(x-x_{k-1})(x-x_k)}{(x_{k-2}-x_{k-1})(x_{k-2}-x_k)}\n",
    "+f(x_{k-1})\\frac{(x-x_{k-2})(x-x_k)}{(x_{k-1}-x_{k-2})(x_{k-2}-x_k)}\n",
    "+f(x_k)    \\frac{(x-x_{k-2})(x-x_{k-1})}{(x_k-x_{k-2})(x_k-x_{k-1})}\n",
    "$$\n",
    "\n",
    "В качестве $x_{k+1}$ берем точку минимума этого многочлена:\n",
    "$$\n",
    "x_{k+1} = \\frac{1}{2}\\cdot\n",
    "\\frac{(x_{k-1}^2 - x_k^2)f(x_{k-2}) + (x_k^2 - x_{k-2}^2)f(x_{k-1}) + (x_{k-2}^2 - x_{k-1}^2) f(x_k)}{(x_{k-1} - x_k)f(x_{k-2}) + (x_k - x_{k-2})f(x_{k-1}) +  (x_{k-2} - x_{k-1}) f(x_k)}\n",
    "$$"
   ]
  },
  {
   "cell_type": "markdown",
   "metadata": {},
   "source": [
    "### 1.4. Метод Брента\n",
    "\n",
    "Метод Брента использует комбинацию метода золотого сечения и квдартичной инттерполяции.\n",
    "\n",
    "Не следует путать этот метод с методом того же атвора для решения нелинейного уравнения.\n",
    "\n"
   ]
  },
  {
   "cell_type": "markdown",
   "metadata": {},
   "source": [
    "## 2. Методы одномерной оптимизации из модуля `optimize`"
   ]
  },
  {
   "cell_type": "markdown",
   "metadata": {},
   "source": [
    "\"Общая\" функция, реализующая методы одномерной оптимизации - `minimize_scalar`.\n",
    "Конкретный метод в ней можно задать определив значение параметра `method`."
   ]
  },
  {
   "cell_type": "code",
   "execution_count": 3,
   "metadata": {},
   "outputs": [],
   "source": [
    "from scipy.optimize import minimize_scalar"
   ]
  },
  {
   "cell_type": "code",
   "execution_count": 4,
   "metadata": {},
   "outputs": [],
   "source": [
    "def f(x):\n",
    "    return x**6 + 7*x**4 - 2*x"
   ]
  },
  {
   "cell_type": "code",
   "execution_count": 5,
   "metadata": {},
   "outputs": [
    {
     "data": {
      "image/png": "[encoded data removed]",
      "text/plain": [
       "<Figure size 432x288 with 1 Axes>"
      ]
     },
     "metadata": {
      "needs_background": "light"
     },
     "output_type": "display_data"
    }
   ],
   "source": [
    "xx = np.linspace(-2, 2, 200)\n",
    "yy = f(xx)\n",
    "plt.plot(xx, yy)\n",
    "pass"
   ]
  },
  {
   "cell_type": "code",
   "execution_count": 6,
   "metadata": {},
   "outputs": [
    {
     "data": {
      "text/plain": [
       "     fun: -0.6174466420454399\n",
       "    nfev: 48\n",
       "     nit: 43\n",
       " success: True\n",
       "       x: 0.4100466458688272"
      ]
     },
     "execution_count": 6,
     "metadata": {},
     "output_type": "execute_result"
    }
   ],
   "source": [
    "minimize_scalar(f, bracket=[-2,2], method='golden')"
   ]
  },
  {
   "cell_type": "code",
   "execution_count": 7,
   "metadata": {},
   "outputs": [
    {
     "data": {
      "text/plain": [
       "     fun: -0.6174466420454399\n",
       "    nfev: 18\n",
       "     nit: 14\n",
       " success: True\n",
       "       x: 0.41004664550417785"
      ]
     },
     "execution_count": 7,
     "metadata": {},
     "output_type": "execute_result"
    }
   ],
   "source": [
    "minimize_scalar(f, bracket=[-2,2], method='brent')"
   ]
  },
  {
   "cell_type": "code",
   "execution_count": 11,
   "metadata": {},
   "outputs": [
    {
     "data": {
      "text/plain": [
       "     fun: -0.6174466420387144\n",
       " message: 'Solution found.'\n",
       "    nfev: 12\n",
       "  status: 0\n",
       " success: True\n",
       "       x: 0.410045697611525"
      ]
     },
     "execution_count": 11,
     "metadata": {},
     "output_type": "execute_result"
    }
   ],
   "source": [
    "minimize_scalar(f, bounds=[-2, 2], method='bounded')"
   ]
  },
  {
   "cell_type": "markdown",
   "metadata": {},
   "source": [
    "Методы `golden` и `brent` могут выскочить за границы интервала, на котором ищется минимум.\n",
    "Если мы ищем минимум функции на отрезке, то в этом случае необходимо использовать метод `bounded`\n",
    "Например, рассмотрим следующую функцию"
   ]
  },
  {
   "cell_type": "code",
   "execution_count": 8,
   "metadata": {},
   "outputs": [],
   "source": [
    "def f2(x):\n",
    "    return (x**3)+(x**2)+x-2"
   ]
  },
  {
   "cell_type": "code",
   "execution_count": 9,
   "metadata": {},
   "outputs": [
    {
     "data": {
      "image/png": "[encoded data removed]",
      "text/plain": [
       "<Figure size 432x288 with 1 Axes>"
      ]
     },
     "metadata": {
      "needs_background": "light"
     },
     "output_type": "display_data"
    }
   ],
   "source": [
    "xx = np.linspace(-2, 2, 200)\n",
    "yy = f2(xx)\n",
    "plt.plot(xx, yy)\n",
    "pass"
   ]
  },
  {
   "cell_type": "code",
   "execution_count": 10,
   "metadata": {},
   "outputs": [
    {
     "data": {
      "text/plain": [
       "     fun: -7.999949342096109\n",
       " message: 'Solution found.'\n",
       "    nfev: 28\n",
       "  status: 0\n",
       " success: True\n",
       "       x: -1.999994371326411"
      ]
     },
     "execution_count": 10,
     "metadata": {},
     "output_type": "execute_result"
    }
   ],
   "source": [
    "minimize_scalar(f2, bounds=[-2, 2], method='bounded')"
   ]
  },
  {
   "cell_type": "code",
   "execution_count": null,
   "metadata": {},
   "outputs": [],
   "source": []
  }
 ],
 "metadata": {
  "kernelspec": {
   "display_name": "Python 3",
   "language": "python",
   "name": "python3"
  },
  "language_info": {
   "codemirror_mode": {
    "name": "ipython",
    "version": 3
   },
   "file_extension": ".py",
   "mimetype": "text/x-python",
   "name": "python",
   "nbconvert_exporter": "python",
   "pygments_lexer": "ipython3",
   "version": "3.7.3"
  }
 },
 "nbformat": 4,
 "nbformat_minor": 1
}
