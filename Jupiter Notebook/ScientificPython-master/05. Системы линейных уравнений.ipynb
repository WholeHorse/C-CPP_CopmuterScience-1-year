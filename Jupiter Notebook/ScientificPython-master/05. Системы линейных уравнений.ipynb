{
 "cells": [
  {
   "cell_type": "code",
   "execution_count": 1,
   "metadata": {},
   "outputs": [],
   "source": [
    "import numpy as np\n",
    "from numpy import random\n",
    "from scipy import linalg\n",
    "import matplotlib.pyplot as plt\n",
    "%matplotlib inline"
   ]
  },
  {
   "cell_type": "markdown",
   "metadata": {},
   "source": [
    "# Системы линейных уравнений\n",
    "\n",
    "Рассмотрим *систему линейных уравнений* (с.л.у.)\n",
    "$$\n",
    "Ax = b,\n",
    "$$\n",
    "где $A$ – квадратная матрица порядка $n$, и $b$ – столбец высоты $n$.\n",
    "Будем также считать, что матрица $A$ невырождена, т.е. ${\\rm det} A \\ne 0$.\n",
    "В этом случае, мы знаем, решение с.л.у. существует и единственно. \n",
    "На практике очень часто возникают такие системы."
   ]
  },
  {
   "cell_type": "markdown",
   "metadata": {},
   "source": [
    "Решить с.л.у. можно с помощью функции `scipy.linalg.solve`:"
   ]
  },
  {
   "cell_type": "code",
   "execution_count": 2,
   "metadata": {},
   "outputs": [
    {
     "data": {
      "text/plain": [
       "array([-1.,  2., -1.])"
      ]
     },
     "execution_count": 2,
     "metadata": {},
     "output_type": "execute_result"
    }
   ],
   "source": [
    "A = np.array([[1, 2, 3], [4, 5, 1], [2, 4, 1]])\n",
    "b = np.array([0, 5, 5])\n",
    "x = linalg.solve(A, b)\n",
    "x"
   ]
  },
  {
   "cell_type": "markdown",
   "metadata": {},
   "source": [
    "Сделаем проверку:"
   ]
  },
  {
   "cell_type": "code",
   "execution_count": 3,
   "metadata": {},
   "outputs": [
    {
     "data": {
      "text/plain": [
       "array([0., 5., 5.])"
      ]
     },
     "execution_count": 3,
     "metadata": {},
     "output_type": "execute_result"
    }
   ],
   "source": [
    "A@x"
   ]
  },
  {
   "cell_type": "markdown",
   "metadata": {},
   "source": [
    "В функции `scipy.linalg.solve` специальный вариант *метода Гаусса* для решения с.л.у. – так называемое $LU$-*разложение*."
   ]
  },
  {
   "cell_type": "markdown",
   "metadata": {},
   "source": [
    "Также посмотрим на величину определителя:"
   ]
  },
  {
   "cell_type": "code",
   "execution_count": 4,
   "metadata": {},
   "outputs": [
    {
     "data": {
      "text/plain": [
       "15.000000000000002"
      ]
     },
     "execution_count": 4,
     "metadata": {},
     "output_type": "execute_result"
    }
   ],
   "source": [
    "linalg.det(A)"
   ]
  },
  {
   "cell_type": "markdown",
   "metadata": {},
   "source": [
    "Разумеется, точное значение определителя равно $15$. Пренебрежимая ошибка возникла в результате округления в процессе вычисления определителя."
   ]
  },
  {
   "cell_type": "markdown",
   "metadata": {},
   "source": [
    "Альтернативный способ найти решение с.л.у. – метод обратной матрицы:\n",
    "$$\n",
    "x = A^{-1}b.\n",
    "$$\n",
    "Обратную матрицу можно найти с помощью функции `scipy.linalg.inv`:"
   ]
  },
  {
   "cell_type": "code",
   "execution_count": 5,
   "metadata": {},
   "outputs": [
    {
     "data": {
      "text/plain": [
       "array([[ 0.06666667,  0.66666667, -0.86666667],\n",
       "       [-0.13333333, -0.33333333,  0.73333333],\n",
       "       [ 0.4       ,  0.        , -0.2       ]])"
      ]
     },
     "execution_count": 5,
     "metadata": {},
     "output_type": "execute_result"
    }
   ],
   "source": [
    "linalg.inv(A)"
   ]
  },
  {
   "cell_type": "code",
   "execution_count": 6,
   "metadata": {},
   "outputs": [
    {
     "data": {
      "text/plain": [
       "array([-1.,  2., -1.])"
      ]
     },
     "execution_count": 6,
     "metadata": {},
     "output_type": "execute_result"
    }
   ],
   "source": [
    "linalg.inv(A)@b"
   ]
  },
  {
   "cell_type": "markdown",
   "metadata": {},
   "source": [
    "Вычисление обратной матрицы требует большего времени, чем собственно нахождение решения с.л.у., поэтому на практике к методу обратной матрицы прибегают достаточно редко."
   ]
  },
  {
   "cell_type": "markdown",
   "metadata": {},
   "source": [
    "## Нормы векторов\n",
    "\n",
    "*Норма* в пространстве ${\\bf R}^n$ – это произвольная функция, ставящая в соответствие каждому вектору $x \\in {\\bf R}^n$ неотрицательное вещественное число обозначаемое $\\|x\\|$ или $|x|$, так, что\n",
    "\n",
    "* $\\|x\\| \\ge 0$, причем $\\|x\\| = 0$ тогда и только тогда, когда $x=0$;\n",
    "* $\\|\\alpha\\cdot x\\| = |\\alpha| \\cdot \\|x\\|$ для любого числа (скаляра) $\\alpha$; \n",
    "* $\\|x + y\\| \\le \\|x\\| + \\|y\\|$ (*неравенство треугольника*)\n",
    "\n",
    "для любых векторов $x$, $y$ и любого числа $\\alpha$.\n",
    "\n",
    "Норма вектора характеризует, насколько компоненты вектора велики по абсолютному значению (модулю).\n",
    "Норма играет в пространстве ${\\bf R}^n$ примерно ту же роль, что модуль для вещественных чисел.\n",
    "\n",
    "Примером нормы в арифметическом пространстве может служить функция (*норма Минковского*)\n",
    "$$\n",
    "\\|x\\|_p = (|x_1|^p + |x_2|^p + \\dots + |x_n|^p)^{1/p}, \n",
    "$$\n",
    "где $x=(x_1,x_2,\\dots,x_n)^{\\rm T}$, $p\\ge 1$. При $p=1,2$ и при $p\\to\\infty$ получаем соответственно *манхеттенскую* $\\|x\\|_1$, *евклидову* \n",
    "$\\|x\\|_2$ и *чебышеву* $\\|x\\|_{\\infty}$ нормы,\n",
    "которые чаще других используются на практике:\n",
    "\n",
    "* $\\|x\\|_1 = |x_1| + |x_2| + \\dots + |x_n|$, \n",
    "* $\\|x\\|_2 = \\sqrt{|x_1|^2 + |x_2|^2 + \\dots + |x_n|^2}= \\sqrt{x^{\\rm T} x}$, \n",
    "* $\\|x\\|_{\\infty} = \\max\\{ |x_1|, |x_2|, \\dots , |x_n| \\}$.\n",
    "\n",
    "Если в ${\\bf R}^n$ введена норма, то в ${\\bf R}^n$ можно определить понятие *расстояния* между векторами (точками) как норму разности между этими векторами:\n",
    "$$\n",
    "\\rho(x, y) = \\|x-y\\|.\n",
    "$$\n",
    "В частности, если используется евклидова норма, то расстояние – это (обычное) *евклидово расстояние*:\n",
    "$$\n",
    "\\rho_2(x, y) = \\|x-y\\|_2 = \\sqrt{\\sum_{j=1}^n (x_j - y_j)^2}.\n",
    "$$"
   ]
  },
  {
   "cell_type": "markdown",
   "metadata": {},
   "source": [
    "Вычислить норму вектора можно с помощью функции `scipy.linalg.norm`. По умолчанию вычисляется евклидова норма:"
   ]
  },
  {
   "cell_type": "code",
   "execution_count": 7,
   "metadata": {},
   "outputs": [
    {
     "data": {
      "text/plain": [
       "3.0"
      ]
     },
     "execution_count": 7,
     "metadata": {},
     "output_type": "execute_result"
    }
   ],
   "source": [
    "x = np.array([2, -2, -1])\n",
    "linalg.norm(x)"
   ]
  },
  {
   "cell_type": "markdown",
   "metadata": {},
   "source": [
    "В качестве второго параметра можно указать значение $p$:"
   ]
  },
  {
   "cell_type": "code",
   "execution_count": 8,
   "metadata": {},
   "outputs": [
    {
     "data": {
      "text/plain": [
       "(5.0, 3.0, 2.0)"
      ]
     },
     "execution_count": 8,
     "metadata": {},
     "output_type": "execute_result"
    }
   ],
   "source": [
    "linalg.norm(x, 1), linalg.norm(x, 2), linalg.norm(x, np.Inf)"
   ]
  },
  {
   "cell_type": "markdown",
   "metadata": {},
   "source": [
    "Какую конкретно норму использовать – зависит от приложения, но часто это не столь важно и можно использовать любую норму."
   ]
  },
  {
   "cell_type": "markdown",
   "metadata": {},
   "source": [
    "## Ошибки при решении с.л.у.\n",
    "\n",
    "Норма вектора позволяет ввести понятие абсолютной и относительной ошибок при приближении одного вектора другим. Здесь действуем по аналогии со скалярами (обычными числами), но вместо абсолютных значений рассматриваем нормы.\n",
    "\n",
    "Пусть $x$ – некоторый вектор в ${\\bf R}^n$, а $\\widetilde{x}$ – другой вектор в ${\\bf R}^n$, рассматриваемый как приближение к $x$. Тогда *абсолютной ошибкой* называется число\n",
    "$$\n",
    "   \\|\\Delta x\\| = \\|\\widetilde{x} - x\\|,\n",
    "$$\n",
    "а *относительной ошибкой* - число\n",
    "$$\n",
    "   \\frac{\\|\\Delta x\\|}{\\|x\\|} = \\frac{\\|\\widetilde{x} - x\\|}{\\|x\\|}.\n",
    "$$\n",
    "\n",
    "В частности, если в качестве нормы мы берем манхеттеновскую норму, то абсолютная ошибка – это сумма всех ошибок в каждой компоненте, а если рассматривается чебышева норма, то абсолютная ошибка – максимальная из ошибок по всем компонентам."
   ]
  },
  {
   "cell_type": "markdown",
   "metadata": {},
   "source": [
    "Проведем небольшой вычислительный эксперимент. Для этого сгенерируем случайную матрицу $A$ порядка $n=1000$, случайный вектор $x_{\\rm prec}$ и по ним построим правую часть $b = Ax_{\\rm prec}$. Построенную таким образом с.л.у. решим с помощью `scipy.linalg.solve`. Вычисленное решение $x_{\\rm comp}$ теперь мы можем сравнить с точным решением $x_{\\rm prec}$:"
   ]
  },
  {
   "cell_type": "code",
   "execution_count": 9,
   "metadata": {},
   "outputs": [
    {
     "data": {
      "text/plain": [
       "6.455001914632767e-13"
      ]
     },
     "execution_count": 9,
     "metadata": {},
     "output_type": "execute_result"
    }
   ],
   "source": [
    "n = 1000\n",
    "A = random.rand(n, n)\n",
    "x_prec = random.rand(n)\n",
    "b = A@x_prec\n",
    "x_comp = linalg.solve(A, b)\n",
    "linalg.norm(x_comp - x_prec)/linalg.norm(x_prec)"
   ]
  },
  {
   "cell_type": "markdown",
   "metadata": {},
   "source": [
    "Получилась относительная ошибка порядка $10^{-13}$, что означает, что компоненты решения содержат примерно по $13$ верных значащих цифр. Это совсем неплохо для такой большой системы. \n",
    "\n",
    "Попробуйте изменить (как уменьшить, так и увеличить) значение $n$ и проследите, как меняется точность решения и время, требуемое для его нахождения."
   ]
  },
  {
   "cell_type": "markdown",
   "metadata": {},
   "source": [
    "Теперь вместо случайных с.л.у. рассмотрим систему с матрицей специального вида.\n",
    "Матрица $H_n=(h_{ij})$ порядка $n$ с элементами\n",
    "$$\n",
    "h_{ij}=\\frac{1}{i+j-1}\\quad (i=1,\\dots, n; j=1,\\dots, n)\n",
    "$$\n",
    "называется *матрицей Гильберта*.\n",
    "\n",
    "Матрицу Гильберта заданного порядка можно построить с помощью функции `scipy.linalg.hilbert`:"
   ]
  },
  {
   "cell_type": "code",
   "execution_count": 10,
   "metadata": {},
   "outputs": [
    {
     "data": {
      "text/plain": [
       "array([[1.        , 0.5       , 0.33333333, 0.25      ],\n",
       "       [0.5       , 0.33333333, 0.25      , 0.2       ],\n",
       "       [0.33333333, 0.25      , 0.2       , 0.16666667],\n",
       "       [0.25      , 0.2       , 0.16666667, 0.14285714]])"
      ]
     },
     "execution_count": 10,
     "metadata": {},
     "output_type": "execute_result"
    }
   ],
   "source": [
    "linalg.hilbert(4)"
   ]
  },
  {
   "cell_type": "markdown",
   "metadata": {},
   "source": [
    "Уже при $n=10$ получаем ошибку порядка $10^{-5}$:"
   ]
  },
  {
   "cell_type": "code",
   "execution_count": 11,
   "metadata": {},
   "outputs": [
    {
     "data": {
      "text/plain": [
       "0.00016912053480685986"
      ]
     },
     "execution_count": 11,
     "metadata": {},
     "output_type": "execute_result"
    }
   ],
   "source": [
    "n = 10\n",
    "H = linalg.hilbert(n)\n",
    "x_prec = random.rand(n)\n",
    "b = H@x_prec\n",
    "x_comp = linalg.solve(H, b)\n",
    "linalg.norm(x_comp - x_prec)/linalg.norm(x_prec)"
   ]
  },
  {
   "cell_type": "markdown",
   "metadata": {},
   "source": [
    "При $n=11$ ошибка будет около $10^{-3}$, \n",
    "при $n=12$ – около $10^{-2}$.\n",
    "а при $n=13$ – около $10^{-1}$.\n",
    "При $n=14$ относительная ошибка превосходит $1$, что означает, что в ответе (по некоторым компонентам) у нас нет ни одной верной значащей цифры!\n",
    "\n",
    "Результат может показаться удивительным, так как порядок системы чрезвычайно мал.\n",
    "\n",
    "Объяснение данного явления – в *плохой обусловленности* матрицы Гильберта (а не в методе Гаусса!).\n",
    "Давайте подробно разберемся в этом вопросе."
   ]
  },
  {
   "cell_type": "markdown",
   "metadata": {},
   "source": [
    "## Матричные нормы\n",
    "\n",
    "Наряду с понятие векторных норма вводится понятие матричных норм.\n",
    "Матричной нормой называется любая функция, ставящая в соответствие каждой матрице $A\\in{\\rm R}^{n\\times n}$ неотрицательное вещественное число $\\|A\\|$, так, что\n",
    "\n",
    "* $\\|A\\| \\ge 0$, причем $\\|A\\| = 0$ тогда и только тогда, когда $A=0$;\n",
    "* $\\|\\alpha\\cdot A\\| = |\\alpha| \\cdot \\|A\\|$ для любого числа (скаляра) $\\alpha$; \n",
    "* $\\|A + B\\| \\le \\|A\\| + \\|B\\|$ (*неравенство треугольника*);\n",
    "* $\\|A\\cdot B\\| \\le \\| A\\| \\cdot \\| B\\|$\n",
    "\n",
    "для любых матриц $A$, $B$ и любого числа $\\alpha$.\n",
    "\n",
    "Матричную норму $\\|A\\|$, определенную соотношением\n",
    "$$\n",
    "\\|A\\| = \\max_{x\\ne 0} \\frac{\\|A x\\|}{\\|x\\|} = \\max_{\\|x\\| = 1} \\|Ax\\|,\n",
    "$$\n",
    "называют *подчиненной* векторной норме $\\|x\\|$.\n",
    "Из этого определения, в частности, следует, что для любой квадратной матрицы $A$ и любого вектора $x$ справедливо\n",
    "$\\|Ax\\| \\le \\|A\\| \\cdot \\|x\\|$.\n",
    "\n",
    "Матричная норма имеет следующую простую геометрическую интерпретацию.\n",
    "Говорят, что вектор $Ax$ получается *в результате действия матрицей* $A$ *на вектор* $x$ (или в результате применения к вектору $x$ линейного оператора, заданного матрицей $A$).\n",
    "Таким образом, матричная норма показывает, в какое максимальное количество раз может увеличиться норма вектора $x$ при действии на него матрицей $A$. В связи с этим норму матрицы можно назвать еще ее *максимальным растяжением*.\n",
    "\n",
    "\n",
    "Матричная норма, подчиненная норме $\\|x\\|_p$, обозначается $\\|A\\|_p$. Можно доказать, что\n",
    "* $\\|A\\|_1 = \\max\\limits_j \\sum\\limits_{i=1}^n |a_{ij}|$ (*манхеттеновская* норма);\n",
    "* $\\|A\\|_2 = \\max\\limits_j \\sqrt{\\lambda_j (A^{\\rm T}A)}$, где $\\lambda_j (A^{\\rm T}A)$ $(j=1,2,\\dots,n)$ – собственные числа матрицы $A^{\\rm T}A$; матричную норму $\\|A\\|_2$ обычно называют *спектральной* (а не евклидовой);\n",
    "* $\\|A\\|_{\\infty} = \\max\\limits_i \\sum\\limits_{j=1}^n |a_{ij}|$ (*чебышева* норма)."
   ]
  },
  {
   "cell_type": "markdown",
   "metadata": {},
   "source": [
    "Матричные нормы можно вычислить с помощью той же функции `norm`, что и векторные нормы:"
   ]
  },
  {
   "cell_type": "code",
   "execution_count": 12,
   "metadata": {},
   "outputs": [
    {
     "data": {
      "text/plain": [
       "array([[ 3,  1, -3],\n",
       "       [-1,  0,  2],\n",
       "       [ 2,  1,  3]])"
      ]
     },
     "execution_count": 12,
     "metadata": {},
     "output_type": "execute_result"
    }
   ],
   "source": [
    "A = np.array([[3, 1, -3], [-1, 0, 2], [2, 1, 3]])\n",
    "A"
   ]
  },
  {
   "cell_type": "code",
   "execution_count": 13,
   "metadata": {},
   "outputs": [
    {
     "data": {
      "text/plain": [
       "(8.0, 4.962439804936852, 7.0)"
      ]
     },
     "execution_count": 13,
     "metadata": {},
     "output_type": "execute_result"
    }
   ],
   "source": [
    "linalg.norm(A, 1), linalg.norm(A, 2), linalg.norm(A, np.Inf)"
   ]
  },
  {
   "cell_type": "markdown",
   "metadata": {},
   "source": [
    "## Число обусловленности матрицы\n",
    "\n",
    "*Числом обусловленности*\n",
    "невырожденной матрицы $A$ называется величина\n",
    "$$\n",
    "{\\rm cond} A =  \\| A \\| \\cdot \\| A^{-1} \\|.\n",
    "$$\n",
    "Если матрица $A$ вырождена, то полагают ${\\rm cond} A = \\infty$.\n",
    "Из определения следует, что если матричная норма подчинена векторной, то\n",
    "$$\n",
    "{\\rm cond} A =  {\\max_{x\\ne 0} \\frac{\\|A x\\|}{\\|x\\|}} \\left/ \\,{\\min_{x\\ne 0}\\frac{\\|A x\\|}{\\|x\\|}} \\right..\n",
    "$$\n",
    "Таким образом, число обусловленности – это отношение максимального растяжения матрицы к ее минимальному растяжению.\n",
    "\n",
    "Пусть в качестве матричной нормы $\\|A\\|$ используется\n",
    "$\\|A\\|_p$. Тогда число обусловленности обозначим ${\\rm cond}_p A$. Чаще других\n",
    "используется матхеттенское, спектральное и чебышево числа\n",
    "обусловленности: ${\\rm cond}_1 A$, ${\\rm cond}_2 A$, ${\\rm cond}_{\\infty} A$ соответственно.\n",
    "\n",
    "Для спектрального числа обусловленности справедливо\n",
    "$$\n",
    "{\\rm cond}_2 A = \\sqrt{\\frac{\\max_j \\lambda_j(A^{\\rm T} A)}{\\min_j \\lambda_j(A^{\\rm T} A)}}.\n",
    "$$\n",
    "\n",
    "Число обсуловленности можно рассматривать как меру близости матрицы к вырожденной. **Чем больше число обусловленности, тем матрица ближе к вырожденной**. У вырожденных матриц число обусловленности равно бесконечности.\n"
   ]
  },
  {
   "cell_type": "code",
   "execution_count": 14,
   "metadata": {},
   "outputs": [
    {
     "data": {
      "text/plain": [
       "array([[ 3,  1, -3],\n",
       "       [-1,  0,  2],\n",
       "       [ 2,  1,  3]])"
      ]
     },
     "execution_count": 14,
     "metadata": {},
     "output_type": "execute_result"
    }
   ],
   "source": [
    "A"
   ]
  },
  {
   "cell_type": "markdown",
   "metadata": {},
   "source": [
    "В модуле `numpy.linalg` имеется функция `cond`, вычисляющая число обусловленности.\n",
    "В модуле `scipy.linalg` подобной функции нет.\n",
    "Создадим ее:"
   ]
  },
  {
   "cell_type": "code",
   "execution_count": 15,
   "metadata": {},
   "outputs": [],
   "source": [
    "def cond(A, p=2):\n",
    "    return linalg.norm(A, p)*linalg.norm(linalg.inv(A), p)"
   ]
  },
  {
   "cell_type": "code",
   "execution_count": 16,
   "metadata": {},
   "outputs": [
    {
     "data": {
      "text/plain": [
       "(44.0, 22.47352389341129, 43.750000000000014)"
      ]
     },
     "execution_count": 16,
     "metadata": {},
     "output_type": "execute_result"
    }
   ],
   "source": [
    "cond(A, 1), cond(A, 2), cond(A, np.Inf)"
   ]
  },
  {
   "cell_type": "markdown",
   "metadata": {},
   "source": [
    "Обратите внимание на величину числа обусловленности случайной матрицы и матрицы Гильберта одного порядка:"
   ]
  },
  {
   "cell_type": "code",
   "execution_count": 17,
   "metadata": {},
   "outputs": [
    {
     "data": {
      "text/plain": [
       "89.02201150065628"
      ]
     },
     "execution_count": 17,
     "metadata": {},
     "output_type": "execute_result"
    }
   ],
   "source": [
    "n = 10\n",
    "A = random.rand(n, n)\n",
    "cond(A)"
   ]
  },
  {
   "cell_type": "code",
   "execution_count": 18,
   "metadata": {},
   "outputs": [
    {
     "data": {
      "text/plain": [
       "16024253208221.576"
      ]
     },
     "execution_count": 18,
     "metadata": {},
     "output_type": "execute_result"
    }
   ],
   "source": [
    "H = linalg.hilbert(n)\n",
    "cond(H)"
   ]
  },
  {
   "cell_type": "markdown",
   "metadata": {},
   "source": [
    "## Решение возмущенной системы\n",
    "\n",
    "Наряду с исходной с.л.у. $Ax=b$ рассмотрим *возмущенную* с.л.у. $Ax=b+\\Delta b$,\n",
    "где $\\Delta b$ – вектор-столбец.\n",
    "Если $x$ – точное решение исходной системы, то пусть $x+\\Delta x$ – точное решение возмущенной системы, т.е.\n",
    "$$\n",
    "A (x + \\Delta x) = b + \\Delta b.\n",
    "$$\n",
    "\n",
    "Наша цель – установить, как сильно относительная величина возмущения $\\Delta b$ может повлиять на $\\Delta x$.\n",
    "\n",
    "Имеем \n",
    "$$\n",
    "Ax=b, \n",
    "\\qquad\n",
    "\\text{откуда}\n",
    "\\qquad\n",
    "\\|A\\|\\cdot\\|x\\|\\ge\\|b\\|,\n",
    "\\qquad\n",
    "\\text{поэтому}\n",
    "\\qquad\n",
    "\\frac{1}{\\|x\\|}\\le \\frac{\\|A\\|}{\\|b\\|}.\n",
    "$$\n",
    "Вычитая из равенства $A (x + \\Delta x) = b + \\Delta b$ равенство $Ax=b$, получаем\n",
    "$$\n",
    "A\\cdot \\Delta x = \\Delta b, \n",
    "\\qquad\n",
    "\\text{откуда}\n",
    "\\qquad\n",
    "\\Delta x = A^{-1} \\Delta b, \n",
    "\\qquad\n",
    "\\text{поэтому}\n",
    "\\qquad\n",
    "\\|\\Delta x\\| \\le \\|A^{-1}\\| \\cdot \\|\\Delta b\\|.\n",
    "$$\n",
    "\n",
    "Итак, имеем\n",
    "$$\n",
    "\\frac{\\|\\Delta x\\|}{\\| x \\|} \\le \\|A\\|\\cdot \\|A^{-1}\\| \\cdot \\frac{\\|\\Delta b\\|}{\\|b\\|}.\n",
    "$$\n",
    "\n",
    "Обратим внимание, что $\\|A\\|\\cdot \\|A^{-1}\\|$ это ${\\rm cond} A$, поэтому\n",
    "$$\n",
    "\\frac{\\|\\Delta x\\|}{\\| x \\|} \\le {\\rm cond} A \\cdot \\frac{\\|\\Delta b\\|}{\\|b\\|},\n",
    "$$\n",
    "т.е.\n",
    "относительная ошибка $\\|\\Delta x\\| / \\| x \\|$ в решении с.л.у. не превосходит произведения числа обусловленности ${\\rm cond} A$ на относительное возмущение $\\|\\Delta b\\| / \\|b\\|$ в правой части этой системы.\n",
    "Можно доказать, что полученное неравенство *точное*, т.е. для любой матрицы $A$ и любого вектора $b$ существует соответствующее возмущение $\\Delta b$, при котором неравенство обращается в равенство.\n",
    "\n",
    "Аналогичное утверждение справделиво и для возмущения в самой матрице $A$. Пусть $x+\\Delta x$ - точное решение системы\n",
    "$(A+\\Delta A) x = b$, тогда можно показать, что\n",
    "$$\n",
    "\\frac{\\| \\Delta x \\|}{\\| x \\|} \\le {\\rm cond} A \\cdot \n",
    "  \\left( \n",
    "    \\frac{\\| \\Delta A \\|}{\\| A \\|} + o\\left(\\frac{\\| \\Delta A \\|}{\\| A \\|}\\right)\n",
    "  \\right),\n",
    "\\qquad\n",
    "\\frac{\\| \\Delta x \\|}{\\| x + \\Delta x\\|} \\le {\\rm cond} A \\cdot \\frac{\\| \\Delta A \\|}{\\| A \\|}. \n",
    "$$ \n",
    "\n",
    "Таким образом, **число обусловленности играет роль коэффициента увеличения относительной ошибки**. Относительная ошибка в решении может быть в ${\\rm cond} A$ раз больше относительных возмущений в коэффициентах системы. \n",
    "\n",
    "Чем больше число обусловленности матрицы, тем более\n",
    "чувствительно решение системы по отношению к возмущению ее коэффициентов. \n",
    "Матрицы с большим числом обусловленности (и соответствующие с.л.у.)\n",
    "называются *плохо обусловленными*. \n",
    "Матрицы с небольшим числом обусловленности (и соответствующие с.л.у.)\n",
    "называются *хорошо обусловленными*. \n"
   ]
  },
  {
   "cell_type": "markdown",
   "metadata": {},
   "source": [
    "## Накопление ошибок округления\n",
    "\n",
    "В предыдущем разделе речь шла о точных решениях близких систем $Ax = b$ и $(A+\\Delta A) x = b+\\Delta b$.\n",
    "\n",
    "Теперь рассмотрим решение с.л.у. в плавающей арифметике, т.е. в арифметике с ошибками округления.\n",
    "\n",
    "Даже если коэффициенты системы были записаны абсолютно точно, то ошибки округления будут накапливаться во время работы\n",
    "алгоритма. Для анализа того, как сильно эти ошибки повлияют на ответ, можно попытаться **решение с.л.у. $Ax=b$, построенное алгоритмом в плавающей арифметике, представить как точное решение некоторой возмущенной с.л.у. $(A+\\Delta A)x=b+\\Delta b$**. Возмущения $\\Delta A$ и $\\Delta b$ при этом называются *эквивалентными возмущениями*. Такой подход к анализу алгоритмов называется *обратным анализом ошибок*.\n",
    "\n",
    "Интуиция нам подсказывает, что каков бы ним был алгоритм решения с.л.у., эквивалентное возмущение не должно быть меньше машинного эпсилон $\\varepsilon_{\\rm M}$. В частности, **для плохо обусловленных систем в арифметике с плавающей запятой решение не может быть найдено с хорошей точностью никаким алгоритмом**.\n",
    "\n",
    "Оказывается, что в методе Гаусса с выбором ведущего элемента по столбцу эквивалентное возмущение примерно равно $C\\cdot \\varepsilon_{\\rm M}$, где $C$ – некоторая константа, обычно не сильно превосходящая $1$.\n",
    "Таким образом,\n",
    "$$\n",
    "\\frac{\\| \\Delta x \\|}{\\| x \\|} \\approx C\\cdot {\\rm cond} A \\cdot \\varepsilon_{\\rm M}.\n",
    "$$\n",
    "\n",
    "Например, при $\\varepsilon_{\\rm M} \\approx 10^{-16}$ и ${\\rm cond} A \\approx\n",
    "10^{14}$ получим относительную ошибку около ${\\rm cond} A \\cdot \\varepsilon_{\\rm M}\\approx 10^{-2}$, т.е. примерно $2$ правильные\n",
    "значащие цифры. \n",
    "\n",
    "\n"
   ]
  },
  {
   "cell_type": "markdown",
   "metadata": {},
   "source": [
    "Вернемся к примерам выше. Вначале рассмотрим с.л.у. со случайной матрицей:"
   ]
  },
  {
   "cell_type": "code",
   "execution_count": 19,
   "metadata": {},
   "outputs": [
    {
     "data": {
      "text/plain": [
       "301841.93884705316"
      ]
     },
     "execution_count": 19,
     "metadata": {},
     "output_type": "execute_result"
    }
   ],
   "source": [
    "n = 1000\n",
    "random.seed(42)\n",
    "A = random.rand(n, n)\n",
    "cond(A)"
   ]
  },
  {
   "cell_type": "markdown",
   "metadata": {},
   "source": [
    "Число обусловленности равно примерно $10^5$ (хорошо обусловленная матрица). \n",
    "Следовательно, относительная ошибка должна составлять приблизительно $10^{-11}$.\n",
    "Проверим это:"
   ]
  },
  {
   "cell_type": "code",
   "execution_count": 20,
   "metadata": {},
   "outputs": [
    {
     "data": {
      "text/plain": [
       "2.2311899589569595e-12"
      ]
     },
     "execution_count": 20,
     "metadata": {},
     "output_type": "execute_result"
    }
   ],
   "source": [
    "random.seed(42)\n",
    "x_prec = random.rand(n)\n",
    "b = A@x_prec\n",
    "x_comp = linalg.solve(A, b)\n",
    "linalg.norm(x_comp - x_prec)/linalg.norm(x_prec)"
   ]
  },
  {
   "cell_type": "markdown",
   "metadata": {},
   "source": [
    "Теперь рассмотрим плохо обусловленную систему:"
   ]
  },
  {
   "cell_type": "code",
   "execution_count": 21,
   "metadata": {},
   "outputs": [
    {
     "data": {
      "text/plain": [
       "16024253208221.576"
      ]
     },
     "execution_count": 21,
     "metadata": {},
     "output_type": "execute_result"
    }
   ],
   "source": [
    "n = 10\n",
    "H = linalg.hilbert(n)\n",
    "cond(H)"
   ]
  },
  {
   "cell_type": "markdown",
   "metadata": {},
   "source": [
    "Число обусловленности равно примерно $10^{13}$ (плохо обусловленная матрица). \n",
    "Следовательно, относительная ошибка должна составлять приблизительно $10^{-3}$.\n",
    "Проверим это:"
   ]
  },
  {
   "cell_type": "code",
   "execution_count": 22,
   "metadata": {},
   "outputs": [
    {
     "data": {
      "text/plain": [
       "9.244407795694999e-05"
      ]
     },
     "execution_count": 22,
     "metadata": {},
     "output_type": "execute_result"
    }
   ],
   "source": [
    "random.seed(42)\n",
    "x_prec = random.rand(n)\n",
    "b = H@x_prec\n",
    "x_comp = linalg.solve(H, b)\n",
    "linalg.norm(x_comp - x_prec)/linalg.norm(x_prec)"
   ]
  },
  {
   "cell_type": "markdown",
   "metadata": {},
   "source": [
    "## Эксперимент. Случайные матрицы\n",
    "\n",
    "Построим графики зависимости числа обусловленности ${\\rm cond} A$, относительной точности решения $\\|\\Delta x\\|/\\|x\\|$ и относительной невязки $\\|Ax - b\\|/\\|b\\|$ для случайных с.л.у. $Ax=b$ от числа неизвестных."
   ]
  },
  {
   "cell_type": "code",
   "execution_count": 23,
   "metadata": {},
   "outputs": [],
   "source": [
    "n_vector = np.arange(10, 1000, 5)\n",
    "cond_array = []\n",
    "err_array = []\n",
    "discr_array = []\n",
    "random.seed(42)\n",
    "for n in n_vector:\n",
    "    A = random.rand(n, n)\n",
    "    c = cond(A)\n",
    "    cond_array.append(c)\n",
    "    x_prec = random.rand(n)\n",
    "    b = A @ x_prec\n",
    "    x_comp = linalg.solve(A, b)\n",
    "    err = linalg.norm(x_comp - x_prec)/linalg.norm(x_prec)\n",
    "    err_array.append(err)\n",
    "    discr = linalg.norm(A.dot(x_comp) - b)/linalg.norm(b)\n",
    "    discr_array.append(discr)"
   ]
  },
  {
   "cell_type": "code",
   "execution_count": 24,
   "metadata": {},
   "outputs": [
    {
     "data": {
      "image/png": "[encoded data removed]",
      "text/plain": [
       "<Figure size 432x288 with 1 Axes>"
      ]
     },
     "metadata": {
      "needs_background": "light"
     },
     "output_type": "display_data"
    }
   ],
   "source": [
    "plt.semilogy(n_vector, cond_array, '.')\n",
    "plt.title('Condition numbers')\n",
    "pass"
   ]
  },
  {
   "cell_type": "code",
   "execution_count": 25,
   "metadata": {},
   "outputs": [
    {
     "data": {
      "image/png": "[encoded data removed]",
      "text/plain": [
       "<Figure size 432x288 with 1 Axes>"
      ]
     },
     "metadata": {
      "needs_background": "light"
     },
     "output_type": "display_data"
    }
   ],
   "source": [
    "plt.semilogy(n_vector, err_array, '.')\n",
    "plt.title('Relative error')\n",
    "pass"
   ]
  },
  {
   "cell_type": "code",
   "execution_count": 26,
   "metadata": {},
   "outputs": [
    {
     "data": {
      "image/png": "[encoded data removed]",
      "text/plain": [
       "<Figure size 432x288 with 1 Axes>"
      ]
     },
     "metadata": {
      "needs_background": "light"
     },
     "output_type": "display_data"
    }
   ],
   "source": [
    "plt.semilogy(n_vector, discr_array, '.')\n",
    "plt.title('Discrepancies')\n",
    "pass"
   ]
  },
  {
   "cell_type": "markdown",
   "metadata": {},
   "source": [
    "Обратим внимание, что для случайных матриц число обусловленности растет не очень сильно. Для $n=1000$ оно достигает значения порядка $10^6$. Как следствие, получаем небольшие относительные ошиибки порядка $10^{-10}$. Относительные невязки не првеосходят по порядку величины $10^{-15}$."
   ]
  },
  {
   "cell_type": "markdown",
   "metadata": {},
   "source": [
    "## Эксперимент. Матрицы Гильберта\n",
    "\n",
    "Теперь проделаем то же самое с матрицами Гильберта."
   ]
  },
  {
   "cell_type": "code",
   "execution_count": 27,
   "metadata": {},
   "outputs": [
    {
     "name": "stderr",
     "output_type": "stream",
     "text": [
      "C:\\Users\\nikzolotykh\\AppData\\Local\\Continuum\\anaconda3\\lib\\site-packages\\ipykernel_launcher.py:12: LinAlgWarning: Ill-conditioned matrix (rcond=2.55091e-17): result may not be accurate.\n",
      "  if sys.path[0] == '':\n",
      "C:\\Users\\nikzolotykh\\AppData\\Local\\Continuum\\anaconda3\\lib\\site-packages\\ipykernel_launcher.py:12: LinAlgWarning: Ill-conditioned matrix (rcond=1.1721e-18): result may not be accurate.\n",
      "  if sys.path[0] == '':\n",
      "C:\\Users\\nikzolotykh\\AppData\\Local\\Continuum\\anaconda3\\lib\\site-packages\\ipykernel_launcher.py:12: LinAlgWarning: Ill-conditioned matrix (rcond=5.97124e-19): result may not be accurate.\n",
      "  if sys.path[0] == '':\n",
      "C:\\Users\\nikzolotykh\\AppData\\Local\\Continuum\\anaconda3\\lib\\site-packages\\ipykernel_launcher.py:12: LinAlgWarning: Ill-conditioned matrix (rcond=9.14407e-19): result may not be accurate.\n",
      "  if sys.path[0] == '':\n",
      "C:\\Users\\nikzolotykh\\AppData\\Local\\Continuum\\anaconda3\\lib\\site-packages\\ipykernel_launcher.py:12: LinAlgWarning: Ill-conditioned matrix (rcond=7.09847e-19): result may not be accurate.\n",
      "  if sys.path[0] == '':\n",
      "C:\\Users\\nikzolotykh\\AppData\\Local\\Continuum\\anaconda3\\lib\\site-packages\\ipykernel_launcher.py:12: LinAlgWarning: Ill-conditioned matrix (rcond=5.32825e-19): result may not be accurate.\n",
      "  if sys.path[0] == '':\n"
     ]
    }
   ],
   "source": [
    "n_vector = np.arange(1, 18)\n",
    "cond_array = []\n",
    "err_array = []\n",
    "discr_array = []\n",
    "random.seed(42)\n",
    "for n in n_vector:\n",
    "    A = linalg.hilbert(n)\n",
    "    c = cond(A)\n",
    "    cond_array.append(c)\n",
    "    x_prec = random.rand(n)\n",
    "    b = A @ x_prec\n",
    "    x_comp = linalg.solve(A, b)\n",
    "    err = linalg.norm(x_comp - x_prec)/linalg.norm(x_prec)\n",
    "    err_array.append(err)\n",
    "    discr = linalg.norm(A.dot(x_comp) - b)/linalg.norm(b)\n",
    "    discr_array.append(discr)"
   ]
  },
  {
   "cell_type": "markdown",
   "metadata": {},
   "source": [
    "Полученные предупреждения вызваны тем, что библиотека обрабатывала плохо обусловленные матрицы."
   ]
  },
  {
   "cell_type": "code",
   "execution_count": 28,
   "metadata": {},
   "outputs": [
    {
     "data": {
      "image/png": "[encoded data removed]",
      "text/plain": [
       "<Figure size 432x288 with 1 Axes>"
      ]
     },
     "metadata": {
      "needs_background": "light"
     },
     "output_type": "display_data"
    }
   ],
   "source": [
    "plt.semilogy(n_vector, cond_array, 'o')\n",
    "plt.title('Condition numbers')\n",
    "pass"
   ]
  },
  {
   "cell_type": "code",
   "execution_count": 29,
   "metadata": {},
   "outputs": [
    {
     "data": {
      "image/png": "[encoded data removed]",
      "text/plain": [
       "<Figure size 432x288 with 1 Axes>"
      ]
     },
     "metadata": {
      "needs_background": "light"
     },
     "output_type": "display_data"
    }
   ],
   "source": [
    "plt.semilogy(n_vector, err_array, 'o')\n",
    "plt.title('Relative error')\n",
    "pass"
   ]
  },
  {
   "cell_type": "code",
   "execution_count": 30,
   "metadata": {},
   "outputs": [
    {
     "data": {
      "image/png": "[encoded data removed]",
      "text/plain": [
       "<Figure size 432x288 with 1 Axes>"
      ]
     },
     "metadata": {
      "needs_background": "light"
     },
     "output_type": "display_data"
    }
   ],
   "source": [
    "plt.semilogy(n_vector, discr_array, 'o')\n",
    "plt.title('Discrepancies')\n",
    "pass"
   ]
  },
  {
   "cell_type": "markdown",
   "metadata": {},
   "source": [
    "Число обусловленности и относительная ошибка при решении с.л.у. с матрицами Гильберта растут экспоненциально от числа переменных. Кажущаяся остановка в росте на графике числа обусловленности при $n\\ge 14$ объясняется тем, что сами числа вычислены некорректно (в силу ошибок окргуления, накопленных из-за громадного числа обусловленности). Обратите внимание, что несмотря на огромные значения числа обусловленности и относительной ошибки величина невязки остается крайне малой - порядка $10^{16}$."
   ]
  },
  {
   "cell_type": "markdown",
   "metadata": {},
   "source": [
    "## Выводы\n",
    "\n",
    "* Решение с.л.у. – одна из самых частно возникающих на практике задач.\n",
    "* Число обусловленности ${\\rm cond} A = \\|A\\|\\cdot \\|A^{-1}\\|$ можно рассматривать как меру близости матрицы к вырожденной. Чем больше число обусловленности, тем матрица ближе к вырожденной. У вырожденных матриц число обусловленности равно бесконечности.\n",
    "* Число обусловленности это – мера чувствительности относительной ошибки в ответе по отношению к возмущению в исходных данных. Относительная ошибка в решении может быть в ${\\rm cond} A$ раз больше относительных возмущений в коэффициентах системы.\n",
    "* Относительная ошибка при решении с.л.у. методом Гаусса с выбором ведущего элемента по столбцу в плавающей арифметике приблизительно равна ${\\rm cond} A \\cdot \\varepsilon_{\\rm M}$.\n",
    "* Если с.л.у. плохо обусловлена (т.е. ${\\rm cond} A$ большое), то в плавающей арифметике ее нельзя точно решить никаким алгоритмом.\n",
    "* Метод Гаусса с выбором ведущего элемента по столбцу дает маленькую невязку даже для плохо обусловленных систем."
   ]
  }
 ],
 "metadata": {
  "kernelspec": {
   "display_name": "Python 3",
   "language": "python",
   "name": "python3"
  },
  "language_info": {
   "codemirror_mode": {
    "name": "ipython",
    "version": 3
   },
   "file_extension": ".py",
   "mimetype": "text/x-python",
   "name": "python",
   "nbconvert_exporter": "python",
   "pygments_lexer": "ipython3",
   "version": "3.7.3"
  }
 },
 "nbformat": 4,
 "nbformat_minor": 2
}
