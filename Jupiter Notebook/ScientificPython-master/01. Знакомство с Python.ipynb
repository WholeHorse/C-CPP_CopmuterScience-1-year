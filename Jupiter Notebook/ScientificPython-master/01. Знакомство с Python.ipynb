{
  "cells": [
    {
      "cell_type": "markdown",
      "metadata": {
        "colab_type": "text",
        "id": "view-in-github"
      },
      "source": [
        "<a href=\"https://colab.research.google.com/github/NikolaiZolotykh/MachineLearningCourse/blob/master/01.%20%D0%97%D0%BD%D0%B0%D0%BA%D0%BE%D0%BC%D1%81%D1%82%D0%B2%D0%BE%20%D1%81%20Python.ipynb\" target=\"_parent\"><img src=\"https://colab.research.google.com/assets/colab-badge.svg\" alt=\"Open In Colab\"/></a>"
      ]
    },
    {
      "cell_type": "markdown",
      "metadata": {
        "id": "awD_oBRJNOC0"
      },
      "source": [
        "# Python как калькулятор"
      ]
    },
    {
      "cell_type": "code",
      "execution_count": 1,
      "metadata": {
        "colab": {
          "base_uri": "https://localhost:8080/"
        },
        "id": "6ZGIKRtMNOC3",
        "outputId": "901131b1-e1f7-457d-9ebb-2738cd09b8cc"
      },
      "outputs": [
        {
          "data": {
            "text/plain": [
              "0.6666666666666666"
            ]
          },
          "execution_count": 1,
          "metadata": {},
          "output_type": "execute_result"
        }
      ],
      "source": [
        "2/3"
      ]
    },
    {
      "cell_type": "markdown",
      "metadata": {
        "id": "TYsm39eLNOC5"
      },
      "source": [
        "`_` - результат последней операции"
      ]
    },
    {
      "cell_type": "code",
      "execution_count": 8,
      "metadata": {
        "colab": {
          "base_uri": "https://localhost:8080/"
        },
        "id": "gqpsyIa8NOC5",
        "outputId": "596e78ca-c403-41d6-8fba-e8d81a6fc4e3"
      },
      "outputs": [
        {
          "data": {
            "text/plain": [
              "1.3333333333333333"
            ]
          },
          "execution_count": 8,
          "metadata": {},
          "output_type": "execute_result"
        }
      ],
      "source": [
        "_ * 2     "
      ]
    },
    {
      "cell_type": "code",
      "execution_count": 9,
      "metadata": {
        "colab": {
          "base_uri": "https://localhost:8080/"
        },
        "id": "BCdk8LU1NOC6",
        "outputId": "c7ec26c7-ba0e-4d03-c7d7-6e75f82d8e47"
      },
      "outputs": [
        {
          "data": {
            "text/plain": [
              "5"
            ]
          },
          "execution_count": 9,
          "metadata": {},
          "output_type": "execute_result"
        }
      ],
      "source": [
        "2 + 3"
      ]
    },
    {
      "cell_type": "code",
      "execution_count": 10,
      "metadata": {
        "colab": {
          "base_uri": "https://localhost:8080/"
        },
        "id": "lp_glbmENOC6",
        "outputId": "20820c68-ee4e-426b-dbdb-a5641e3a433e"
      },
      "outputs": [
        {
          "data": {
            "text/plain": [
              "-33.0"
            ]
          },
          "execution_count": 10,
          "metadata": {},
          "output_type": "execute_result"
        }
      ],
      "source": [
        "12*(34 - 56)/8"
      ]
    },
    {
      "cell_type": "code",
      "execution_count": 11,
      "metadata": {
        "colab": {
          "base_uri": "https://localhost:8080/"
        },
        "id": "AP4-HEs1NOC6",
        "outputId": "fc7f070f-e01f-4184-9016-904cbe2d299d"
      },
      "outputs": [
        {
          "data": {
            "text/plain": [
              "3.3333333333333335"
            ]
          },
          "execution_count": 11,
          "metadata": {},
          "output_type": "execute_result"
        }
      ],
      "source": [
        "10 / 3"
      ]
    },
    {
      "cell_type": "code",
      "execution_count": 12,
      "metadata": {
        "colab": {
          "base_uri": "https://localhost:8080/"
        },
        "id": "ABqi0e1HNOC7",
        "outputId": "e850b68b-0559-428e-c2c4-174c25cd6351"
      },
      "outputs": [
        {
          "data": {
            "text/plain": [
              "3.0000000000000004"
            ]
          },
          "execution_count": 12,
          "metadata": {},
          "output_type": "execute_result"
        }
      ],
      "source": [
        "3 + 0.0000000000000005"
      ]
    },
    {
      "cell_type": "code",
      "execution_count": 13,
      "metadata": {
        "colab": {
          "base_uri": "https://localhost:8080/"
        },
        "id": "bKZBr2C7NOC7",
        "outputId": "3403482b-d122-432c-8d38-e86c7f9d9074"
      },
      "outputs": [
        {
          "data": {
            "text/plain": [
              "True"
            ]
          },
          "execution_count": 13,
          "metadata": {},
          "output_type": "execute_result"
        }
      ],
      "source": [
        "3.0 == 3"
      ]
    },
    {
      "cell_type": "code",
      "execution_count": 14,
      "metadata": {
        "colab": {
          "base_uri": "https://localhost:8080/"
        },
        "id": "2IAhqEUMNOC8",
        "outputId": "e43020ef-1b3a-4ac3-91a2-ba179f19e7d6"
      },
      "outputs": [
        {
          "data": {
            "text/plain": [
              "1.0000000000000004"
            ]
          },
          "execution_count": 14,
          "metadata": {},
          "output_type": "execute_result"
        }
      ],
      "source": [
        "_ + .0000000000000005"
      ]
    },
    {
      "cell_type": "code",
      "execution_count": 15,
      "metadata": {
        "colab": {
          "base_uri": "https://localhost:8080/"
        },
        "id": "-xUH3N4-NOC8",
        "outputId": "8551c1b4-d19f-467a-8be9-0d3b16c92d40"
      },
      "outputs": [
        {
          "data": {
            "text/plain": [
              "3"
            ]
          },
          "execution_count": 15,
          "metadata": {},
          "output_type": "execute_result"
        }
      ],
      "source": [
        "10//3"
      ]
    },
    {
      "cell_type": "code",
      "execution_count": 16,
      "metadata": {
        "colab": {
          "base_uri": "https://localhost:8080/"
        },
        "id": "2jTEZ4fXNOC8",
        "outputId": "826cf086-3460-4309-a19b-a8ffc25718ab"
      },
      "outputs": [
        {
          "data": {
            "text/plain": [
              "2.0"
            ]
          },
          "execution_count": 16,
          "metadata": {},
          "output_type": "execute_result"
        }
      ],
      "source": [
        "10.5 // 3.6"
      ]
    },
    {
      "cell_type": "code",
      "execution_count": 17,
      "metadata": {
        "colab": {
          "base_uri": "https://localhost:8080/"
        },
        "id": "RDY7yM5GNOC9",
        "outputId": "70152a77-8acf-4f03-d2fc-91845a79f615"
      },
      "outputs": [
        {
          "data": {
            "text/plain": [
              "3.0"
            ]
          },
          "execution_count": 17,
          "metadata": {},
          "output_type": "execute_result"
        }
      ],
      "source": [
        "10 // 3."
      ]
    },
    {
      "cell_type": "code",
      "execution_count": 18,
      "metadata": {
        "colab": {
          "base_uri": "https://localhost:8080/"
        },
        "id": "j-SwfUJcNOC9",
        "outputId": "ef1c683e-dc09-459d-f7bd-017212882aca"
      },
      "outputs": [
        {
          "data": {
            "text/plain": [
              "-4"
            ]
          },
          "execution_count": 18,
          "metadata": {},
          "output_type": "execute_result"
        }
      ],
      "source": [
        "(-10)//3 "
      ]
    },
    {
      "cell_type": "markdown",
      "metadata": {
        "id": "5u6PEJcoNOC9"
      },
      "source": [
        "Остаток от деления:"
      ]
    },
    {
      "cell_type": "code",
      "execution_count": 19,
      "metadata": {
        "colab": {
          "base_uri": "https://localhost:8080/"
        },
        "id": "iZF2VtrkNOC9",
        "outputId": "9b2bf511-0816-4261-c41e-b03109911623"
      },
      "outputs": [
        {
          "data": {
            "text/plain": [
              "1"
            ]
          },
          "execution_count": 19,
          "metadata": {},
          "output_type": "execute_result"
        }
      ],
      "source": [
        "10 % 3         # Остаток от деления"
      ]
    },
    {
      "cell_type": "code",
      "execution_count": 20,
      "metadata": {
        "colab": {
          "base_uri": "https://localhost:8080/"
        },
        "id": "NmlAoszoNOC9",
        "outputId": "e3481f68-bec4-45e7-d24f-ce79bac5c35c"
      },
      "outputs": [
        {
          "data": {
            "text/plain": [
              "2"
            ]
          },
          "execution_count": 20,
          "metadata": {},
          "output_type": "execute_result"
        }
      ],
      "source": [
        "(-10) % 3       # Остаток от деления"
      ]
    },
    {
      "cell_type": "markdown",
      "metadata": {
        "id": "ue0Xx_psNOC-"
      },
      "source": [
        "$$a = qb + r, \\qquad 0\\le r \\le |b| - 1$$\n",
        "Например,\n",
        "$$\n",
        "-10 = (-4)\\times 3 + 2\n",
        "$$"
      ]
    },
    {
      "cell_type": "code",
      "execution_count": 21,
      "metadata": {
        "colab": {
          "base_uri": "https://localhost:8080/"
        },
        "id": "5tEy8fQUNOC-",
        "outputId": "861fb0ae-333f-4262-a07a-ce9f2840c8d7"
      },
      "outputs": [
        {
          "data": {
            "text/plain": [
              "22.91765149399039"
            ]
          },
          "execution_count": 21,
          "metadata": {},
          "output_type": "execute_result"
        }
      ],
      "source": [
        "3.5**2.5"
      ]
    },
    {
      "cell_type": "code",
      "execution_count": 22,
      "metadata": {
        "colab": {
          "base_uri": "https://localhost:8080/"
        },
        "id": "gfXgM6bxNOC-",
        "outputId": "d6688af5-710c-4204-86cd-b57a7c47010d"
      },
      "outputs": [
        {
          "data": {
            "text/plain": [
              "10000000000000000000000000000000000000000000000000000000000000000000000000000000000000000000000000000000000000000000000000000000000000000000000000000000000000000000000000000000000000000000000000000000000000000000000000000000000000000000000000000000000000000000000000000000000000000000000000000000000000000000000000000000000000000000000000000000000000000000000000000000000000000000000000000000000000000000000000000000000000000000000000000000000000000000000000000000000000000000000000000000000000000000000000000000000000000000000000000000000000000000000000000000000000000000000000000000000000000000000000000000000000000000000000000000000000000000000000000000000000000000000000000000000000000000000000000000000000000000000000000000000000000000000000000000000000000000000000000000000000000000000000000000000000000000000000000000000000000000000000000000000000000000000000000000000000000000000000000000000000000000000000000000000000000000000000000000000000000000000000000000000000000000000000000000000000000"
            ]
          },
          "execution_count": 22,
          "metadata": {},
          "output_type": "execute_result"
        }
      ],
      "source": [
        "10**1000"
      ]
    },
    {
      "cell_type": "code",
      "execution_count": 23,
      "metadata": {
        "colab": {
          "base_uri": "https://localhost:8080/"
        },
        "id": "OEEEtFTSNOC-",
        "outputId": "a3bbfe21-dc9f-476b-d23a-e2c9023e4307"
      },
      "outputs": [
        {
          "data": {
            "text/plain": [
              "1e+100"
            ]
          },
          "execution_count": 23,
          "metadata": {},
          "output_type": "execute_result"
        }
      ],
      "source": [
        "10.0**100"
      ]
    },
    {
      "cell_type": "code",
      "execution_count": 24,
      "metadata": {
        "colab": {
          "base_uri": "https://localhost:8080/"
        },
        "id": "SJMlXuvqNOC_",
        "outputId": "121369ca-addb-4058-8fba-e49cc6d37de7"
      },
      "outputs": [
        {
          "data": {
            "text/plain": [
              "1.4142135623730951"
            ]
          },
          "execution_count": 24,
          "metadata": {},
          "output_type": "execute_result"
        }
      ],
      "source": [
        "2 ** 0.5       # Возведение в степень"
      ]
    },
    {
      "cell_type": "code",
      "execution_count": 25,
      "metadata": {
        "colab": {
          "base_uri": "https://localhost:8080/"
        },
        "id": "1Hnass7oNOC_",
        "outputId": "167683ee-145d-4a0a-b9df-d1680bfc1d6f"
      },
      "outputs": [
        {
          "data": {
            "text/plain": [
              "1024"
            ]
          },
          "execution_count": 25,
          "metadata": {},
          "output_type": "execute_result"
        }
      ],
      "source": [
        "pow(2, 10)     # Можно и так"
      ]
    },
    {
      "cell_type": "code",
      "execution_count": 26,
      "metadata": {
        "colab": {
          "base_uri": "https://localhost:8080/"
        },
        "id": "O5Cm0dPXNOC_",
        "outputId": "a034b6da-1021-4e65-f209-5551a14b9d80"
      },
      "outputs": [
        {
          "data": {
            "text/plain": [
              "10000000000000000000000000000000000000000000000000000000000000000000000000000000000000000000000000000"
            ]
          },
          "execution_count": 26,
          "metadata": {},
          "output_type": "execute_result"
        }
      ],
      "source": [
        "10 ** 100      # Большая арифметика"
      ]
    },
    {
      "cell_type": "code",
      "execution_count": 27,
      "metadata": {
        "colab": {
          "base_uri": "https://localhost:8080/"
        },
        "id": "w5CbZiT4NOC_",
        "outputId": "d9493c03-55bd-4732-fcd1-10edc82e6a06"
      },
      "outputs": [
        {
          "data": {
            "text/plain": [
              "3322"
            ]
          },
          "execution_count": 27,
          "metadata": {},
          "output_type": "execute_result"
        }
      ],
      "source": [
        "(10 ** 1000).bit_length()"
      ]
    },
    {
      "cell_type": "code",
      "execution_count": 28,
      "metadata": {
        "colab": {
          "base_uri": "https://localhost:8080/"
        },
        "id": "EAgnz_CsNOC_",
        "outputId": "9c10cf26-5c2d-4bdc-f962-63bfdbf35e1c"
      },
      "outputs": [
        {
          "data": {
            "text/plain": [
              "-5030"
            ]
          },
          "execution_count": 28,
          "metadata": {},
          "output_type": "execute_result"
        }
      ],
      "source": [
        "a = 10+12*(12-432)\n",
        "a"
      ]
    },
    {
      "cell_type": "code",
      "execution_count": 29,
      "metadata": {
        "colab": {
          "base_uri": "https://localhost:8080/"
        },
        "id": "MymUPTIXNOC_",
        "outputId": "08bac0a1-afed-48a8-9c65-0711469628c6"
      },
      "outputs": [
        {
          "data": {
            "text/plain": [
              "(2, 1.4142135623730951)"
            ]
          },
          "execution_count": 29,
          "metadata": {},
          "output_type": "execute_result"
        }
      ],
      "source": [
        "x = 2          # Присваивание. Результат не отображается\n",
        "y = x ** 0.5 \n",
        "x, y"
      ]
    },
    {
      "cell_type": "code",
      "execution_count": 30,
      "metadata": {
        "colab": {
          "base_uri": "https://localhost:8080/"
        },
        "id": "TZ9tsAqrNODA",
        "outputId": "c8dc55fc-7184-4ee9-f0c0-5e6e25ae913e"
      },
      "outputs": [
        {
          "name": "stdout",
          "output_type": "stream",
          "text": [
            "2 1.4142135623730951\n"
          ]
        }
      ],
      "source": [
        "print(x, y)"
      ]
    },
    {
      "cell_type": "code",
      "execution_count": 31,
      "metadata": {
        "id": "jU70PURTNODA"
      },
      "outputs": [],
      "source": [
        "del x, y"
      ]
    },
    {
      "cell_type": "code",
      "execution_count": 32,
      "metadata": {
        "id": "TpEuFRAWNODA"
      },
      "outputs": [],
      "source": [
        "#print(x, y)"
      ]
    },
    {
      "cell_type": "code",
      "execution_count": 33,
      "metadata": {
        "colab": {
          "base_uri": "https://localhost:8080/"
        },
        "id": "G2SKQm80NODA",
        "outputId": "8949d8f5-7bd9-4c55-9b5a-48f71cd0056a"
      },
      "outputs": [
        {
          "data": {
            "text/plain": [
              "-5030"
            ]
          },
          "execution_count": 33,
          "metadata": {},
          "output_type": "execute_result"
        }
      ],
      "source": [
        "a"
      ]
    },
    {
      "cell_type": "markdown",
      "metadata": {
        "id": "Os7wRZ1VNODA"
      },
      "source": [
        "Имеются `+=`, `-=`, `*=`, `/=`, `%=`, `//=`  "
      ]
    },
    {
      "cell_type": "code",
      "execution_count": 34,
      "metadata": {
        "colab": {
          "base_uri": "https://localhost:8080/"
        },
        "id": "XhXMlZH7NODA",
        "outputId": "9b128c4d-08d7-49c6-c157-efde962b02f1"
      },
      "outputs": [
        {
          "name": "stdout",
          "output_type": "stream",
          "text": [
            "5\n"
          ]
        }
      ],
      "source": [
        "x = 2\n",
        "x += 3\n",
        "print(x)"
      ]
    },
    {
      "cell_type": "code",
      "execution_count": 35,
      "metadata": {
        "id": "A534yKD9NODB"
      },
      "outputs": [],
      "source": [
        "x += 1 # x = x + 1"
      ]
    },
    {
      "cell_type": "code",
      "execution_count": 36,
      "metadata": {
        "id": "piYCg44iNODB"
      },
      "outputs": [],
      "source": [
        "#x++ # Так нельзя"
      ]
    },
    {
      "cell_type": "markdown",
      "metadata": {
        "id": "UtVEi0PCNODB"
      },
      "source": [
        "# Типы данных"
      ]
    },
    {
      "cell_type": "markdown",
      "metadata": {
        "id": "Vox4DZGwNODB"
      },
      "source": [
        "## Числовые типы"
      ]
    },
    {
      "cell_type": "code",
      "execution_count": 37,
      "metadata": {
        "colab": {
          "base_uri": "https://localhost:8080/"
        },
        "id": "blTyiPJPNODB",
        "outputId": "4190809c-4ad1-4b26-c559-7c42d7c2eb16"
      },
      "outputs": [
        {
          "data": {
            "text/plain": [
              "123"
            ]
          },
          "execution_count": 37,
          "metadata": {},
          "output_type": "execute_result"
        }
      ],
      "source": [
        "123"
      ]
    },
    {
      "cell_type": "code",
      "execution_count": 38,
      "metadata": {
        "colab": {
          "base_uri": "https://localhost:8080/"
        },
        "id": "JWPC3GogNODB",
        "outputId": "948f29fa-1d3c-44df-c1df-e7fb6e94c9b0"
      },
      "outputs": [
        {
          "data": {
            "text/plain": [
              "int"
            ]
          },
          "execution_count": 38,
          "metadata": {},
          "output_type": "execute_result"
        }
      ],
      "source": [
        "type(123)"
      ]
    },
    {
      "cell_type": "code",
      "execution_count": 39,
      "metadata": {
        "colab": {
          "base_uri": "https://localhost:8080/"
        },
        "id": "UUvcE7qfNODB",
        "outputId": "7cf3ea4e-720b-4400-f6cf-875c66871a69"
      },
      "outputs": [
        {
          "data": {
            "text/plain": [
              "int"
            ]
          },
          "execution_count": 39,
          "metadata": {},
          "output_type": "execute_result"
        }
      ],
      "source": [
        "type(10**1000)"
      ]
    },
    {
      "cell_type": "code",
      "execution_count": 40,
      "metadata": {
        "colab": {
          "base_uri": "https://localhost:8080/"
        },
        "id": "ftiaCpcYNdbq",
        "outputId": "d2407b42-c311-48d2-e01d-a35ddf4cd331"
      },
      "outputs": [
        {
          "data": {
            "text/plain": [
              "7"
            ]
          },
          "execution_count": 40,
          "metadata": {},
          "output_type": "execute_result"
        }
      ],
      "source": [
        "(123).bit_length()"
      ]
    },
    {
      "cell_type": "code",
      "execution_count": 41,
      "metadata": {
        "id": "2y8JP92ON1MJ"
      },
      "outputs": [],
      "source": [
        "#(123.0).bit_length()"
      ]
    },
    {
      "cell_type": "code",
      "execution_count": 42,
      "metadata": {
        "id": "SApQUzhQNODC"
      },
      "outputs": [],
      "source": [
        "#('asdasd').bit_length()"
      ]
    },
    {
      "cell_type": "code",
      "execution_count": 43,
      "metadata": {
        "colab": {
          "base_uri": "https://localhost:8080/"
        },
        "id": "zAaJCtTENODC",
        "outputId": "2f98af18-c480-471f-8175-049384c23f32"
      },
      "outputs": [
        {
          "data": {
            "text/plain": [
              "float"
            ]
          },
          "execution_count": 43,
          "metadata": {},
          "output_type": "execute_result"
        }
      ],
      "source": [
        "type(123.) # В терминах C это double"
      ]
    },
    {
      "cell_type": "code",
      "execution_count": 44,
      "metadata": {
        "colab": {
          "base_uri": "https://localhost:8080/"
        },
        "id": "oXtyQxmgNODC",
        "outputId": "92a22982-ea47-4b68-867b-4ad48168f68a"
      },
      "outputs": [
        {
          "data": {
            "text/plain": [
              "float"
            ]
          },
          "execution_count": 44,
          "metadata": {},
          "output_type": "execute_result"
        }
      ],
      "source": [
        "type(1e-23)"
      ]
    },
    {
      "cell_type": "code",
      "execution_count": 45,
      "metadata": {
        "colab": {
          "base_uri": "https://localhost:8080/"
        },
        "id": "Dr5Phk-2NODC",
        "outputId": "e0d61e0a-a01c-4e62-d597-e31b6adc2ff9"
      },
      "outputs": [
        {
          "data": {
            "text/plain": [
              "complex"
            ]
          },
          "execution_count": 45,
          "metadata": {},
          "output_type": "execute_result"
        }
      ],
      "source": [
        "type(-5+2j)"
      ]
    },
    {
      "cell_type": "code",
      "execution_count": 46,
      "metadata": {
        "colab": {
          "base_uri": "https://localhost:8080/"
        },
        "id": "66Ng7EkANODC",
        "outputId": "d3578885-1d21-4930-c6d9-8b0d26903b51"
      },
      "outputs": [
        {
          "data": {
            "text/plain": [
              "1j"
            ]
          },
          "execution_count": 46,
          "metadata": {},
          "output_type": "execute_result"
        }
      ],
      "source": [
        "1j"
      ]
    },
    {
      "cell_type": "code",
      "execution_count": 47,
      "metadata": {
        "id": "f_zQviFaNODC"
      },
      "outputs": [],
      "source": [
        "#i"
      ]
    },
    {
      "cell_type": "code",
      "execution_count": 48,
      "metadata": {
        "colab": {
          "base_uri": "https://localhost:8080/"
        },
        "id": "FfEkUpB1NODD",
        "outputId": "65000e93-e52c-448f-d852-0430add5b220"
      },
      "outputs": [
        {
          "data": {
            "text/plain": [
              "(-1+0j)"
            ]
          },
          "execution_count": 48,
          "metadata": {},
          "output_type": "execute_result"
        }
      ],
      "source": [
        "1j**2"
      ]
    },
    {
      "cell_type": "code",
      "execution_count": 49,
      "metadata": {
        "colab": {
          "base_uri": "https://localhost:8080/"
        },
        "id": "C6JC6D2xNODD",
        "outputId": "840e4791-cd38-45a2-b826-b4b5c7722578"
      },
      "outputs": [
        {
          "data": {
            "text/plain": [
              "(39761.1+1486.3000000000002j)"
            ]
          },
          "execution_count": 49,
          "metadata": {},
          "output_type": "execute_result"
        }
      ],
      "source": [
        "(2+32.1j)*(123-1231j)"
      ]
    },
    {
      "cell_type": "markdown",
      "metadata": {
        "id": "zDmcocncNODD"
      },
      "source": [
        "## Строковые типы\n",
        "\n",
        "_Строка_ - неизменяемый контейнер символов"
      ]
    },
    {
      "cell_type": "code",
      "execution_count": 50,
      "metadata": {
        "colab": {
          "base_uri": "https://localhost:8080/"
        },
        "id": "h0l5eeRTNODD",
        "outputId": "4892569e-9aa7-47fa-ce6e-b26d1e4015cd"
      },
      "outputs": [
        {
          "name": "stdout",
          "output_type": "stream",
          "text": [
            "\"Hello\" народ!\n"
          ]
        }
      ],
      "source": [
        "hello_string = '\"Hello\" народ!'\n",
        "print(hello_string)"
      ]
    },
    {
      "cell_type": "code",
      "execution_count": 51,
      "metadata": {
        "colab": {
          "base_uri": "https://localhost:8080/"
        },
        "id": "lYeGBIvzNODD",
        "outputId": "cd2d0a83-6e87-4aa9-e75d-40365ee16bce"
      },
      "outputs": [
        {
          "name": "stdout",
          "output_type": "stream",
          "text": [
            "'Hello' народ!\n"
          ]
        }
      ],
      "source": [
        "hello_string = \"'Hello' народ!\"\n",
        "print(hello_string)"
      ]
    },
    {
      "cell_type": "code",
      "execution_count": 52,
      "metadata": {
        "colab": {
          "base_uri": "https://localhost:8080/"
        },
        "id": "SH6jw1JmNODD",
        "outputId": "9488780c-aa16-4bb3-a754-4dddf835ff54"
      },
      "outputs": [
        {
          "name": "stdout",
          "output_type": "stream",
          "text": [
            "Hello' народ!\n"
          ]
        }
      ],
      "source": [
        "hello_string = \"Hello' народ!\"\n",
        "print(hello_string)"
      ]
    },
    {
      "cell_type": "code",
      "execution_count": 53,
      "metadata": {
        "colab": {
          "base_uri": "https://localhost:8080/",
          "height": 36
        },
        "id": "vIY0WaC_NODE",
        "outputId": "400bbbcb-9c47-4905-f49c-afbee344d58b"
      },
      "outputs": [
        {
          "data": {
            "application/vnd.google.colaboratory.intrinsic+json": {
              "type": "string"
            },
            "text/plain": [
              "\"Hello' народ!\""
            ]
          },
          "execution_count": 53,
          "metadata": {},
          "output_type": "execute_result"
        }
      ],
      "source": [
        "hello_string"
      ]
    },
    {
      "cell_type": "code",
      "execution_count": 54,
      "metadata": {
        "colab": {
          "base_uri": "https://localhost:8080/",
          "height": 36
        },
        "id": "RnatfLiZNODE",
        "outputId": "8ae6152e-be35-4f8b-c311-6ad59b6a1fd0"
      },
      "outputs": [
        {
          "data": {
            "application/vnd.google.colaboratory.intrinsic+json": {
              "type": "string"
            },
            "text/plain": [
              "'H'"
            ]
          },
          "execution_count": 54,
          "metadata": {},
          "output_type": "execute_result"
        }
      ],
      "source": [
        "hello_string[0]"
      ]
    },
    {
      "cell_type": "code",
      "execution_count": 56,
      "metadata": {
        "id": "JHz-GviwNODE"
      },
      "outputs": [],
      "source": [
        "#hello_string[0] = 'h' # Так нельзя"
      ]
    },
    {
      "cell_type": "code",
      "execution_count": 57,
      "metadata": {
        "colab": {
          "base_uri": "https://localhost:8080/",
          "height": 36
        },
        "id": "xC3jFizhNODE",
        "outputId": "535369e6-5ea8-4b0b-c613-61a6b3c108d7"
      },
      "outputs": [
        {
          "data": {
            "application/vnd.google.colaboratory.intrinsic+json": {
              "type": "string"
            },
            "text/plain": [
              "'New value'"
            ]
          },
          "execution_count": 57,
          "metadata": {},
          "output_type": "execute_result"
        }
      ],
      "source": [
        "hello_string = \"New value\"\n",
        "hello_string"
      ]
    },
    {
      "cell_type": "code",
      "execution_count": 58,
      "metadata": {
        "colab": {
          "base_uri": "https://localhost:8080/"
        },
        "id": "lvvzWp-8NODE",
        "outputId": "b1bef446-2470-4780-b214-42da1b2dbdce"
      },
      "outputs": [
        {
          "data": {
            "text/plain": [
              "9"
            ]
          },
          "execution_count": 58,
          "metadata": {},
          "output_type": "execute_result"
        }
      ],
      "source": [
        "len(hello_string)"
      ]
    },
    {
      "cell_type": "code",
      "execution_count": 59,
      "metadata": {
        "colab": {
          "base_uri": "https://localhost:8080/"
        },
        "id": "-_ZD8GjmNODE",
        "outputId": "6336bd6e-7f0b-4ee9-9691-da2c2699b9be"
      },
      "outputs": [
        {
          "data": {
            "text/plain": [
              "str"
            ]
          },
          "execution_count": 59,
          "metadata": {},
          "output_type": "execute_result"
        }
      ],
      "source": [
        "type(hello_string)"
      ]
    },
    {
      "cell_type": "code",
      "execution_count": 60,
      "metadata": {
        "id": "wtg76qk9NODE"
      },
      "outputs": [],
      "source": [
        "hello_string = 2"
      ]
    },
    {
      "cell_type": "code",
      "execution_count": 61,
      "metadata": {
        "colab": {
          "base_uri": "https://localhost:8080/"
        },
        "id": "-sREGMZ2NODF",
        "outputId": "18628a30-eb66-4021-df0e-75d063c4fc2d"
      },
      "outputs": [
        {
          "data": {
            "text/plain": [
              "int"
            ]
          },
          "execution_count": 61,
          "metadata": {},
          "output_type": "execute_result"
        }
      ],
      "source": [
        "type(hello_string)"
      ]
    },
    {
      "cell_type": "code",
      "execution_count": 62,
      "metadata": {
        "colab": {
          "base_uri": "https://localhost:8080/"
        },
        "id": "cxJKMCm6NODF",
        "outputId": "e0d4e46a-1df8-42aa-b4c2-b19e7dc8cbef"
      },
      "outputs": [
        {
          "name": "stdout",
          "output_type": "stream",
          "text": [
            "\tВсем\n",
            " hello'шки!\\\n"
          ]
        }
      ],
      "source": [
        "print(\"\\tВсем\\n hello'шки!\\\\\")"
      ]
    },
    {
      "cell_type": "code",
      "execution_count": 63,
      "metadata": {
        "colab": {
          "base_uri": "https://localhost:8080/"
        },
        "id": "U_bbrhBkNODF",
        "outputId": "9c5921f3-f685-42db-ab3c-8d5bbbdc43e2"
      },
      "outputs": [
        {
          "name": "stdout",
          "output_type": "stream",
          "text": [
            "\\tВсем\\n hello\\'шки!\n"
          ]
        }
      ],
      "source": [
        "print(r\"\\tВсем\\n hello\\'шки!\")"
      ]
    },
    {
      "cell_type": "code",
      "execution_count": 64,
      "metadata": {
        "colab": {
          "base_uri": "https://localhost:8080/"
        },
        "id": "ziJPrQSaNODF",
        "outputId": "5370c172-17ea-4652-be66-fe7b77a323dc"
      },
      "outputs": [
        {
          "name": "stdout",
          "output_type": "stream",
          "text": [
            "Строка из\n",
            "нескольких\n",
            "строк\n"
          ]
        }
      ],
      "source": [
        "s = '''Строка из\n",
        "нескольких\n",
        "строк'''\n",
        "print(s)"
      ]
    },
    {
      "cell_type": "code",
      "execution_count": 65,
      "metadata": {
        "colab": {
          "base_uri": "https://localhost:8080/"
        },
        "id": "dlMQ2W_ANODF",
        "outputId": "caa877da-48e0-448a-84df-669ad4f5e4fa"
      },
      "outputs": [
        {
          "name": "stdout",
          "output_type": "stream",
          "text": [
            "Строка из\n",
            "нескольких\n",
            "строк\n",
            "\n"
          ]
        }
      ],
      "source": [
        "s = \"Строка из\\nнескольких\\nстрок\\n\" # А можно так\n",
        "print(s)"
      ]
    },
    {
      "cell_type": "code",
      "execution_count": 66,
      "metadata": {
        "colab": {
          "base_uri": "https://localhost:8080/"
        },
        "id": "cXwpvidZNODG",
        "outputId": "33b60d3b-1618-419f-c2ea-3ab400656f9a"
      },
      "outputs": [
        {
          "name": "stdout",
          "output_type": "stream",
          "text": [
            "Язык программирования \"Питон\"\n"
          ]
        }
      ],
      "source": [
        "s = 'Язык программирования \"Питон\"'\n",
        "print(s)"
      ]
    },
    {
      "cell_type": "code",
      "execution_count": 67,
      "metadata": {
        "colab": {
          "base_uri": "https://localhost:8080/"
        },
        "id": "91nSvffoNODG",
        "outputId": "d931dcff-2a9c-4b7b-a059-a9602946915c"
      },
      "outputs": [
        {
          "name": "stdout",
          "output_type": "stream",
          "text": [
            "Язык программирования 'Питон'\n"
          ]
        }
      ],
      "source": [
        "s = \"Язык программирования 'Питон'\"\n",
        "print(s)"
      ]
    },
    {
      "cell_type": "code",
      "execution_count": 68,
      "metadata": {
        "colab": {
          "base_uri": "https://localhost:8080/"
        },
        "id": "eTxPocTZNODG",
        "outputId": "066e96b2-f0d7-40c8-b7cd-df25562727c2"
      },
      "outputs": [
        {
          "name": "stdout",
          "output_type": "stream",
          "text": [
            "Hello World!\n"
          ]
        }
      ],
      "source": [
        "s1 = \"Hello\"\n",
        "s2 = \"World\"\n",
        "s = s1 + \" \" + s2 + \"!\"    # Конкатенация\n",
        "print(s)"
      ]
    },
    {
      "cell_type": "code",
      "execution_count": 69,
      "metadata": {
        "colab": {
          "base_uri": "https://localhost:8080/",
          "height": 36
        },
        "id": "ekg2tBBCNODG",
        "outputId": "d577afbd-e403-446f-85d5-a9cf2e0025a2"
      },
      "outputs": [
        {
          "data": {
            "application/vnd.google.colaboratory.intrinsic+json": {
              "type": "string"
            },
            "text/plain": [
              "'hello'"
            ]
          },
          "execution_count": 69,
          "metadata": {},
          "output_type": "execute_result"
        }
      ],
      "source": [
        "s1 = 'h' + s1[1:5]\n",
        "s1"
      ]
    },
    {
      "cell_type": "code",
      "execution_count": 70,
      "metadata": {
        "colab": {
          "base_uri": "https://localhost:8080/",
          "height": 36
        },
        "id": "IxOF0xR-NODG",
        "outputId": "f0330585-76ac-4d7c-98a4-5cbbaf04326e"
      },
      "outputs": [
        {
          "data": {
            "application/vnd.google.colaboratory.intrinsic+json": {
              "type": "string"
            },
            "text/plain": [
              "'hello'"
            ]
          },
          "execution_count": 70,
          "metadata": {},
          "output_type": "execute_result"
        }
      ],
      "source": [
        "s1 = 'h' + s1[1:]\n",
        "s1"
      ]
    },
    {
      "cell_type": "code",
      "execution_count": 71,
      "metadata": {
        "colab": {
          "base_uri": "https://localhost:8080/",
          "height": 36
        },
        "id": "w6PHrjOaNODG",
        "outputId": "034a7161-b57a-4a00-c6fe-9aaf362df78f"
      },
      "outputs": [
        {
          "data": {
            "application/vnd.google.colaboratory.intrinsic+json": {
              "type": "string"
            },
            "text/plain": [
              "'hellohellohello'"
            ]
          },
          "execution_count": 71,
          "metadata": {},
          "output_type": "execute_result"
        }
      ],
      "source": [
        "s1*3"
      ]
    },
    {
      "cell_type": "code",
      "execution_count": 72,
      "metadata": {
        "colab": {
          "base_uri": "https://localhost:8080/"
        },
        "id": "YOiT7vPXNODH",
        "outputId": "de9e31a4-5aee-4167-e531-af12089be525"
      },
      "outputs": [
        {
          "name": "stdout",
          "output_type": "stream",
          "text": [
            "hello hello hello !\n"
          ]
        }
      ],
      "source": [
        "print(3*(s1 + \" \") + \"!\")"
      ]
    },
    {
      "cell_type": "code",
      "execution_count": 73,
      "metadata": {
        "colab": {
          "base_uri": "https://localhost:8080/"
        },
        "id": "zTSx0KsnNODH",
        "outputId": "0a8046fd-af8b-4179-97b9-d1a3171f3bcd"
      },
      "outputs": [
        {
          "name": "stdout",
          "output_type": "stream",
          "text": [
            "0\n",
            "1\n",
            "c\n",
            "b\n",
            "c\n"
          ]
        }
      ],
      "source": [
        "s = \"0123456abc\"\n",
        "print(s[0])      # Первый символ\n",
        "print(s[1])      # Второй символ\n",
        "print(s[-1])     # Последний символ\n",
        "print(s[-2])     # Предпоследний символ\n",
        "print(s[len(s) - 1])"
      ]
    },
    {
      "cell_type": "code",
      "execution_count": 74,
      "metadata": {
        "colab": {
          "base_uri": "https://localhost:8080/"
        },
        "id": "1wT3SBZTNODH",
        "outputId": "d7dee95c-2381-417b-fc93-5019db35e8b8"
      },
      "outputs": [
        {
          "data": {
            "text/plain": [
              "10"
            ]
          },
          "execution_count": 74,
          "metadata": {},
          "output_type": "execute_result"
        }
      ],
      "source": [
        "len(s)"
      ]
    },
    {
      "cell_type": "code",
      "execution_count": 75,
      "metadata": {
        "colab": {
          "base_uri": "https://localhost:8080/"
        },
        "id": "wtyZJRvcNODH",
        "outputId": "36d62de7-fbad-4cb3-cf45-0bb8dcabf090"
      },
      "outputs": [
        {
          "data": {
            "text/plain": [
              "str"
            ]
          },
          "execution_count": 75,
          "metadata": {},
          "output_type": "execute_result"
        }
      ],
      "source": [
        "type(s[0])"
      ]
    },
    {
      "cell_type": "code",
      "execution_count": 76,
      "metadata": {
        "colab": {
          "base_uri": "https://localhost:8080/"
        },
        "id": "_mMzCklLNODH",
        "outputId": "90866fd2-fbb7-478c-fde2-f36a07db86d9"
      },
      "outputs": [
        {
          "data": {
            "text/plain": [
              "str"
            ]
          },
          "execution_count": 76,
          "metadata": {},
          "output_type": "execute_result"
        }
      ],
      "source": [
        "type(s)"
      ]
    },
    {
      "cell_type": "code",
      "execution_count": 77,
      "metadata": {
        "colab": {
          "base_uri": "https://localhost:8080/",
          "height": 36
        },
        "id": "xFpDI6YFNODH",
        "outputId": "5d306db5-e166-4dd0-daa0-c88dd007b73f"
      },
      "outputs": [
        {
          "data": {
            "application/vnd.google.colaboratory.intrinsic+json": {
              "type": "string"
            },
            "text/plain": [
              "'0123'"
            ]
          },
          "execution_count": 77,
          "metadata": {},
          "output_type": "execute_result"
        }
      ],
      "source": [
        "s[0:4]     # Подстрока"
      ]
    },
    {
      "cell_type": "code",
      "execution_count": 80,
      "metadata": {
        "id": "felaKS-cNODH"
      },
      "outputs": [],
      "source": [
        "#s[3] = 'я' # Нельзя! Присваивание элементам запрещено   "
      ]
    },
    {
      "cell_type": "code",
      "execution_count": 81,
      "metadata": {
        "colab": {
          "base_uri": "https://localhost:8080/"
        },
        "id": "1-ifsK0XNODI",
        "outputId": "7cd570a4-dfee-415e-b115-4fe85ed9d0aa"
      },
      "outputs": [
        {
          "name": "stdout",
          "output_type": "stream",
          "text": [
            "012я456abc\n"
          ]
        }
      ],
      "source": [
        "s = s[:3] + 'я' + s[4:]\n",
        "print(s)"
      ]
    },
    {
      "cell_type": "code",
      "execution_count": 82,
      "metadata": {
        "colab": {
          "base_uri": "https://localhost:8080/",
          "height": 36
        },
        "id": "6SPHJEtVNODI",
        "outputId": "38bd2f91-74cc-4f87-b091-f337905f0dbb"
      },
      "outputs": [
        {
          "data": {
            "application/vnd.google.colaboratory.intrinsic+json": {
              "type": "string"
            },
            "text/plain": [
              "'012я456abc'"
            ]
          },
          "execution_count": 82,
          "metadata": {},
          "output_type": "execute_result"
        }
      ],
      "source": [
        "ss = s[:]\n",
        "ss"
      ]
    },
    {
      "cell_type": "code",
      "execution_count": 83,
      "metadata": {
        "colab": {
          "base_uri": "https://localhost:8080/"
        },
        "id": "jU6hUPSkNODI",
        "outputId": "2b1be70e-9af4-484d-9beb-abac0f3537cc"
      },
      "outputs": [
        {
          "data": {
            "text/plain": [
              "10"
            ]
          },
          "execution_count": 83,
          "metadata": {},
          "output_type": "execute_result"
        }
      ],
      "source": [
        "len(s)"
      ]
    },
    {
      "cell_type": "code",
      "execution_count": 97,
      "metadata": {
        "colab": {
          "base_uri": "https://localhost:8080/",
          "height": 36
        },
        "id": "QfzQiytuNODI",
        "outputId": "e451f001-2fbd-4200-fb37-bdf98ae23f9d"
      },
      "outputs": [
        {
          "data": {
            "application/vnd.google.colaboratory.intrinsic+json": {
              "type": "string"
            },
            "text/plain": [
              "'012Я456ABC'"
            ]
          },
          "execution_count": 97,
          "metadata": {},
          "output_type": "execute_result"
        }
      ],
      "source": [
        "s.upper()"
      ]
    },
    {
      "cell_type": "code",
      "execution_count": 101,
      "metadata": {
        "colab": {
          "base_uri": "https://localhost:8080/"
        },
        "id": "FpJeD4xvNODJ",
        "outputId": "88ef4f3e-52fc-4074-9ad5-389eb34536ab"
      },
      "outputs": [
        {
          "name": "stdout",
          "output_type": "stream",
          "text": [
            "Hello World!\n",
            "HELLO WORLD!\n",
            "hello world!\n"
          ]
        }
      ],
      "source": [
        "s = \"Hello World!\"\n",
        "print(s)\n",
        "print(s.upper())\n",
        "print(s.lower())"
      ]
    },
    {
      "cell_type": "code",
      "execution_count": 112,
      "metadata": {
        "id": "mGL_2KSwNODJ"
      },
      "outputs": [],
      "source": [
        "#upper(s) # так нельзя\n",
        "#s.len() # так нельзя"
      ]
    },
    {
      "cell_type": "code",
      "execution_count": 113,
      "metadata": {
        "colab": {
          "base_uri": "https://localhost:8080/"
        },
        "id": "JnMod6cvNODJ",
        "outputId": "206dba99-e0a8-4b01-bc03-63410b753e1f"
      },
      "outputs": [
        {
          "data": {
            "text/plain": [
              "12"
            ]
          },
          "execution_count": 113,
          "metadata": {},
          "output_type": "execute_result"
        }
      ],
      "source": [
        "s.upper()\n",
        "len(s)"
      ]
    },
    {
      "cell_type": "markdown",
      "metadata": {
        "id": "DmE8uaeANODJ"
      },
      "source": [
        "## Булевский тип"
      ]
    },
    {
      "cell_type": "code",
      "execution_count": 114,
      "metadata": {
        "colab": {
          "base_uri": "https://localhost:8080/"
        },
        "id": "vIdpXccSNODJ",
        "outputId": "ce0dcd7b-f9b1-4262-87c4-49bcdb572af1"
      },
      "outputs": [
        {
          "data": {
            "text/plain": [
              "True"
            ]
          },
          "execution_count": 114,
          "metadata": {},
          "output_type": "execute_result"
        }
      ],
      "source": [
        "True"
      ]
    },
    {
      "cell_type": "code",
      "execution_count": 115,
      "metadata": {
        "colab": {
          "base_uri": "https://localhost:8080/"
        },
        "id": "dcZNwbXLNODJ",
        "outputId": "9deafee3-bab1-4bb2-d219-09e38cf06bb1"
      },
      "outputs": [
        {
          "data": {
            "text/plain": [
              "False"
            ]
          },
          "execution_count": 115,
          "metadata": {},
          "output_type": "execute_result"
        }
      ],
      "source": [
        "False"
      ]
    },
    {
      "cell_type": "code",
      "execution_count": 116,
      "metadata": {
        "colab": {
          "base_uri": "https://localhost:8080/"
        },
        "id": "JHBGnn-JNODJ",
        "outputId": "972868cb-2b84-46db-8ecf-fa56951fdede"
      },
      "outputs": [
        {
          "data": {
            "text/plain": [
              "False"
            ]
          },
          "execution_count": 116,
          "metadata": {},
          "output_type": "execute_result"
        }
      ],
      "source": [
        "1 > 2"
      ]
    },
    {
      "cell_type": "code",
      "execution_count": 117,
      "metadata": {
        "colab": {
          "base_uri": "https://localhost:8080/"
        },
        "id": "iviHqLXqNODK",
        "outputId": "d373c1e3-e320-40fa-dbbc-1b46ffabe6ec"
      },
      "outputs": [
        {
          "data": {
            "text/plain": [
              "True"
            ]
          },
          "execution_count": 117,
          "metadata": {},
          "output_type": "execute_result"
        }
      ],
      "source": [
        "1 <= 2"
      ]
    },
    {
      "cell_type": "code",
      "execution_count": 118,
      "metadata": {
        "colab": {
          "base_uri": "https://localhost:8080/"
        },
        "id": "Su-djS_lNODK",
        "outputId": "b8a7dd2d-c61b-4ee5-b1b2-cf6c8a6983bb"
      },
      "outputs": [
        {
          "data": {
            "text/plain": [
              "bool"
            ]
          },
          "execution_count": 118,
          "metadata": {},
          "output_type": "execute_result"
        }
      ],
      "source": [
        "type(True)"
      ]
    },
    {
      "cell_type": "markdown",
      "metadata": {
        "id": "13eJQCJYNODK"
      },
      "source": [
        "Сравнение: `==`   `!=`   `<`   `>`   `<=`   `>=`\n",
        "\n",
        "Логические связки: `not` `and` `or` "
      ]
    },
    {
      "cell_type": "code",
      "execution_count": 119,
      "metadata": {
        "id": "YpEBQ9m8NODK"
      },
      "outputs": [],
      "source": [
        "# ! && ||"
      ]
    },
    {
      "cell_type": "code",
      "execution_count": 120,
      "metadata": {
        "colab": {
          "base_uri": "https://localhost:8080/"
        },
        "id": "hIJjd6F5NODK",
        "outputId": "c9807d73-d00f-400d-ddae-ec834359a554"
      },
      "outputs": [
        {
          "name": "stdout",
          "output_type": "stream",
          "text": [
            "False\n",
            "True\n",
            "True\n"
          ]
        }
      ],
      "source": [
        "Age = 49\n",
        "print(Age < 18 or Age > 55)\n",
        "print(Age >= 18 and Age <= 55)\n",
        "print(18 <= Age <= 55)"
      ]
    },
    {
      "cell_type": "code",
      "execution_count": 121,
      "metadata": {
        "colab": {
          "base_uri": "https://localhost:8080/"
        },
        "id": "u_STGhsrNODK",
        "outputId": "cc10ba71-9ac3-4e93-a314-98b975d67104"
      },
      "outputs": [
        {
          "data": {
            "text/plain": [
              "False"
            ]
          },
          "execution_count": 121,
          "metadata": {},
          "output_type": "execute_result"
        }
      ],
      "source": [
        "True <= False"
      ]
    },
    {
      "cell_type": "code",
      "execution_count": 122,
      "metadata": {
        "colab": {
          "base_uri": "https://localhost:8080/"
        },
        "id": "313zbIyLNODK",
        "outputId": "de1cd92e-26b1-4221-d11b-4f7ef6671237"
      },
      "outputs": [
        {
          "data": {
            "text/plain": [
              "True"
            ]
          },
          "execution_count": 122,
          "metadata": {},
          "output_type": "execute_result"
        }
      ],
      "source": [
        "5 > 1 < 2"
      ]
    },
    {
      "cell_type": "code",
      "execution_count": 123,
      "metadata": {
        "colab": {
          "base_uri": "https://localhost:8080/"
        },
        "id": "vcE5xlYpNODK",
        "outputId": "6d971a1c-0d96-42fc-89c1-e6bd5e78eb88"
      },
      "outputs": [
        {
          "data": {
            "text/plain": [
              "True"
            ]
          },
          "execution_count": 123,
          "metadata": {},
          "output_type": "execute_result"
        }
      ],
      "source": [
        "'Вася' < 'Петр Иванович'"
      ]
    },
    {
      "cell_type": "code",
      "execution_count": 127,
      "metadata": {
        "id": "18STV6xzNODL"
      },
      "outputs": [],
      "source": [
        "#1+2j < 2-3j #Так нельзя"
      ]
    },
    {
      "cell_type": "markdown",
      "metadata": {
        "id": "MiaDtiA8NODL"
      },
      "source": [
        "## Списки\n",
        "\n",
        "_Список_ (list) - изменяемый (mutable) контейнер. Обращение к элементу списка - по индексу."
      ]
    },
    {
      "cell_type": "code",
      "execution_count": 128,
      "metadata": {
        "id": "scvtuPlcNODL"
      },
      "outputs": [],
      "source": [
        "lst=[1,2,5, 123, -4]"
      ]
    },
    {
      "cell_type": "code",
      "execution_count": 129,
      "metadata": {
        "colab": {
          "base_uri": "https://localhost:8080/"
        },
        "id": "XCmFIrz4NODL",
        "outputId": "300eed0c-72a5-4fab-ba78-7282880752c3"
      },
      "outputs": [
        {
          "data": {
            "text/plain": [
              "5"
            ]
          },
          "execution_count": 129,
          "metadata": {},
          "output_type": "execute_result"
        }
      ],
      "source": [
        "lst[2]"
      ]
    },
    {
      "cell_type": "code",
      "execution_count": 130,
      "metadata": {
        "colab": {
          "base_uri": "https://localhost:8080/"
        },
        "id": "DYHv4ssENODL",
        "outputId": "e2f3bf07-514b-463c-cbc2-6df2ea4291ec"
      },
      "outputs": [
        {
          "data": {
            "text/plain": [
              "[1, 2.0, 3, 'four', True, [123, 321]]"
            ]
          },
          "execution_count": 130,
          "metadata": {},
          "output_type": "execute_result"
        }
      ],
      "source": [
        "lst = [1, 2.0, 3, 'four', True, [123,321]]\n",
        "lst"
      ]
    },
    {
      "cell_type": "code",
      "execution_count": 131,
      "metadata": {
        "colab": {
          "base_uri": "https://localhost:8080/"
        },
        "id": "tkz2v55RNODL",
        "outputId": "e1009234-943d-4a28-ae91-450762f77976"
      },
      "outputs": [
        {
          "data": {
            "text/plain": [
              "123"
            ]
          },
          "execution_count": 131,
          "metadata": {},
          "output_type": "execute_result"
        }
      ],
      "source": [
        "lst[5][0]"
      ]
    },
    {
      "cell_type": "code",
      "execution_count": 132,
      "metadata": {
        "colab": {
          "base_uri": "https://localhost:8080/"
        },
        "id": "A4kTz7bGNODL",
        "outputId": "28b97208-abac-44d0-9092-d65889ab79b7"
      },
      "outputs": [
        {
          "data": {
            "text/plain": [
              "['One', 2.0, 3, 'four', True, [123, 321]]"
            ]
          },
          "execution_count": 132,
          "metadata": {},
          "output_type": "execute_result"
        }
      ],
      "source": [
        "lst[0] = 'One'\n",
        "lst"
      ]
    },
    {
      "cell_type": "code",
      "execution_count": 133,
      "metadata": {
        "colab": {
          "base_uri": "https://localhost:8080/"
        },
        "id": "uM2S9GMrNODM",
        "outputId": "6f40d10c-61c7-4dee-bc4e-086a7df469eb"
      },
      "outputs": [
        {
          "data": {
            "text/plain": [
              "[]"
            ]
          },
          "execution_count": 133,
          "metadata": {},
          "output_type": "execute_result"
        }
      ],
      "source": [
        "[]"
      ]
    },
    {
      "cell_type": "code",
      "execution_count": 134,
      "metadata": {
        "colab": {
          "base_uri": "https://localhost:8080/"
        },
        "id": "uRlC6iizNODM",
        "outputId": "b5f658bf-8f7e-41fb-8bb8-188f122b833f"
      },
      "outputs": [
        {
          "data": {
            "text/plain": [
              "list"
            ]
          },
          "execution_count": 134,
          "metadata": {},
          "output_type": "execute_result"
        }
      ],
      "source": [
        "type(lst)"
      ]
    },
    {
      "cell_type": "code",
      "execution_count": 135,
      "metadata": {
        "colab": {
          "base_uri": "https://localhost:8080/"
        },
        "id": "y4hmCgFDNODM",
        "outputId": "0d8985b0-4e81-4926-a7bf-3bbb9b704098"
      },
      "outputs": [
        {
          "data": {
            "text/plain": [
              "6"
            ]
          },
          "execution_count": 135,
          "metadata": {},
          "output_type": "execute_result"
        }
      ],
      "source": [
        "len(lst)"
      ]
    },
    {
      "cell_type": "code",
      "execution_count": 136,
      "metadata": {
        "colab": {
          "base_uri": "https://localhost:8080/",
          "height": 36
        },
        "id": "McRcT1a7NODM",
        "outputId": "a9c2c5ff-0990-47ab-e66d-e4b9952ef996"
      },
      "outputs": [
        {
          "data": {
            "application/vnd.google.colaboratory.intrinsic+json": {
              "type": "string"
            },
            "text/plain": [
              "'One'"
            ]
          },
          "execution_count": 136,
          "metadata": {},
          "output_type": "execute_result"
        }
      ],
      "source": [
        "lst[0]"
      ]
    },
    {
      "cell_type": "code",
      "execution_count": 137,
      "metadata": {
        "colab": {
          "base_uri": "https://localhost:8080/"
        },
        "id": "FLCVWXRWNODM",
        "outputId": "0110ffcf-7bd0-4b55-db7c-331844d328d7"
      },
      "outputs": [
        {
          "data": {
            "text/plain": [
              "2.0"
            ]
          },
          "execution_count": 137,
          "metadata": {},
          "output_type": "execute_result"
        }
      ],
      "source": [
        "lst[1]"
      ]
    },
    {
      "cell_type": "code",
      "execution_count": 138,
      "metadata": {
        "colab": {
          "base_uri": "https://localhost:8080/"
        },
        "id": "ejxucfJYNODM",
        "outputId": "82f13d77-aa80-4962-9c6c-2ddc17045930"
      },
      "outputs": [
        {
          "data": {
            "text/plain": [
              "[123, 321]"
            ]
          },
          "execution_count": 138,
          "metadata": {},
          "output_type": "execute_result"
        }
      ],
      "source": [
        "lst[-1]"
      ]
    },
    {
      "cell_type": "code",
      "execution_count": 139,
      "metadata": {
        "colab": {
          "base_uri": "https://localhost:8080/"
        },
        "id": "gJqpSiHxNODM",
        "outputId": "e7bc3d04-bda9-48bc-fe63-03eba2d4bcf7"
      },
      "outputs": [
        {
          "data": {
            "text/plain": [
              "123"
            ]
          },
          "execution_count": 139,
          "metadata": {},
          "output_type": "execute_result"
        }
      ],
      "source": [
        "lst[-1][0]"
      ]
    },
    {
      "cell_type": "code",
      "execution_count": 140,
      "metadata": {
        "colab": {
          "base_uri": "https://localhost:8080/"
        },
        "id": "apfDI-dSNODM",
        "outputId": "0dffa612-02db-4765-997e-1b31629bbf86"
      },
      "outputs": [
        {
          "data": {
            "text/plain": [
              "True"
            ]
          },
          "execution_count": 140,
          "metadata": {},
          "output_type": "execute_result"
        }
      ],
      "source": [
        "lst[-2]"
      ]
    },
    {
      "cell_type": "code",
      "execution_count": 141,
      "metadata": {
        "colab": {
          "base_uri": "https://localhost:8080/"
        },
        "id": "q8b5_f9BNODN",
        "outputId": "2397f294-e659-4485-e42f-8e011cc0a96a"
      },
      "outputs": [
        {
          "data": {
            "text/plain": [
              "['One', 2.0, [12, 'three'], 'four', True, [123, 321]]"
            ]
          },
          "execution_count": 141,
          "metadata": {},
          "output_type": "execute_result"
        }
      ],
      "source": [
        "lst[2] = [12, 'three'] # Можно!\n",
        "lst"
      ]
    },
    {
      "cell_type": "code",
      "execution_count": 142,
      "metadata": {
        "colab": {
          "base_uri": "https://localhost:8080/"
        },
        "id": "sjyTJrbFNODN",
        "outputId": "ddff1967-eb68-4cb0-8ab4-538c0d7fed5e"
      },
      "outputs": [
        {
          "data": {
            "text/plain": [
              "6"
            ]
          },
          "execution_count": 142,
          "metadata": {},
          "output_type": "execute_result"
        }
      ],
      "source": [
        "len(lst)"
      ]
    },
    {
      "cell_type": "code",
      "execution_count": 143,
      "metadata": {
        "colab": {
          "base_uri": "https://localhost:8080/"
        },
        "id": "lA0MAsKZNODN",
        "outputId": "cc060720-dc12-41fb-f04d-4a318d4afb6b"
      },
      "outputs": [
        {
          "data": {
            "text/plain": [
              "['One', 2.0, [12, 'three'], 'four', True, [123, 321]]"
            ]
          },
          "execution_count": 143,
          "metadata": {},
          "output_type": "execute_result"
        }
      ],
      "source": [
        "lst"
      ]
    },
    {
      "cell_type": "code",
      "execution_count": 144,
      "metadata": {
        "colab": {
          "base_uri": "https://localhost:8080/"
        },
        "id": "P4h0qz_ANODN",
        "outputId": "c495e8fb-894e-41c3-fc95-467cdb6665c8"
      },
      "outputs": [
        {
          "data": {
            "text/plain": [
              "[2.0, [12, 'three']]"
            ]
          },
          "execution_count": 144,
          "metadata": {},
          "output_type": "execute_result"
        }
      ],
      "source": [
        "lst[1:3]    # Срез (slice)"
      ]
    },
    {
      "cell_type": "code",
      "execution_count": 145,
      "metadata": {
        "colab": {
          "base_uri": "https://localhost:8080/"
        },
        "id": "0inBdASeNODN",
        "outputId": "14076f6f-daca-48fa-899d-a38187adad9a"
      },
      "outputs": [
        {
          "data": {
            "text/plain": [
              "321"
            ]
          },
          "execution_count": 145,
          "metadata": {},
          "output_type": "execute_result"
        }
      ],
      "source": [
        "lst[-1][-1]"
      ]
    },
    {
      "cell_type": "code",
      "execution_count": 146,
      "metadata": {
        "colab": {
          "base_uri": "https://localhost:8080/"
        },
        "id": "WGriq0swNODN",
        "outputId": "29cd4ae0-7f94-4e42-a644-037fb8fa6bd0"
      },
      "outputs": [
        {
          "data": {
            "text/plain": [
              "['One', 'four', True, [123, 321]]"
            ]
          },
          "execution_count": 146,
          "metadata": {},
          "output_type": "execute_result"
        }
      ],
      "source": [
        "lst[1:3] = [] # Можно!\n",
        "lst"
      ]
    },
    {
      "cell_type": "code",
      "execution_count": 147,
      "metadata": {
        "colab": {
          "base_uri": "https://localhost:8080/"
        },
        "id": "cSaptdgwNODN",
        "outputId": "787c923c-7e81-4ef8-8ff6-038c255c2d6d"
      },
      "outputs": [
        {
          "data": {
            "text/plain": [
              "['One', 1, 2, 3]"
            ]
          },
          "execution_count": 147,
          "metadata": {},
          "output_type": "execute_result"
        }
      ],
      "source": [
        "lst[1:] = [1,2,3]\n",
        "lst"
      ]
    },
    {
      "cell_type": "code",
      "execution_count": 148,
      "metadata": {
        "colab": {
          "base_uri": "https://localhost:8080/"
        },
        "id": "3gl7bBHLNODO",
        "outputId": "32046520-f612-460d-8ac4-16309242336b"
      },
      "outputs": [
        {
          "data": {
            "text/plain": [
              "['One', 1, 2]"
            ]
          },
          "execution_count": 148,
          "metadata": {},
          "output_type": "execute_result"
        }
      ],
      "source": [
        "lst[2:]\n",
        "lst[:3]"
      ]
    },
    {
      "cell_type": "code",
      "execution_count": 150,
      "metadata": {
        "id": "UoumghI8NODO"
      },
      "outputs": [],
      "source": [
        "#1:3 # Так нельзя"
      ]
    },
    {
      "cell_type": "code",
      "execution_count": 151,
      "metadata": {
        "colab": {
          "base_uri": "https://localhost:8080/"
        },
        "id": "1LKLWMB0NODO",
        "outputId": "3097d453-d74c-4f48-9605-df09a0bbfebb"
      },
      "outputs": [
        {
          "data": {
            "text/plain": [
              "['One', 1, 2, 3]"
            ]
          },
          "execution_count": 151,
          "metadata": {},
          "output_type": "execute_result"
        }
      ],
      "source": [
        "lst"
      ]
    },
    {
      "cell_type": "code",
      "execution_count": 152,
      "metadata": {
        "colab": {
          "base_uri": "https://localhost:8080/"
        },
        "id": "-n2Ui43YNODO",
        "outputId": "145359d6-71e7-4cb5-8717-073e5ffe22ba"
      },
      "outputs": [
        {
          "data": {
            "text/plain": [
              "['One', 1, 2, 3, 'One', 1, 2, 3]"
            ]
          },
          "execution_count": 152,
          "metadata": {},
          "output_type": "execute_result"
        }
      ],
      "source": [
        "lst + lst"
      ]
    },
    {
      "cell_type": "code",
      "execution_count": 153,
      "metadata": {
        "colab": {
          "base_uri": "https://localhost:8080/"
        },
        "id": "Zr9wg65WNODO",
        "outputId": "5fa1540f-5f84-4668-f531-ce50169784b6"
      },
      "outputs": [
        {
          "data": {
            "text/plain": [
              "['One', 1, 2, 3, 'One', 1, 2, 3]"
            ]
          },
          "execution_count": 153,
          "metadata": {},
          "output_type": "execute_result"
        }
      ],
      "source": [
        "2*lst"
      ]
    },
    {
      "cell_type": "code",
      "execution_count": 154,
      "metadata": {
        "colab": {
          "base_uri": "https://localhost:8080/"
        },
        "id": "3jrHeWpMNODO",
        "outputId": "78aeeb0a-8b23-4ae8-cbae-95918abb8b3a"
      },
      "outputs": [
        {
          "name": "stdout",
          "output_type": "stream",
          "text": [
            "[0, 111, 2, 3, 4]\n",
            "[0, 111, 2, 3, 4]\n"
          ]
        }
      ],
      "source": [
        "lst = [0, 1, 2, 3, 4]\n",
        "lst2 = lst\n",
        "lst2[1] = 111  # lst меняется\n",
        "print(lst2)\n",
        "print(lst)"
      ]
    },
    {
      "cell_type": "code",
      "execution_count": 155,
      "metadata": {
        "colab": {
          "base_uri": "https://localhost:8080/"
        },
        "id": "71xtOZhfNODO",
        "outputId": "d992802d-5438-400d-c93f-f2486c7da0cf"
      },
      "outputs": [
        {
          "data": {
            "text/plain": [
              "True"
            ]
          },
          "execution_count": 155,
          "metadata": {},
          "output_type": "execute_result"
        }
      ],
      "source": [
        "lst2 is lst"
      ]
    },
    {
      "cell_type": "code",
      "execution_count": 156,
      "metadata": {
        "colab": {
          "base_uri": "https://localhost:8080/"
        },
        "id": "r5AT2VLiNODP",
        "outputId": "2a48cf29-a5d6-4c4c-a808-301c4dbba65c"
      },
      "outputs": [
        {
          "name": "stdout",
          "output_type": "stream",
          "text": [
            "[0, 11, 2, 3, 4]\n",
            "[0, 1, 2, 3, 4]\n"
          ]
        }
      ],
      "source": [
        "lst = [0, 1, 2, 3, 4]\n",
        "lst3 = lst[:]\n",
        "lst3[1] = 11\n",
        "print(lst3)\n",
        "print(lst)"
      ]
    },
    {
      "cell_type": "code",
      "execution_count": 157,
      "metadata": {
        "colab": {
          "base_uri": "https://localhost:8080/"
        },
        "id": "2zR_mV6oNODP",
        "outputId": "8bf3bf51-198e-400a-963b-b9c41f6a08ac"
      },
      "outputs": [
        {
          "name": "stdout",
          "output_type": "stream",
          "text": [
            "[30, 40, 50]\n",
            "[0, 1, 2, 3, 4]\n"
          ]
        }
      ],
      "source": [
        "lst = [0, 1, 2, 3, 4]\n",
        "lst2 = lst\n",
        "lst = [30, 40, 50]\n",
        "print(lst)\n",
        "print(lst2)"
      ]
    },
    {
      "cell_type": "code",
      "execution_count": 158,
      "metadata": {
        "colab": {
          "base_uri": "https://localhost:8080/"
        },
        "id": "FD8foW7YNODP",
        "outputId": "bb6c88be-8104-460d-9fd7-730509ce9841"
      },
      "outputs": [
        {
          "data": {
            "text/plain": [
              "False"
            ]
          },
          "execution_count": 158,
          "metadata": {},
          "output_type": "execute_result"
        }
      ],
      "source": [
        "lst is lst2"
      ]
    },
    {
      "cell_type": "code",
      "execution_count": 159,
      "metadata": {
        "colab": {
          "base_uri": "https://localhost:8080/"
        },
        "id": "sF9F_G3iNODP",
        "outputId": "e1051797-cb0b-4dff-8df0-d7b0969cee4c"
      },
      "outputs": [
        {
          "data": {
            "text/plain": [
              "True"
            ]
          },
          "execution_count": 159,
          "metadata": {},
          "output_type": "execute_result"
        }
      ],
      "source": [
        "[1,2,3] == [1,2,3]"
      ]
    },
    {
      "cell_type": "code",
      "execution_count": 160,
      "metadata": {
        "colab": {
          "base_uri": "https://localhost:8080/"
        },
        "id": "GkSOk-IrNODP",
        "outputId": "85a3d042-b2ae-4e8b-a610-3bbd5673868c"
      },
      "outputs": [
        {
          "data": {
            "text/plain": [
              "False"
            ]
          },
          "execution_count": 160,
          "metadata": {},
          "output_type": "execute_result"
        }
      ],
      "source": [
        "[1,2,3] is [1,2,3]"
      ]
    },
    {
      "cell_type": "code",
      "execution_count": 161,
      "metadata": {
        "colab": {
          "base_uri": "https://localhost:8080/"
        },
        "id": "sc0ee6rZNODP",
        "outputId": "0a934a66-5412-4a78-811a-fccb8370207d"
      },
      "outputs": [
        {
          "data": {
            "text/plain": [
              "True"
            ]
          },
          "execution_count": 161,
          "metadata": {},
          "output_type": "execute_result"
        }
      ],
      "source": [
        "2==2"
      ]
    },
    {
      "cell_type": "code",
      "execution_count": 162,
      "metadata": {
        "colab": {
          "base_uri": "https://localhost:8080/"
        },
        "id": "GY-vGUBtNODP",
        "outputId": "66c96882-df64-4f7e-ee5a-230e2114d152"
      },
      "outputs": [
        {
          "name": "stderr",
          "output_type": "stream",
          "text": [
            "<>:1: SyntaxWarning: \"is\" with a literal. Did you mean \"==\"?\n",
            "<>:1: SyntaxWarning: \"is\" with a literal. Did you mean \"==\"?\n",
            "<ipython-input-162-8e1e1a168e96>:1: SyntaxWarning: \"is\" with a literal. Did you mean \"==\"?\n",
            "  2 is 2\n"
          ]
        },
        {
          "data": {
            "text/plain": [
              "True"
            ]
          },
          "execution_count": 162,
          "metadata": {},
          "output_type": "execute_result"
        }
      ],
      "source": [
        "2 is 2"
      ]
    },
    {
      "cell_type": "code",
      "execution_count": 163,
      "metadata": {
        "colab": {
          "base_uri": "https://localhost:8080/"
        },
        "id": "bG5dZvAqNODQ",
        "outputId": "9c9461a2-b9ce-4df9-9cbd-4d00f2d4d9be"
      },
      "outputs": [
        {
          "data": {
            "text/plain": [
              "True"
            ]
          },
          "execution_count": 163,
          "metadata": {},
          "output_type": "execute_result"
        }
      ],
      "source": [
        "a=2\n",
        "b=2\n",
        "a is b"
      ]
    },
    {
      "cell_type": "code",
      "execution_count": 164,
      "metadata": {
        "colab": {
          "base_uri": "https://localhost:8080/"
        },
        "id": "DhQXqlkfNODQ",
        "outputId": "11febb73-aec2-480a-f23e-5c2c68665a6c"
      },
      "outputs": [
        {
          "name": "stdout",
          "output_type": "stream",
          "text": [
            "['December', 'January', 'February', 'June', 'July', 'August']\n",
            "[['December', 'January', 'February'], ['June', 'July', 'August'], ['March', 'April', 'May']]\n",
            "['June', 'July', 'August', 'June', 'July', 'August', 'June', 'July', 'August', 'June', 'July', 'August']\n"
          ]
        }
      ],
      "source": [
        "Winter = ['December', 'January', 'February']\n",
        "Spring = ['March', 'April', 'May']\n",
        "Summer = ['June', 'July', 'August']\n",
        "Autumn = ['September', 'October', 'November']\n",
        "print(Winter + Summer)            # Конкатенация\n",
        "print([Winter, Summer, Spring])   # Список списков\n",
        "print(4*Summer)                 # Конкатенация"
      ]
    },
    {
      "cell_type": "code",
      "execution_count": 165,
      "metadata": {
        "colab": {
          "base_uri": "https://localhost:8080/"
        },
        "id": "Iu5OieOUNODQ",
        "outputId": "0e5cd209-52ac-4f0f-f6fb-262219a936b0"
      },
      "outputs": [
        {
          "name": "stdout",
          "output_type": "stream",
          "text": [
            "['December', 'January', 'February', 'March', 'April', 'May', 'June', 'July', 'August', 'September', 'October', 'November']\n"
          ]
        }
      ],
      "source": [
        "Year = Winter + Spring + Summer + Autumn\n",
        "print(Year)"
      ]
    },
    {
      "cell_type": "code",
      "execution_count": 166,
      "metadata": {
        "colab": {
          "base_uri": "https://localhost:8080/"
        },
        "id": "HLWwEqL8NODQ",
        "outputId": "34bac53d-1f7e-4d09-9867-d98e89442356"
      },
      "outputs": [
        {
          "name": "stdout",
          "output_type": "stream",
          "text": [
            "['December', 'January', 'February', 'March', 'April', 'May']\n",
            "['May', 'June', 'July']\n",
            "['March', 'May', 'July', 'September']\n",
            "['December', 'February', 'April', 'June', 'August', 'October']\n",
            "['January', 'March', 'May', 'July', 'September', 'November']\n",
            "['November', 'October', 'September', 'August', 'July', 'June', 'May', 'April', 'March', 'February', 'January']\n",
            "[]\n",
            "['November', 'October', 'September', 'August', 'July', 'June', 'May', 'April', 'March', 'February', 'January', 'December']\n"
          ]
        }
      ],
      "source": [
        "print(Year[:6])\n",
        "print(Year[5:8])\n",
        "print(Year[3:11:2])\n",
        "print(Year[::2])\n",
        "print(Year[1::2])\n",
        "print(Year[-1:0:-1])\n",
        "print(Year[-1:-1:-1])\n",
        "print(Year[-1::-1])"
      ]
    },
    {
      "cell_type": "code",
      "execution_count": 167,
      "metadata": {
        "colab": {
          "base_uri": "https://localhost:8080/"
        },
        "id": "bdP7HPPANODQ",
        "outputId": "524fac6d-5d81-4bbd-a9c7-61211460788a"
      },
      "outputs": [
        {
          "name": "stdout",
          "output_type": "stream",
          "text": [
            "['January', 'February', 'March', 'April', 'May', 'June', 'July', 'August', 'September', 'October', 'November', 'December']\n"
          ]
        }
      ],
      "source": [
        "Year = Year[1:] + Year[0:1]\n",
        "print(Year)"
      ]
    },
    {
      "cell_type": "code",
      "execution_count": 168,
      "metadata": {
        "colab": {
          "base_uri": "https://localhost:8080/"
        },
        "id": "DCTP1LTXNODR",
        "outputId": "d7018856-df92-410f-fdc8-18eab81697d9"
      },
      "outputs": [
        {
          "data": {
            "text/plain": [
              "['January',\n",
              " 'February',\n",
              " 'March',\n",
              " 'April',\n",
              " 'May',\n",
              " 'June',\n",
              " 'July',\n",
              " 'August',\n",
              " 'September',\n",
              " 'October',\n",
              " 'November',\n",
              " 'December',\n",
              " 'January']"
            ]
          },
          "execution_count": 168,
          "metadata": {},
          "output_type": "execute_result"
        }
      ],
      "source": [
        "NewYear = Year\n",
        "NewYear.append('January')\n",
        "NewYear"
      ]
    },
    {
      "cell_type": "code",
      "execution_count": 169,
      "metadata": {
        "colab": {
          "base_uri": "https://localhost:8080/"
        },
        "id": "uh01jVa6NODR",
        "outputId": "f5667dc7-18b7-4e4e-af22-c34f6a702092"
      },
      "outputs": [
        {
          "data": {
            "text/plain": [
              "['January',\n",
              " 'February',\n",
              " 'March',\n",
              " 'April',\n",
              " 'May',\n",
              " 'June',\n",
              " 'July',\n",
              " 'August',\n",
              " 'September',\n",
              " 'October',\n",
              " 'November',\n",
              " 'December',\n",
              " 'January']"
            ]
          },
          "execution_count": 169,
          "metadata": {},
          "output_type": "execute_result"
        }
      ],
      "source": [
        "Year"
      ]
    },
    {
      "cell_type": "code",
      "execution_count": 170,
      "metadata": {
        "colab": {
          "base_uri": "https://localhost:8080/"
        },
        "id": "XGD64Y4ZNODR",
        "outputId": "faa6488a-674b-4096-fe76-bebbf0b3a327"
      },
      "outputs": [
        {
          "data": {
            "text/plain": [
              "['January',\n",
              " 'February',\n",
              " 'March',\n",
              " 'April',\n",
              " 'May',\n",
              " 'June',\n",
              " 'July',\n",
              " 'August',\n",
              " 'September',\n",
              " 'October',\n",
              " 'November',\n",
              " 'December',\n",
              " 'January',\n",
              " 'February']"
            ]
          },
          "execution_count": 170,
          "metadata": {},
          "output_type": "execute_result"
        }
      ],
      "source": [
        "Year = Year + ['February']\n",
        "Year"
      ]
    },
    {
      "cell_type": "code",
      "execution_count": 171,
      "metadata": {
        "colab": {
          "base_uri": "https://localhost:8080/"
        },
        "id": "tSWRq2tZNODR",
        "outputId": "f02deb22-f6a2-4941-fb78-8ca85688f059"
      },
      "outputs": [
        {
          "data": {
            "text/plain": [
              "True"
            ]
          },
          "execution_count": 171,
          "metadata": {},
          "output_type": "execute_result"
        }
      ],
      "source": [
        "'January' in Year"
      ]
    },
    {
      "cell_type": "code",
      "execution_count": 172,
      "metadata": {
        "colab": {
          "base_uri": "https://localhost:8080/"
        },
        "id": "bBkGbH-eNODR",
        "outputId": "a4741462-19c0-4258-bea0-654ff33cd9f7"
      },
      "outputs": [
        {
          "data": {
            "text/plain": [
              "False"
            ]
          },
          "execution_count": 172,
          "metadata": {},
          "output_type": "execute_result"
        }
      ],
      "source": [
        "'January' not in Winter"
      ]
    },
    {
      "cell_type": "code",
      "execution_count": 173,
      "metadata": {
        "colab": {
          "base_uri": "https://localhost:8080/"
        },
        "id": "uKDyTZEoNODR",
        "outputId": "207c025b-027b-49fb-eb95-52b8d6e698e3"
      },
      "outputs": [
        {
          "name": "stdout",
          "output_type": "stream",
          "text": [
            "['January', 'February', 'March', 'April', 'May', 'June', 'July', 'August', 'September', 'October', 'November', 'December', 'January', 'February', 'NewMonth']\n",
            "['January', 'February', 'March', 'April', 'May', 'June', 'July', 'August', 'September', 'October', 'November', 'December', 'January', 'February']\n",
            "['January', 'March', 'April', 'May', 'June', 'July', 'August', 'September', 'October', 'November', 'December', 'January', 'February']\n",
            "['January', 'March', 'April', 'May', 'June', 'July', 'August', 'September', 'November', 'January', 'February']\n"
          ]
        }
      ],
      "source": [
        "Year.append('NewMonth')\n",
        "print(Year)\n",
        "Year.pop()\n",
        "print(Year)\n",
        "NewYear = Year[:]\n",
        "del NewYear[1]\n",
        "print(NewYear)\n",
        "del NewYear[8:9]\n",
        "NewYear.remove('December')\n",
        "print(NewYear)"
      ]
    },
    {
      "cell_type": "code",
      "execution_count": 174,
      "metadata": {
        "colab": {
          "base_uri": "https://localhost:8080/"
        },
        "id": "iqRRokBiNODR",
        "outputId": "b5fa0b90-85c8-4f2d-eafd-f3258e7cb146"
      },
      "outputs": [
        {
          "name": "stdout",
          "output_type": "stream",
          "text": [
            "['January', 'February', 'March', 'April', 'May', 'June', 'July', 'August', 'September', 'October', 'November', 'December', 'January', 'February']\n"
          ]
        }
      ],
      "source": [
        "print(Year)"
      ]
    },
    {
      "cell_type": "code",
      "execution_count": 175,
      "metadata": {
        "id": "32xobsWmNODS"
      },
      "outputs": [],
      "source": [
        "del NewYear[::2]"
      ]
    },
    {
      "cell_type": "code",
      "execution_count": 176,
      "metadata": {
        "colab": {
          "base_uri": "https://localhost:8080/"
        },
        "id": "Tb-Fku5oNODS",
        "outputId": "12008555-e493-4856-8d90-97641a0175c2"
      },
      "outputs": [
        {
          "name": "stdout",
          "output_type": "stream",
          "text": [
            "['March', 'May', 'July', 'September', 'January']\n"
          ]
        }
      ],
      "source": [
        "print(NewYear)"
      ]
    },
    {
      "cell_type": "code",
      "execution_count": 177,
      "metadata": {
        "id": "rbX09wOVNODS"
      },
      "outputs": [],
      "source": [
        "lst = []\n",
        "item = None\n",
        "indx = 0"
      ]
    },
    {
      "cell_type": "code",
      "execution_count": 178,
      "metadata": {
        "id": "UY6DnsGmNODS"
      },
      "outputs": [],
      "source": [
        "lst.append(item)       # Вставить в конец\n",
        "lst.pop()              # Удалить последний и возвратить значение\n",
        "lst.insert(indx, item) # Вставка в указанную позицию\n",
        "lst.count(item)        # Найти количество вхождений\n",
        "lst.index(item)        # Индекс первого вхождения\n",
        "lst.remove(item)       # Удалить первое вхождение\n",
        "lst.sort()             # Сортировать\n",
        "lst.reverse()          # Записать в обратном порядке"
      ]
    },
    {
      "cell_type": "code",
      "execution_count": 179,
      "metadata": {
        "colab": {
          "base_uri": "https://localhost:8080/"
        },
        "id": "2eHQqnY2NODS",
        "outputId": "c7ac29ca-c84f-49c5-eb81-d1953633765f"
      },
      "outputs": [
        {
          "name": "stdout",
          "output_type": "stream",
          "text": [
            "[1, 2, 3, 1, 111, 222]\n",
            "[2, 3, 1, 111, 222]\n"
          ]
        }
      ],
      "source": [
        "lst = [1,2,3,1,111,222]\n",
        "print(lst)\n",
        "lst.remove(1)\n",
        "print(lst)"
      ]
    },
    {
      "cell_type": "code",
      "execution_count": 180,
      "metadata": {
        "id": "a971aEc-NODS"
      },
      "outputs": [],
      "source": [
        "lst.remove(1)"
      ]
    },
    {
      "cell_type": "code",
      "execution_count": 181,
      "metadata": {
        "colab": {
          "base_uri": "https://localhost:8080/"
        },
        "id": "ZSPDeBqJNODS",
        "outputId": "114f9de1-6a9b-448e-be7b-8fe188b8929a"
      },
      "outputs": [
        {
          "data": {
            "text/plain": [
              "[2, 3, 111, 222]"
            ]
          },
          "execution_count": 181,
          "metadata": {},
          "output_type": "execute_result"
        }
      ],
      "source": [
        "lst"
      ]
    },
    {
      "cell_type": "code",
      "execution_count": 182,
      "metadata": {
        "colab": {
          "base_uri": "https://localhost:8080/"
        },
        "id": "LIaZjCnINODT",
        "outputId": "bd2bd348-15c5-4f14-fe0e-3a1aa5b7efcf"
      },
      "outputs": [
        {
          "name": "stdout",
          "output_type": "stream",
          "text": [
            "-3 44\n",
            "[-3, 1, 1, 1, 3, 12, 12, 13, 21, 35, 44, 44]\n"
          ]
        }
      ],
      "source": [
        "lst = [1, 3, 44,12,21, 1, -3, 1, 44,12,35,13]\n",
        "print(min(lst), max(lst))\n",
        "lst.sort()\n",
        "print(lst)"
      ]
    },
    {
      "cell_type": "code",
      "execution_count": 183,
      "metadata": {
        "colab": {
          "base_uri": "https://localhost:8080/"
        },
        "id": "xee26aCtNODT",
        "outputId": "7aaf08b2-f44a-461f-84d3-42bbc3f2c11e"
      },
      "outputs": [
        {
          "data": {
            "text/plain": [
              "True"
            ]
          },
          "execution_count": 183,
          "metadata": {},
          "output_type": "execute_result"
        }
      ],
      "source": [
        "[[12],1,2]<[[12,3],3,4]"
      ]
    },
    {
      "cell_type": "markdown",
      "metadata": {
        "id": "VHQKRaJgNODT"
      },
      "source": [
        "<b>range(begin, end, step)</b>\n",
        "\n",
        "По умолчанию `begin=0`, `step=1`"
      ]
    },
    {
      "cell_type": "code",
      "execution_count": 184,
      "metadata": {
        "id": "VGP1ZJ4wNODT"
      },
      "outputs": [],
      "source": [
        "r = range(5)"
      ]
    },
    {
      "cell_type": "code",
      "execution_count": 185,
      "metadata": {
        "colab": {
          "base_uri": "https://localhost:8080/"
        },
        "id": "0_RXkPO-NODT",
        "outputId": "9ee53cf3-857c-45e5-8cdc-7042a05a5a87"
      },
      "outputs": [
        {
          "data": {
            "text/plain": [
              "range(0, 5)"
            ]
          },
          "execution_count": 185,
          "metadata": {},
          "output_type": "execute_result"
        }
      ],
      "source": [
        "r"
      ]
    },
    {
      "cell_type": "code",
      "execution_count": 186,
      "metadata": {
        "colab": {
          "base_uri": "https://localhost:8080/"
        },
        "id": "Fir_doQ3NODT",
        "outputId": "c7132412-2b10-4c69-9d0e-25ba9f42503d"
      },
      "outputs": [
        {
          "data": {
            "text/plain": [
              "<range_iterator at 0x7f5cf518c930>"
            ]
          },
          "execution_count": 186,
          "metadata": {},
          "output_type": "execute_result"
        }
      ],
      "source": [
        "r = iter(range(5))\n",
        "r"
      ]
    },
    {
      "cell_type": "code",
      "execution_count": 187,
      "metadata": {
        "colab": {
          "base_uri": "https://localhost:8080/"
        },
        "id": "927SsRdFNODT",
        "outputId": "88e3135a-7509-469c-e04c-bae8bc16faa3"
      },
      "outputs": [
        {
          "data": {
            "text/plain": [
              "range(1, 5)"
            ]
          },
          "execution_count": 187,
          "metadata": {},
          "output_type": "execute_result"
        }
      ],
      "source": [
        "range(1, 5)"
      ]
    },
    {
      "cell_type": "code",
      "execution_count": 188,
      "metadata": {
        "colab": {
          "base_uri": "https://localhost:8080/"
        },
        "id": "AVfyX72JNODU",
        "outputId": "cbf7a2bd-e069-445e-9112-4575cbfd13a2"
      },
      "outputs": [
        {
          "data": {
            "text/plain": [
              "range(1, 16, 3)"
            ]
          },
          "execution_count": 188,
          "metadata": {},
          "output_type": "execute_result"
        }
      ],
      "source": [
        "range(1, 16, 3)"
      ]
    },
    {
      "cell_type": "code",
      "execution_count": 189,
      "metadata": {
        "colab": {
          "base_uri": "https://localhost:8080/"
        },
        "id": "Pt5cgAcTNODU",
        "outputId": "6ed5461f-6aac-40dd-cddb-0fd603db02ac"
      },
      "outputs": [
        {
          "data": {
            "text/plain": [
              "[-3, 1, 1, 1, 3, 12, 12, 13, 21, 35, 44, 44]"
            ]
          },
          "execution_count": 189,
          "metadata": {},
          "output_type": "execute_result"
        }
      ],
      "source": [
        "lst"
      ]
    },
    {
      "cell_type": "markdown",
      "metadata": {
        "id": "z-d66XsnNODU"
      },
      "source": [
        "# Кортежи"
      ]
    },
    {
      "cell_type": "markdown",
      "metadata": {
        "id": "WX9YhNpwNODU"
      },
      "source": [
        "_Кортеж_ (tuple) - неизменяемый (immutable) контейнер (в отличие от списка). В остальном они ведут себя так же, как списки."
      ]
    },
    {
      "cell_type": "code",
      "execution_count": 190,
      "metadata": {
        "colab": {
          "base_uri": "https://localhost:8080/"
        },
        "id": "AhrrjxHONODU",
        "outputId": "c001f919-bc62-4763-f9e0-023788db033a"
      },
      "outputs": [
        {
          "name": "stdout",
          "output_type": "stream",
          "text": [
            "(1, 2, 3, 'four')\n",
            "<class 'tuple'>\n"
          ]
        }
      ],
      "source": [
        "x = (1, 2, 3, 'four') # Скобки можно опустить\n",
        "print(x)\n",
        "print(type(x))"
      ]
    },
    {
      "cell_type": "code",
      "execution_count": 191,
      "metadata": {
        "colab": {
          "base_uri": "https://localhost:8080/"
        },
        "id": "0Bl7NdxsNODU",
        "outputId": "98b22b52-2c2b-48ac-e636-a6073f768722"
      },
      "outputs": [
        {
          "data": {
            "text/plain": [
              "(1, 2, 3, 'four')"
            ]
          },
          "execution_count": 191,
          "metadata": {},
          "output_type": "execute_result"
        }
      ],
      "source": [
        "x = 1, 2, 3, 'four'\n",
        "x"
      ]
    },
    {
      "cell_type": "code",
      "execution_count": 192,
      "metadata": {
        "colab": {
          "base_uri": "https://localhost:8080/"
        },
        "id": "5bV83su8NODU",
        "outputId": "c1dbf6d1-0b78-4d0b-a0d9-06051afd90ed"
      },
      "outputs": [
        {
          "data": {
            "text/plain": [
              "(1, 123, 123)"
            ]
          },
          "execution_count": 192,
          "metadata": {},
          "output_type": "execute_result"
        }
      ],
      "source": [
        "x = (1,123,123,)\n",
        "x"
      ]
    },
    {
      "cell_type": "code",
      "execution_count": 193,
      "metadata": {
        "colab": {
          "base_uri": "https://localhost:8080/"
        },
        "id": "o6oSbLnSNODU",
        "outputId": "6dba0d28-42cf-4b68-b754-bab1c4dcbcab"
      },
      "outputs": [
        {
          "data": {
            "text/plain": [
              "()"
            ]
          },
          "execution_count": 193,
          "metadata": {},
          "output_type": "execute_result"
        }
      ],
      "source": [
        "()"
      ]
    },
    {
      "cell_type": "code",
      "execution_count": 194,
      "metadata": {
        "colab": {
          "base_uri": "https://localhost:8080/"
        },
        "id": "S7oXbNitNODV",
        "outputId": "f8f3e2e6-6f36-4e78-c61e-48e7752fba91"
      },
      "outputs": [
        {
          "data": {
            "text/plain": [
              "tuple"
            ]
          },
          "execution_count": 194,
          "metadata": {},
          "output_type": "execute_result"
        }
      ],
      "source": [
        "type(())"
      ]
    },
    {
      "cell_type": "code",
      "execution_count": 195,
      "metadata": {
        "colab": {
          "base_uri": "https://localhost:8080/"
        },
        "id": "kq05qiC7NODV",
        "outputId": "f226b252-a985-44bb-e0cc-5586fe71b793"
      },
      "outputs": [
        {
          "data": {
            "text/plain": [
              "1"
            ]
          },
          "execution_count": 195,
          "metadata": {},
          "output_type": "execute_result"
        }
      ],
      "source": [
        "a=(1)\n",
        "a"
      ]
    },
    {
      "cell_type": "code",
      "execution_count": 196,
      "metadata": {
        "colab": {
          "base_uri": "https://localhost:8080/"
        },
        "id": "h2lmtth8NODV",
        "outputId": "5d93308d-bda3-459f-8ee7-f1f14cbe99f4"
      },
      "outputs": [
        {
          "data": {
            "text/plain": [
              "int"
            ]
          },
          "execution_count": 196,
          "metadata": {},
          "output_type": "execute_result"
        }
      ],
      "source": [
        "type(a)"
      ]
    },
    {
      "cell_type": "code",
      "execution_count": 197,
      "metadata": {
        "colab": {
          "base_uri": "https://localhost:8080/"
        },
        "id": "ZxK5_ttENODV",
        "outputId": "ed9f760a-225a-477d-db9d-8e3aadb1fcbe"
      },
      "outputs": [
        {
          "data": {
            "text/plain": [
              "(1,)"
            ]
          },
          "execution_count": 197,
          "metadata": {},
          "output_type": "execute_result"
        }
      ],
      "source": [
        "(1,)"
      ]
    },
    {
      "cell_type": "code",
      "execution_count": 198,
      "metadata": {
        "colab": {
          "base_uri": "https://localhost:8080/"
        },
        "id": "Jq2Y4ES1NODV",
        "outputId": "7b0f5606-b49f-435f-fc68-0d9698470171"
      },
      "outputs": [
        {
          "data": {
            "text/plain": [
              "int"
            ]
          },
          "execution_count": 198,
          "metadata": {},
          "output_type": "execute_result"
        }
      ],
      "source": [
        "type(1)"
      ]
    },
    {
      "cell_type": "code",
      "execution_count": 199,
      "metadata": {
        "colab": {
          "base_uri": "https://localhost:8080/"
        },
        "id": "-e73E7k2NODV",
        "outputId": "a442e4b2-71e0-466a-8993-411076ac0d57"
      },
      "outputs": [
        {
          "data": {
            "text/plain": [
              "tuple"
            ]
          },
          "execution_count": 199,
          "metadata": {},
          "output_type": "execute_result"
        }
      ],
      "source": [
        "type((1,))"
      ]
    },
    {
      "cell_type": "code",
      "execution_count": 200,
      "metadata": {
        "colab": {
          "base_uri": "https://localhost:8080/"
        },
        "id": "B5M4JbvsNODV",
        "outputId": "9a3f074d-0366-4a8f-f0eb-e5ca200247b3"
      },
      "outputs": [
        {
          "name": "stdout",
          "output_type": "stream",
          "text": [
            "(1,)\n"
          ]
        }
      ],
      "source": [
        "singleton = 1,              # Кортеж из одного элемента (скобки можно опустить)\n",
        "print(singleton)"
      ]
    },
    {
      "cell_type": "code",
      "execution_count": 201,
      "metadata": {
        "colab": {
          "base_uri": "https://localhost:8080/"
        },
        "id": "LCooZz_kNODW",
        "outputId": "b42be130-5c60-4142-fadb-b557c6f55601"
      },
      "outputs": [
        {
          "name": "stdout",
          "output_type": "stream",
          "text": [
            "1 123 123 3\n",
            "(123, 123) (1, 123, 123) (123, 123)\n"
          ]
        }
      ],
      "source": [
        "print(x[0], x[1], x[-1], len(x))\n",
        "print(x[1:3], x[:3], x[1:])       # Подкортежи"
      ]
    },
    {
      "cell_type": "code",
      "execution_count": 202,
      "metadata": {
        "colab": {
          "base_uri": "https://localhost:8080/"
        },
        "id": "hJhs4FBaNODW",
        "outputId": "673e877c-1824-4584-fa82-70324ecfba8f"
      },
      "outputs": [
        {
          "data": {
            "text/plain": [
              "tuple"
            ]
          },
          "execution_count": 202,
          "metadata": {},
          "output_type": "execute_result"
        }
      ],
      "source": [
        "type(x[1:])"
      ]
    },
    {
      "cell_type": "code",
      "execution_count": 204,
      "metadata": {
        "id": "eqdRSpKUNODW"
      },
      "outputs": [],
      "source": [
        "#x[3] = 4               # Нельзя!\n",
        "#x[3:5] = [4, 5, 6]    # Нельзя!"
      ]
    },
    {
      "cell_type": "code",
      "execution_count": 205,
      "metadata": {
        "colab": {
          "base_uri": "https://localhost:8080/"
        },
        "id": "VQqZ4-osNODW",
        "outputId": "5242302f-4f63-4428-a79f-8d50966970cd"
      },
      "outputs": [
        {
          "data": {
            "text/plain": [
              "(1, 3, 5, 7, 2, 4, 6, 8)"
            ]
          },
          "execution_count": 205,
          "metadata": {},
          "output_type": "execute_result"
        }
      ],
      "source": [
        "y1 = 1, 3, 5, 7\n",
        "y2 = 2, 4, 6, 8\n",
        "y1 + y2                # Конкатенация"
      ]
    },
    {
      "cell_type": "code",
      "execution_count": 206,
      "metadata": {
        "colab": {
          "base_uri": "https://localhost:8080/"
        },
        "id": "VIALc8oKNODW",
        "outputId": "fd56f26c-9cb2-4101-9aab-690a1bda7cb2"
      },
      "outputs": [
        {
          "name": "stdout",
          "output_type": "stream",
          "text": [
            "a = 10\n",
            "b = 2\n"
          ]
        }
      ],
      "source": [
        "a = 2\n",
        "b = 10\n",
        "a, b = b, a\n",
        "print('a =', a)\n",
        "print('b =', b)"
      ]
    },
    {
      "cell_type": "code",
      "execution_count": 207,
      "metadata": {
        "id": "M7gTkmw1NODW"
      },
      "outputs": [],
      "source": [
        "a, b = b, a"
      ]
    },
    {
      "cell_type": "code",
      "execution_count": 208,
      "metadata": {
        "id": "zURstHasNODW"
      },
      "outputs": [],
      "source": [
        "(a, b) = (b, a)"
      ]
    },
    {
      "cell_type": "code",
      "execution_count": 209,
      "metadata": {
        "id": "_m03313DNODW"
      },
      "outputs": [],
      "source": [
        "tpl = (1, 2, 3, 55)"
      ]
    },
    {
      "cell_type": "code",
      "execution_count": 210,
      "metadata": {
        "colab": {
          "base_uri": "https://localhost:8080/"
        },
        "id": "IC_T_O5ENODW",
        "outputId": "724f15d1-769c-4502-e4c0-a5c60a365e93"
      },
      "outputs": [
        {
          "name": "stdout",
          "output_type": "stream",
          "text": [
            "1 2 3 55\n"
          ]
        }
      ],
      "source": [
        "a, b, c, d = (1, 2, 3, 55)\n",
        "print(a, b, c, d)"
      ]
    },
    {
      "cell_type": "code",
      "execution_count": 211,
      "metadata": {
        "colab": {
          "base_uri": "https://localhost:8080/"
        },
        "id": "W2CdokqMNODX",
        "outputId": "c3e9b08c-5276-4036-e664-3388631a5c85"
      },
      "outputs": [
        {
          "name": "stdout",
          "output_type": "stream",
          "text": [
            "1 2 3 55\n"
          ]
        }
      ],
      "source": [
        "[a, b, c, d] = [1, 2, 3, 55]\n",
        "print(a, b, c, d)"
      ]
    },
    {
      "cell_type": "code",
      "execution_count": 212,
      "metadata": {
        "colab": {
          "base_uri": "https://localhost:8080/"
        },
        "id": "X44j7ffdNODX",
        "outputId": "8e7bacbf-326a-46ec-96d5-dface84ae23a"
      },
      "outputs": [
        {
          "data": {
            "text/plain": [
              "(1, 2, 3, 55)"
            ]
          },
          "execution_count": 212,
          "metadata": {},
          "output_type": "execute_result"
        }
      ],
      "source": [
        "a = (1, 2, 3, 55)\n",
        "a"
      ]
    },
    {
      "cell_type": "code",
      "execution_count": 215,
      "metadata": {
        "id": "ivjj7acmNODX"
      },
      "outputs": [],
      "source": [
        "#a, b = (1, 2, 3, 55)"
      ]
    },
    {
      "cell_type": "markdown",
      "metadata": {
        "id": "_gg_qmvqNODX"
      },
      "source": [
        "# Словари\n",
        "_Словарь_ ( _ассоциативный массив_ ) - изменяемый контейнер. Обращение к элементу словаря - по имени (ключу) элемента. В качестве ключей могут выступать любые неизменяемые типы, в частности, строки, числа (int, long, float), кортежи."
      ]
    },
    {
      "cell_type": "code",
      "execution_count": 216,
      "metadata": {
        "colab": {
          "base_uri": "https://localhost:8080/"
        },
        "id": "K-bycpNzNODX",
        "outputId": "9371e8c3-3b95-4e57-8062-e31ba271a841"
      },
      "outputs": [
        {
          "name": "stdout",
          "output_type": "stream",
          "text": [
            "{'FirstName': 'Isac', 'LastName': 'Newton'}\n"
          ]
        }
      ],
      "source": [
        "person = {'FirstName': 'Isac', 'LastName': 'Newton'}\n",
        "print(person)"
      ]
    },
    {
      "cell_type": "code",
      "execution_count": 217,
      "metadata": {
        "id": "8GU7bt5ENODX"
      },
      "outputs": [],
      "source": [
        "person = {'FirstName': 'Isac', 'LastName': 'Newton', (1, 2): 5, 'Age': 22, 2:123, 2.3:2.3}"
      ]
    },
    {
      "cell_type": "code",
      "execution_count": 218,
      "metadata": {
        "colab": {
          "base_uri": "https://localhost:8080/"
        },
        "id": "rDEkT4lBNODX",
        "outputId": "a27b95d6-e2e0-4873-a568-827fdaf511cf"
      },
      "outputs": [
        {
          "data": {
            "text/plain": [
              "{'FirstName': 'Isac',\n",
              " 'LastName': 'Newton',\n",
              " (1, 2): 5,\n",
              " 'Age': 22,\n",
              " 2: 123,\n",
              " 2.3: 2.3}"
            ]
          },
          "execution_count": 218,
          "metadata": {},
          "output_type": "execute_result"
        }
      ],
      "source": [
        "person"
      ]
    },
    {
      "cell_type": "code",
      "execution_count": 219,
      "metadata": {
        "colab": {
          "base_uri": "https://localhost:8080/"
        },
        "id": "wmNcd4sYNODX",
        "outputId": "b5aca5c8-6cfa-4699-e79d-88257c276405"
      },
      "outputs": [
        {
          "data": {
            "text/plain": [
              "dict"
            ]
          },
          "execution_count": 219,
          "metadata": {},
          "output_type": "execute_result"
        }
      ],
      "source": [
        "type(person)"
      ]
    },
    {
      "cell_type": "code",
      "execution_count": 220,
      "metadata": {
        "colab": {
          "base_uri": "https://localhost:8080/"
        },
        "id": "e8gwlzsWNODY",
        "outputId": "3ee87318-ed0b-486c-d5e2-15079a3c5d3e"
      },
      "outputs": [
        {
          "name": "stdout",
          "output_type": "stream",
          "text": [
            "{'FirstName': 'Isaac', 'LastName': 'Newton', (1, 2): 5, 'Age': 50, 2: 123, 2.3: 2.3, 'Profession': 'Scientist', -33.5: 65535, (1, 3): [1, 2, 4], True: [1, 2, 4]}\n"
          ]
        }
      ],
      "source": [
        "person['FirstName'] = 'Isaac'\n",
        "person['Profession'] = 'Scientist'\n",
        "person['Age'] = 50\n",
        "person[-33.5] = 0xFFFF\n",
        "person[(1,3)] = [1, 2, 4,]\n",
        "person[True] = [1, 2, 4,]\n",
        "print(person)"
      ]
    },
    {
      "cell_type": "code",
      "execution_count": 222,
      "metadata": {
        "id": "I5OBZERYNODY"
      },
      "outputs": [],
      "source": [
        "#person[[1, 2, 3]] = 123"
      ]
    },
    {
      "cell_type": "code",
      "execution_count": 223,
      "metadata": {
        "colab": {
          "base_uri": "https://localhost:8080/"
        },
        "id": "Dxzt9L2XNODY",
        "outputId": "6f70f082-51e3-411f-8438-2d1bb7b66ca2"
      },
      "outputs": [
        {
          "data": {
            "text/plain": [
              "{'FirstName': 'Isaac',\n",
              " 'LastName': 'Newton',\n",
              " (1, 2): '123',\n",
              " 'Age': 50,\n",
              " 2: 123,\n",
              " 2.3: 2.3,\n",
              " 'Profession': 'Scientist',\n",
              " -33.5: 65535,\n",
              " (1, 3): [1, 2, 4],\n",
              " True: [1, 2, 4]}"
            ]
          },
          "execution_count": 223,
          "metadata": {},
          "output_type": "execute_result"
        }
      ],
      "source": [
        "person[(1, 2)] = '123' # В качестве ключей используем любые неизменяемые типы\n",
        "person"
      ]
    },
    {
      "cell_type": "code",
      "execution_count": 224,
      "metadata": {
        "colab": {
          "base_uri": "https://localhost:8080/"
        },
        "id": "QfhDq3w4NODY",
        "outputId": "d50b76fc-8bb6-4b5b-f357-e4416a8ac70d"
      },
      "outputs": [
        {
          "name": "stdout",
          "output_type": "stream",
          "text": [
            "{(1, 3): 5.555, (4, 8): 6.666}\n"
          ]
        }
      ],
      "source": [
        "sparse = {(1, 3): 5.555, (4, 8): 6.666}\n",
        "print(sparse)"
      ]
    },
    {
      "cell_type": "code",
      "execution_count": 225,
      "metadata": {
        "colab": {
          "base_uri": "https://localhost:8080/"
        },
        "id": "S9UHYvAwNODY",
        "outputId": "6e19291f-b4d0-4bd4-81b8-6385382f0fe1"
      },
      "outputs": [
        {
          "data": {
            "text/plain": [
              "False"
            ]
          },
          "execution_count": 225,
          "metadata": {},
          "output_type": "execute_result"
        }
      ],
      "source": [
        "(1, 4) in sparse"
      ]
    },
    {
      "cell_type": "code",
      "execution_count": 226,
      "metadata": {
        "colab": {
          "base_uri": "https://localhost:8080/"
        },
        "id": "UqSLlVgENODY",
        "outputId": "0475aa5d-2747-4cb9-c0da-217d229f4a08"
      },
      "outputs": [
        {
          "data": {
            "text/plain": [
              "True"
            ]
          },
          "execution_count": 226,
          "metadata": {},
          "output_type": "execute_result"
        }
      ],
      "source": [
        "(1, 3) in sparse"
      ]
    },
    {
      "cell_type": "code",
      "execution_count": 227,
      "metadata": {
        "colab": {
          "base_uri": "https://localhost:8080/"
        },
        "id": "mbeSPZVFNODY",
        "outputId": "485efa19-ee8a-4db4-eeff-b977adbce1e5"
      },
      "outputs": [
        {
          "data": {
            "text/plain": [
              "dict_keys(['FirstName', 'LastName', (1, 2), 'Age', 2, 2.3, 'Profession', -33.5, (1, 3), True])"
            ]
          },
          "execution_count": 227,
          "metadata": {},
          "output_type": "execute_result"
        }
      ],
      "source": [
        "person.keys()"
      ]
    },
    {
      "cell_type": "code",
      "execution_count": 228,
      "metadata": {
        "colab": {
          "base_uri": "https://localhost:8080/"
        },
        "id": "Rkj32PUqNODY",
        "outputId": "21e92612-42f4-4170-de89-25940d8444cc"
      },
      "outputs": [
        {
          "data": {
            "text/plain": [
              "dict_values(['Isaac', 'Newton', '123', 50, 123, 2.3, 'Scientist', 65535, [1, 2, 4], [1, 2, 4]])"
            ]
          },
          "execution_count": 228,
          "metadata": {},
          "output_type": "execute_result"
        }
      ],
      "source": [
        "person.values()"
      ]
    },
    {
      "cell_type": "code",
      "execution_count": 229,
      "metadata": {
        "colab": {
          "base_uri": "https://localhost:8080/"
        },
        "id": "T-aGEqllNODZ",
        "outputId": "d5f183e2-a865-4e86-a334-923621544498"
      },
      "outputs": [
        {
          "data": {
            "text/plain": [
              "True"
            ]
          },
          "execution_count": 229,
          "metadata": {},
          "output_type": "execute_result"
        }
      ],
      "source": [
        "'Isaac' in person.values()"
      ]
    },
    {
      "cell_type": "code",
      "execution_count": 230,
      "metadata": {
        "colab": {
          "base_uri": "https://localhost:8080/"
        },
        "id": "kiG7RAYFNODZ",
        "outputId": "d095137d-5c74-429e-f377-f33fc5752862"
      },
      "outputs": [
        {
          "name": "stdout",
          "output_type": "stream",
          "text": [
            "{'FirstName': 'Isaac', 'LastName': 'Newton', (1, 2): '123', 'Age': 50, 2: 123, 2.3: 2.3, 'Profession': 'Scientist', (1, 3): [1, 2, 4], True: [1, 2, 4]}\n"
          ]
        }
      ],
      "source": [
        "del person[-33.5]\n",
        "print(person)"
      ]
    },
    {
      "cell_type": "code",
      "execution_count": 231,
      "metadata": {
        "colab": {
          "base_uri": "https://localhost:8080/"
        },
        "id": "VuEU9Ih8NODZ",
        "outputId": "e4b10c24-f87e-4896-e9c8-e617ff94f76a"
      },
      "outputs": [
        {
          "data": {
            "text/plain": [
              "dict_keys(['FirstName', 'LastName', (1, 2), 'Age', 2, 2.3, 'Profession', (1, 3), True])"
            ]
          },
          "execution_count": 231,
          "metadata": {},
          "output_type": "execute_result"
        }
      ],
      "source": [
        "person.keys()"
      ]
    },
    {
      "cell_type": "code",
      "execution_count": 232,
      "metadata": {
        "colab": {
          "base_uri": "https://localhost:8080/"
        },
        "id": "ldG2LsjdNODZ",
        "outputId": "41ef2530-734c-43d8-cc51-2b11dcfcd87e"
      },
      "outputs": [
        {
          "data": {
            "text/plain": [
              "dict_values(['Isaac', 'Newton', '123', 50, 123, 2.3, 'Scientist', [1, 2, 4], [1, 2, 4]])"
            ]
          },
          "execution_count": 232,
          "metadata": {},
          "output_type": "execute_result"
        }
      ],
      "source": [
        "person.values()"
      ]
    },
    {
      "cell_type": "code",
      "execution_count": 233,
      "metadata": {
        "colab": {
          "base_uri": "https://localhost:8080/"
        },
        "id": "t7MyqT02NODZ",
        "outputId": "f1843bbe-de0a-4ad6-fcf3-fb14a39ecfce"
      },
      "outputs": [
        {
          "data": {
            "text/plain": [
              "dict_items([('FirstName', 'Isaac'), ('LastName', 'Newton'), ((1, 2), '123'), ('Age', 50), (2, 123), (2.3, 2.3), ('Profession', 'Scientist'), ((1, 3), [1, 2, 4]), (True, [1, 2, 4])])"
            ]
          },
          "execution_count": 233,
          "metadata": {},
          "output_type": "execute_result"
        }
      ],
      "source": [
        "person.items()"
      ]
    },
    {
      "cell_type": "code",
      "execution_count": 234,
      "metadata": {
        "colab": {
          "base_uri": "https://localhost:8080/"
        },
        "id": "8oFnUiIbNODZ",
        "outputId": "df2107b2-46cf-45a4-a179-24a4ca56ac23"
      },
      "outputs": [
        {
          "data": {
            "text/plain": [
              "{'FirstName': 'Isaac',\n",
              " 'LastName': 'Newton',\n",
              " (1, 2): '123',\n",
              " 'Age': 50,\n",
              " 2: 123,\n",
              " 2.3: 2.3,\n",
              " 'Profession': 'Scientist',\n",
              " (1, 3): [1, 2, 4],\n",
              " True: [1, 2, 4]}"
            ]
          },
          "execution_count": 234,
          "metadata": {},
          "output_type": "execute_result"
        }
      ],
      "source": [
        "person"
      ]
    },
    {
      "cell_type": "code",
      "execution_count": 235,
      "metadata": {
        "colab": {
          "base_uri": "https://localhost:8080/"
        },
        "id": "TxNJgCO4NODZ",
        "outputId": "4210b3b1-c60a-4393-c68b-50bbc0910a21"
      },
      "outputs": [
        {
          "data": {
            "text/plain": [
              "True"
            ]
          },
          "execution_count": 235,
          "metadata": {},
          "output_type": "execute_result"
        }
      ],
      "source": [
        "'FirstName' in person"
      ]
    },
    {
      "cell_type": "code",
      "execution_count": 236,
      "metadata": {
        "colab": {
          "base_uri": "https://localhost:8080/"
        },
        "id": "Z_0uw4fRNODa",
        "outputId": "30199258-4c83-45fb-eaab-4e607023450e"
      },
      "outputs": [
        {
          "data": {
            "text/plain": [
              "True"
            ]
          },
          "execution_count": 236,
          "metadata": {},
          "output_type": "execute_result"
        }
      ],
      "source": [
        "'FirstName' in person.keys()"
      ]
    },
    {
      "cell_type": "code",
      "execution_count": 237,
      "metadata": {
        "colab": {
          "base_uri": "https://localhost:8080/"
        },
        "id": "7bI_zdG0NODa",
        "outputId": "98fa557c-9d2f-47c8-b9ce-3709e8046855"
      },
      "outputs": [
        {
          "data": {
            "text/plain": [
              "True"
            ]
          },
          "execution_count": 237,
          "metadata": {},
          "output_type": "execute_result"
        }
      ],
      "source": [
        "50 in person.values()"
      ]
    },
    {
      "cell_type": "code",
      "execution_count": 238,
      "metadata": {
        "colab": {
          "base_uri": "https://localhost:8080/"
        },
        "id": "BfSUQQTjNODa",
        "outputId": "f59966a1-1734-4352-9251-0c196b3f0453"
      },
      "outputs": [
        {
          "data": {
            "text/plain": [
              "True"
            ]
          },
          "execution_count": 238,
          "metadata": {},
          "output_type": "execute_result"
        }
      ],
      "source": [
        "('Age', 50) in person.items()"
      ]
    },
    {
      "cell_type": "code",
      "execution_count": 239,
      "metadata": {
        "colab": {
          "base_uri": "https://localhost:8080/"
        },
        "id": "YhcxACueNODa",
        "outputId": "8bfffb9a-88b0-47ff-abfe-f19dd0cb9055"
      },
      "outputs": [
        {
          "data": {
            "text/plain": [
              "True"
            ]
          },
          "execution_count": 239,
          "metadata": {},
          "output_type": "execute_result"
        }
      ],
      "source": [
        "'Age' in person"
      ]
    },
    {
      "cell_type": "code",
      "execution_count": 240,
      "metadata": {
        "colab": {
          "base_uri": "https://localhost:8080/"
        },
        "id": "9hfSBuJmNODa",
        "outputId": "c202f41f-a02b-4073-f504-2e95bb9d846d"
      },
      "outputs": [
        {
          "data": {
            "text/plain": [
              "False"
            ]
          },
          "execution_count": 240,
          "metadata": {},
          "output_type": "execute_result"
        }
      ],
      "source": [
        "(3, 4) in sparse"
      ]
    },
    {
      "cell_type": "code",
      "execution_count": 241,
      "metadata": {
        "colab": {
          "base_uri": "https://localhost:8080/"
        },
        "id": "38JMiPNUNODa",
        "outputId": "6e12f222-3d0c-43f6-90dd-89eb704c9ee7"
      },
      "outputs": [
        {
          "data": {
            "text/plain": [
              "True"
            ]
          },
          "execution_count": 241,
          "metadata": {},
          "output_type": "execute_result"
        }
      ],
      "source": [
        "(1, 3) in sparse"
      ]
    },
    {
      "cell_type": "code",
      "execution_count": 242,
      "metadata": {
        "colab": {
          "base_uri": "https://localhost:8080/"
        },
        "id": "2UYsI6mLNODa",
        "outputId": "18615efc-bb72-4874-871e-6a71561d15c0"
      },
      "outputs": [
        {
          "data": {
            "text/plain": [
              "{'FirstName': 'Isaac',\n",
              " 'LastName': 'Newton',\n",
              " (1, 2): '123',\n",
              " 'Age': 50,\n",
              " 2: 123,\n",
              " 2.3: 2.3,\n",
              " 'Profession': 'Scientist',\n",
              " (1, 3): [1, 2, 4],\n",
              " True: [1, 2, 4]}"
            ]
          },
          "execution_count": 242,
          "metadata": {},
          "output_type": "execute_result"
        }
      ],
      "source": [
        "person"
      ]
    },
    {
      "cell_type": "markdown",
      "metadata": {
        "id": "sAFElyEqNODa"
      },
      "source": [
        "# Ввод/вывод"
      ]
    },
    {
      "cell_type": "code",
      "execution_count": 243,
      "metadata": {
        "colab": {
          "base_uri": "https://localhost:8080/"
        },
        "id": "3Elnfu5sNODa",
        "outputId": "80eb57d1-02d7-49fc-922a-a80fb0fd6df9"
      },
      "outputs": [
        {
          "name": "stdout",
          "output_type": "stream",
          "text": [
            "Введите строку: 123\n",
            "123\n"
          ]
        },
        {
          "data": {
            "text/plain": [
              "str"
            ]
          },
          "execution_count": 243,
          "metadata": {},
          "output_type": "execute_result"
        }
      ],
      "source": [
        "v = input('Введите строку: ')\n",
        "print(v)\n",
        "type(v)"
      ]
    },
    {
      "cell_type": "code",
      "execution_count": 244,
      "metadata": {
        "colab": {
          "base_uri": "https://localhost:8080/"
        },
        "id": "M4XjNTYzNODb",
        "outputId": "b33fc5c6-c85d-458f-a5ce-008c4c9b3644"
      },
      "outputs": [
        {
          "name": "stdout",
          "output_type": "stream",
          "text": [
            "Введите выражение: 123+321\n",
            "123+321\n",
            "444\n"
          ]
        }
      ],
      "source": [
        "s = input('Введите выражение: ')\n",
        "print(s)\n",
        "v = eval(s)\n",
        "print(v)"
      ]
    },
    {
      "cell_type": "code",
      "execution_count": 245,
      "metadata": {
        "colab": {
          "base_uri": "https://localhost:8080/"
        },
        "id": "daWgnwY5NODb",
        "outputId": "8deb9cfd-4090-4946-b3d7-8418b66cbe50"
      },
      "outputs": [
        {
          "name": "stdout",
          "output_type": "stream",
          "text": [
            "Введите выражение: 111\n",
            "111\n",
            "111\n"
          ]
        }
      ],
      "source": [
        "a = 123\n",
        "b = 321\n",
        "s = input('Введите выражение: ')\n",
        "print(s)\n",
        "v = eval(s)\n",
        "print(v)"
      ]
    },
    {
      "cell_type": "code",
      "execution_count": 246,
      "metadata": {
        "colab": {
          "base_uri": "https://localhost:8080/"
        },
        "id": "insN9G8vNODb",
        "outputId": "88e6b94e-1739-4757-e2ea-dcb99102396c"
      },
      "outputs": [
        {
          "name": "stdout",
          "output_type": "stream",
          "text": [
            "Pi is       3.1415927 (7 десятичных цифр)\n",
            "e^pi = 23.141, pi^e = 22.459\n"
          ]
        }
      ],
      "source": [
        "import math\n",
        "print('Pi is %15.7f (7 десятичных цифр)' % math.pi)\n",
        "print('e^pi = %5.3f, pi^e = %5.3f' % (math.exp(math.pi), math.pi**(math.exp(1))))"
      ]
    },
    {
      "cell_type": "markdown",
      "metadata": {
        "id": "0_vsrcYPNODb"
      },
      "source": [
        "## Файлы"
      ]
    },
    {
      "cell_type": "code",
      "execution_count": 247,
      "metadata": {
        "colab": {
          "base_uri": "https://localhost:8080/"
        },
        "id": "7qF07N71NODb",
        "outputId": "c56ff1fb-2ee4-45ad-a8f1-3dc70ec4dd6a"
      },
      "outputs": [
        {
          "name": "stdout",
          "output_type": "stream",
          "text": [
            "<class '_io.TextIOWrapper'>\n"
          ]
        }
      ],
      "source": [
        "f = open('myfile.txt', 'w') # Открыть файл для записи\n",
        "print(type(f))\n",
        "f.write('Hello World!\\n')   # Записать текст\n",
        "f.write('e^pi = %5.3f, pi^e = %5.3f\\n' % (math.exp(math.pi), math.pi**(math.exp(1))))\n",
        "f.write('That\\'s all Folks!')\n",
        "f.close()                   # Закрыть файл"
      ]
    },
    {
      "cell_type": "code",
      "execution_count": 248,
      "metadata": {
        "colab": {
          "base_uri": "https://localhost:8080/"
        },
        "id": "D7xDdsgLNODb",
        "outputId": "035c69b9-b78d-469e-9d25-0cf2238867e9"
      },
      "outputs": [
        {
          "name": "stdout",
          "output_type": "stream",
          "text": [
            "Hello World!\n",
            "e^pi = 23.141, pi^e = 22.459\n",
            "That's all Folks!\n"
          ]
        }
      ],
      "source": [
        "f = open('myfile.txt', 'r') # Открыть файл для чтения\n",
        "s = f.read()                # Прочитать весь файл целиком\n",
        "print(s)\n",
        "f.close()"
      ]
    },
    {
      "cell_type": "code",
      "execution_count": 249,
      "metadata": {
        "colab": {
          "base_uri": "https://localhost:8080/",
          "height": 36
        },
        "id": "Bl-W54JbNODb",
        "outputId": "f076f922-d957-4b01-e94d-851fd01da875"
      },
      "outputs": [
        {
          "data": {
            "application/vnd.google.colaboratory.intrinsic+json": {
              "type": "string"
            },
            "text/plain": [
              "\"Hello World!\\ne^pi = 23.141, pi^e = 22.459\\nThat's all Folks!\""
            ]
          },
          "execution_count": 249,
          "metadata": {},
          "output_type": "execute_result"
        }
      ],
      "source": [
        "s"
      ]
    },
    {
      "cell_type": "code",
      "execution_count": 250,
      "metadata": {
        "colab": {
          "base_uri": "https://localhost:8080/"
        },
        "id": "UsM-NwSHNODb",
        "outputId": "9091cac3-722b-48c5-bdd1-5ee9354a6235"
      },
      "outputs": [
        {
          "name": "stdout",
          "output_type": "stream",
          "text": [
            "['Hello World!\\n', 'e^pi = 23.141, pi^e = 22.459\\n', \"That's all Folks!\"]\n"
          ]
        }
      ],
      "source": [
        "f = open('myfile.txt', 'r') # Открыть файл для чтения\n",
        "s = f.readlines()           # Прочитать файл в список строк\n",
        "print(s)\n",
        "f.close()"
      ]
    },
    {
      "cell_type": "code",
      "execution_count": 251,
      "metadata": {
        "colab": {
          "base_uri": "https://localhost:8080/"
        },
        "id": "TMJrfMjzNODc",
        "outputId": "3d319f54-7800-4c42-e989-ec74dbf810c6"
      },
      "outputs": [
        {
          "name": "stdout",
          "output_type": "stream",
          "text": [
            "Hello\n",
            " World!\n",
            "\n"
          ]
        }
      ],
      "source": [
        "f = open('myfile.txt', 'r') # Открыть файл для чтения\n",
        "s = f.read(5)               # Прочитать 5 символов\n",
        "print(s)\n",
        "s = f.readline()            # Прочитать одну строку\n",
        "print(s)\n",
        "f.close()"
      ]
    },
    {
      "cell_type": "markdown",
      "metadata": {
        "id": "ISDOdsDzNODc"
      },
      "source": [
        "# Управляющие конструкции"
      ]
    },
    {
      "cell_type": "markdown",
      "metadata": {
        "id": "WQaQLzgKNODc"
      },
      "source": [
        "## Условие `if`"
      ]
    },
    {
      "cell_type": "code",
      "execution_count": 252,
      "metadata": {
        "colab": {
          "base_uri": "https://localhost:8080/"
        },
        "id": "vxMqVovNNODc",
        "outputId": "15f8f525-1f42-44ec-c588-a666d397eb34"
      },
      "outputs": [
        {
          "name": "stdout",
          "output_type": "stream",
          "text": [
            "Брат старше сестры\n",
            "Все!\n"
          ]
        }
      ],
      "source": [
        "brother_age = 19\n",
        "sister_age = 18\n",
        "if brother_age > sister_age:\n",
        "    print('Брат старше сестры')\n",
        "print('Все!')"
      ]
    },
    {
      "cell_type": "code",
      "execution_count": 253,
      "metadata": {
        "colab": {
          "base_uri": "https://localhost:8080/"
        },
        "id": "Jcr1AyypNODc",
        "outputId": "56f1dc6a-e9c3-452f-871f-708b199cc960"
      },
      "outputs": [
        {
          "name": "stdout",
          "output_type": "stream",
          "text": [
            "Брат не старше сестры\n"
          ]
        }
      ],
      "source": [
        "brother_age = 10\n",
        "sister_age = 13\n",
        "if brother_age > sister_age:\n",
        "    print('Брат старше сестры')\n",
        "else:\n",
        "    print('Брат не старше сестры')"
      ]
    },
    {
      "cell_type": "code",
      "execution_count": 254,
      "metadata": {
        "colab": {
          "base_uri": "https://localhost:8080/"
        },
        "id": "8PBQ6NQtNODc",
        "outputId": "237e9206-b942-42f7-ed99-bf44315864b4"
      },
      "outputs": [
        {
          "name": "stdout",
          "output_type": "stream",
          "text": [
            "Брат младше сестры\n"
          ]
        }
      ],
      "source": [
        "brother_age = 10\n",
        "sister_age = 13\n",
        "if brother_age > sister_age:\n",
        "    print('Брат старше сестры')\n",
        "else:\n",
        "    if brother_age < sister_age: \n",
        "        print('Брат младше сестры')\n",
        "    else:\n",
        "        print('Брат и сестра одного возраста')"
      ]
    },
    {
      "cell_type": "code",
      "execution_count": 255,
      "metadata": {
        "colab": {
          "base_uri": "https://localhost:8080/"
        },
        "id": "jaOdeAHUNODc",
        "outputId": "06001451-3768-4a41-8615-2099e64ac1d7"
      },
      "outputs": [
        {
          "name": "stdout",
          "output_type": "stream",
          "text": [
            "Брат младше сестры\n"
          ]
        }
      ],
      "source": [
        "brother_age = 10\n",
        "sister_age = 13\n",
        "if brother_age > sister_age:\n",
        "    print('Брат старше сестры')\n",
        "elif brother_age < sister_age: # elif может быть много\n",
        "    print('Брат младше сестры')\n",
        "#elif условие:\n",
        "#    команды\n",
        "else:\n",
        "    print('Брат и сестра одного возраста')"
      ]
    },
    {
      "cell_type": "markdown",
      "metadata": {
        "id": "KONlQZ1DNODc"
      },
      "source": [
        "## Цикл `while`"
      ]
    },
    {
      "cell_type": "code",
      "execution_count": 256,
      "metadata": {
        "colab": {
          "base_uri": "https://localhost:8080/"
        },
        "id": "Gifkz6tDNODc",
        "outputId": "d0897ddf-3216-4285-e519-bdcde9112912"
      },
      "outputs": [
        {
          "name": "stdout",
          "output_type": "stream",
          "text": [
            "8\n"
          ]
        }
      ],
      "source": [
        "a = 1381729381729812128\n",
        "b = 1231231232342312\n",
        "while b != 0:\n",
        "    tmp = a % b\n",
        "    a = b\n",
        "    b = tmp\n",
        "\n",
        "print(a)"
      ]
    },
    {
      "cell_type": "code",
      "execution_count": 257,
      "metadata": {
        "colab": {
          "base_uri": "https://localhost:8080/"
        },
        "id": "Wx9-KIG7NODd",
        "outputId": "283ec0f6-ebd5-4bc3-870d-64f9b316ed69"
      },
      "outputs": [
        {
          "name": "stdout",
          "output_type": "stream",
          "text": [
            "7\n"
          ]
        }
      ],
      "source": [
        "# А лучше так:\n",
        "a = 7\n",
        "b = 14\n",
        "while b != 0:\n",
        "    a, b = b, a%b\n",
        "print(a)"
      ]
    },
    {
      "cell_type": "code",
      "execution_count": 258,
      "metadata": {
        "colab": {
          "base_uri": "https://localhost:8080/"
        },
        "id": "vM7ZtCL3NODd",
        "outputId": "7899b43e-723a-4d4a-9f95-d1c8dca5e076"
      },
      "outputs": [
        {
          "name": "stdout",
          "output_type": "stream",
          "text": [
            "2.220446049250313e-16\n"
          ]
        }
      ],
      "source": [
        "eps = 1\n",
        "while 1 + eps > 1:\n",
        "    eps /= 2\n",
        "\n",
        "eps *= 2\n",
        "print(eps)"
      ]
    },
    {
      "cell_type": "code",
      "execution_count": 259,
      "metadata": {
        "colab": {
          "base_uri": "https://localhost:8080/"
        },
        "id": "hAkDSpwRNODd",
        "outputId": "0d39ca84-9d7e-4c73-b158-a8cf97c91f07"
      },
      "outputs": [
        {
          "data": {
            "text/plain": [
              "True"
            ]
          },
          "execution_count": 259,
          "metadata": {},
          "output_type": "execute_result"
        }
      ],
      "source": [
        "2**(-52) == eps"
      ]
    },
    {
      "cell_type": "markdown",
      "metadata": {
        "id": "WgUGi0SSNODd"
      },
      "source": [
        "`eps` - _машинное эпсилон_ - минимальное число (двойной точности с плавающей запятой), такое, что в машинной арифметике `1 + eps > 1`"
      ]
    },
    {
      "cell_type": "code",
      "execution_count": 260,
      "metadata": {
        "colab": {
          "base_uri": "https://localhost:8080/"
        },
        "id": "daWSCyhdNODd",
        "outputId": "2cd12d29-0772-4497-d462-52d70565a260"
      },
      "outputs": [
        {
          "data": {
            "text/plain": [
              "1.0000000000000002"
            ]
          },
          "execution_count": 260,
          "metadata": {},
          "output_type": "execute_result"
        }
      ],
      "source": [
        "1 + eps"
      ]
    },
    {
      "cell_type": "code",
      "execution_count": 261,
      "metadata": {
        "colab": {
          "base_uri": "https://localhost:8080/"
        },
        "id": "AUS11-TYNODd",
        "outputId": "c688faf7-52ef-4a4b-bd81-4c219e464190"
      },
      "outputs": [
        {
          "data": {
            "text/plain": [
              "1.0"
            ]
          },
          "execution_count": 261,
          "metadata": {},
          "output_type": "execute_result"
        }
      ],
      "source": [
        "1 + eps/2"
      ]
    },
    {
      "cell_type": "markdown",
      "metadata": {
        "collapsed": true,
        "id": "pX8cfZhZNODd"
      },
      "source": [
        "Имеются `continue`, `break`\n"
      ]
    },
    {
      "cell_type": "markdown",
      "metadata": {
        "id": "hMNE_eM4NODd"
      },
      "source": [
        "# Цикл `for`"
      ]
    },
    {
      "cell_type": "code",
      "execution_count": 262,
      "metadata": {
        "colab": {
          "base_uri": "https://localhost:8080/"
        },
        "id": "RGsQPdbWNODe",
        "outputId": "a2bed177-253c-438e-97ba-cb09bacb8e90"
      },
      "outputs": [
        {
          "name": "stdout",
          "output_type": "stream",
          "text": [
            "1 \t 1\n",
            "2 \t 4\n",
            "3 \t 9\n",
            "4 \t 16\n",
            "5 \t 25\n",
            "6 \t 36\n",
            "7 \t 49\n",
            "8 \t 64\n",
            "9 \t 81\n"
          ]
        }
      ],
      "source": [
        "for k in range(1, 10): # или xrange(1, 10) в старых версиях\n",
        "    print(\"%d \\t %d\" % (k, k * k))"
      ]
    },
    {
      "cell_type": "code",
      "execution_count": 263,
      "metadata": {
        "colab": {
          "base_uri": "https://localhost:8080/"
        },
        "id": "f39Li5a5NODe",
        "outputId": "b7f06d5c-e214-4112-8151-9894c2d63e7e"
      },
      "outputs": [
        {
          "name": "stdout",
          "output_type": "stream",
          "text": [
            "1\n",
            "2\n",
            "3\n",
            "4\n"
          ]
        }
      ],
      "source": [
        "for k in [1, 2, 3, 4]:\n",
        "    print(k)"
      ]
    },
    {
      "cell_type": "code",
      "execution_count": 264,
      "metadata": {
        "colab": {
          "base_uri": "https://localhost:8080/"
        },
        "id": "6r-B-1qMNODe",
        "outputId": "f1815a5e-becf-490f-9d6d-a2f57adccaaf"
      },
      "outputs": [
        {
          "name": "stdout",
          "output_type": "stream",
          "text": [
            "l\n",
            "e\n",
            "t\n",
            "t\n",
            "e\n",
            "r\n",
            "s\n"
          ]
        }
      ],
      "source": [
        "for ch in \"letters\":\n",
        "    print(ch)"
      ]
    },
    {
      "cell_type": "code",
      "execution_count": 265,
      "metadata": {
        "colab": {
          "base_uri": "https://localhost:8080/"
        },
        "id": "PJuM8MoINODe",
        "outputId": "3fd6f422-3747-472f-f2f0-4e8dae69b684"
      },
      "outputs": [
        {
          "name": "stdout",
          "output_type": "stream",
          "text": [
            "1\n",
            "2\n",
            "tree\n",
            "four\n",
            "[5, 6, 7]\n"
          ]
        }
      ],
      "source": [
        "for item in [1, 2, 'tree', 'four', [5, 6, 7]]:\n",
        "    print(item)"
      ]
    },
    {
      "cell_type": "code",
      "execution_count": 266,
      "metadata": {
        "colab": {
          "base_uri": "https://localhost:8080/"
        },
        "id": "nIywt4UpNODe",
        "outputId": "ed834bf7-c5ac-453a-a188-701b4348467c"
      },
      "outputs": [
        {
          "name": "stdout",
          "output_type": "stream",
          "text": [
            "surname Gauss\n",
            "name Karl\n",
            "(1, 2) 3\n"
          ]
        }
      ],
      "source": [
        "person = {'surname': 'Gauss', 'name': 'Karl', (1, 2): 3}\n",
        "for key in person:\n",
        "    print(key, person[key])"
      ]
    },
    {
      "cell_type": "code",
      "execution_count": 267,
      "metadata": {
        "colab": {
          "base_uri": "https://localhost:8080/"
        },
        "id": "AWXnav5qNODe",
        "outputId": "b68fa910-4a75-49bc-cc0f-a23f2302c547"
      },
      "outputs": [
        {
          "name": "stdout",
          "output_type": "stream",
          "text": [
            "surname\n",
            "name\n",
            "(1, 2)\n"
          ]
        }
      ],
      "source": [
        "for key in person.keys():\n",
        "    print(key)"
      ]
    },
    {
      "cell_type": "code",
      "execution_count": 268,
      "metadata": {
        "colab": {
          "base_uri": "https://localhost:8080/"
        },
        "id": "cbxDj4E1NODe",
        "outputId": "d6d9b91a-face-4452-9fc0-4ac58dcb7c8d"
      },
      "outputs": [
        {
          "name": "stdout",
          "output_type": "stream",
          "text": [
            "Gauss\n",
            "Karl\n",
            "3\n"
          ]
        }
      ],
      "source": [
        "for value in person.values():\n",
        "    print(value)"
      ]
    },
    {
      "cell_type": "code",
      "execution_count": 269,
      "metadata": {
        "colab": {
          "base_uri": "https://localhost:8080/"
        },
        "id": "g7RSCSIYNODf",
        "outputId": "d537fb62-aae2-4bc0-bac7-497e3888383d"
      },
      "outputs": [
        {
          "data": {
            "text/plain": [
              "dict_values(['Gauss', 'Karl', 3])"
            ]
          },
          "execution_count": 269,
          "metadata": {},
          "output_type": "execute_result"
        }
      ],
      "source": [
        "person.values()"
      ]
    },
    {
      "cell_type": "markdown",
      "metadata": {
        "id": "q9_gT8DkNODf"
      },
      "source": [
        "# Присваивания"
      ]
    },
    {
      "cell_type": "markdown",
      "metadata": {
        "id": "cla10eymNODf"
      },
      "source": [
        "```python\n",
        "a = b\n",
        "```"
      ]
    },
    {
      "cell_type": "code",
      "execution_count": 270,
      "metadata": {
        "id": "lU6pw04DNODf"
      },
      "outputs": [],
      "source": [
        "i = 2"
      ]
    },
    {
      "cell_type": "code",
      "execution_count": 271,
      "metadata": {
        "colab": {
          "base_uri": "https://localhost:8080/"
        },
        "id": "TLoWaf9_NODf",
        "outputId": "505c24de-1b7c-458f-a7a8-ed7c60991812"
      },
      "outputs": [
        {
          "data": {
            "text/plain": [
              "9793120"
            ]
          },
          "execution_count": 271,
          "metadata": {},
          "output_type": "execute_result"
        }
      ],
      "source": [
        "id(i)"
      ]
    },
    {
      "cell_type": "code",
      "execution_count": 272,
      "metadata": {
        "id": "ImtPK7boNODf"
      },
      "outputs": [],
      "source": [
        "i += 1"
      ]
    },
    {
      "cell_type": "code",
      "execution_count": 273,
      "metadata": {
        "colab": {
          "base_uri": "https://localhost:8080/"
        },
        "id": "4yYBvkNkNODf",
        "outputId": "2af72112-da42-41ea-8255-ddea7c5869e1"
      },
      "outputs": [
        {
          "data": {
            "text/plain": [
              "9793152"
            ]
          },
          "execution_count": 273,
          "metadata": {},
          "output_type": "execute_result"
        }
      ],
      "source": [
        "id(i)"
      ]
    },
    {
      "cell_type": "code",
      "execution_count": 274,
      "metadata": {
        "colab": {
          "base_uri": "https://localhost:8080/"
        },
        "id": "CLWrbPyJNODf",
        "outputId": "9331f136-5783-4ae2-c973-c1b36732527a"
      },
      "outputs": [
        {
          "data": {
            "text/plain": [
              "True"
            ]
          },
          "execution_count": 274,
          "metadata": {},
          "output_type": "execute_result"
        }
      ],
      "source": [
        "a = \"Hello\"\n",
        "b = \"Hello\"\n",
        "id(a) == id(b)"
      ]
    },
    {
      "cell_type": "code",
      "execution_count": 275,
      "metadata": {
        "colab": {
          "base_uri": "https://localhost:8080/"
        },
        "id": "TeAJTuAoNODf",
        "outputId": "6b879aa8-17ed-4e6b-b125-ad1609bc71b0"
      },
      "outputs": [
        {
          "data": {
            "text/plain": [
              "True"
            ]
          },
          "execution_count": 275,
          "metadata": {},
          "output_type": "execute_result"
        }
      ],
      "source": [
        "a is b"
      ]
    },
    {
      "cell_type": "code",
      "execution_count": 276,
      "metadata": {
        "colab": {
          "base_uri": "https://localhost:8080/"
        },
        "id": "kZcY6YJZNODg",
        "outputId": "4d79691f-5233-430d-9e61-2d9f5a169c73"
      },
      "outputs": [
        {
          "data": {
            "text/plain": [
              "1"
            ]
          },
          "execution_count": 276,
          "metadata": {},
          "output_type": "execute_result"
        }
      ],
      "source": [
        "a = 1\n",
        "b = a\n",
        "a = 2\n",
        "b"
      ]
    },
    {
      "cell_type": "code",
      "execution_count": 277,
      "metadata": {
        "colab": {
          "base_uri": "https://localhost:8080/"
        },
        "id": "X_8X8R5oNODg",
        "outputId": "5e875402-eca5-48bc-d056-1813f17bbb72"
      },
      "outputs": [
        {
          "name": "stdout",
          "output_type": "stream",
          "text": [
            "[0, 1, 222]\n",
            "[0, 1, 222]\n"
          ]
        }
      ],
      "source": [
        "a = [0, 1, 2]\n",
        "b = a\n",
        "a[2] = 222\n",
        "print(a) \n",
        "print(b) "
      ]
    },
    {
      "cell_type": "code",
      "execution_count": 278,
      "metadata": {
        "colab": {
          "base_uri": "https://localhost:8080/"
        },
        "id": "4F0i5UpJNODg",
        "outputId": "fbe57664-7502-40f1-dee3-fa2f6a4c5d34"
      },
      "outputs": [
        {
          "name": "stdout",
          "output_type": "stream",
          "text": [
            "[0, 11, 22]\n",
            "[0, 1, 2]\n"
          ]
        }
      ],
      "source": [
        "a = [0, 1, 2]\n",
        "b = a\n",
        "a = [0, 11, 22]\n",
        "print(a) \n",
        "print(b) "
      ]
    },
    {
      "cell_type": "markdown",
      "metadata": {
        "id": "S8DKskOdNODg"
      },
      "source": [
        "Если объект нигде не используется, он удалится автоматически (garbage collection)."
      ]
    },
    {
      "cell_type": "code",
      "execution_count": 279,
      "metadata": {
        "id": "bg64DDEZNODg"
      },
      "outputs": [],
      "source": [
        "del a"
      ]
    },
    {
      "cell_type": "code",
      "execution_count": 281,
      "metadata": {
        "id": "kJYXH9XQNODg"
      },
      "outputs": [],
      "source": [
        "# a"
      ]
    },
    {
      "cell_type": "markdown",
      "metadata": {
        "id": "NYA9Teu9NODg"
      },
      "source": [
        "## Простое и глубокое копирование"
      ]
    },
    {
      "cell_type": "code",
      "execution_count": 282,
      "metadata": {
        "colab": {
          "base_uri": "https://localhost:8080/"
        },
        "id": "BE3TH-WQNODg",
        "outputId": "45123fd4-57ad-43ec-f138-a3db868bc581"
      },
      "outputs": [
        {
          "name": "stdout",
          "output_type": "stream",
          "text": [
            "[0, 1, [2, 3, [4, 5]]]\n",
            "[0, 1, [2, 3, [4, 5]]]\n",
            "[0, 111, [2, 333, [4, 5]]]\n",
            "[0, 111, [2, 333, [4, 5]]]\n",
            "[0, 111, [2, 333, 222]]\n",
            "[0, -1, [2, 333, 222]]\n",
            "[0, 111, [2, 333, 222]]\n",
            "[0, 111, [0, 333, 222]]\n"
          ]
        }
      ],
      "source": [
        "import copy\n",
        "A = [0, 1, [2, 3, [4, 5]]]\n",
        "B = A\n",
        "print(A) # [0, 1, [2, 3, [4, 5]]]\n",
        "print(B) # [0, 1, [2, 3, [4, 5]]]\n",
        "B[1] = 111\n",
        "B[2][1] = 333\n",
        "print(A) # [0, 111, [2, 333, [4, 5]]]\n",
        "print(B) # [0, 111, [2, 333, [4, 5]]]\n",
        "C = copy.copy(A)\n",
        "C [1] = -1\n",
        "C [2][2] = 222\n",
        "print(A) # [0, 111, [2, 333, 222]]\n",
        "print(C) # [0, -1, [2, 333, 222]]\n",
        "D = copy.deepcopy(A)\n",
        "D [2][0] = 0\n",
        "print(A) # [0, 111, [2, 333, 222]]\n",
        "print(D) # [0, 111, [0, 333, 222]]"
      ]
    },
    {
      "cell_type": "markdown",
      "metadata": {
        "id": "uAL4kVjSNODg"
      },
      "source": [
        "## Пример: связные списки"
      ]
    },
    {
      "cell_type": "code",
      "execution_count": 283,
      "metadata": {
        "colab": {
          "base_uri": "https://localhost:8080/"
        },
        "id": "TiNSv0jJNODh",
        "outputId": "17473494-d937-4283-adc5-5406b423c8ae"
      },
      "outputs": [
        {
          "name": "stdout",
          "output_type": "stream",
          "text": [
            "Euler\n",
            "Newton\n",
            "Gauss\n",
            "Lobachevski\n"
          ]
        }
      ],
      "source": [
        "Names = [\"Lobachevski\", \"Gauss\", \"Newton\", \"Euler\"]\n",
        "\n",
        "# Создаем связный список:\n",
        "cur = 0\n",
        "for name in Names:\n",
        "    prev = cur\n",
        "    cur = {\"value\": name, \"next\": prev}\n",
        "lst = cur\n",
        "\n",
        "# Печатаем список:\n",
        "cur = lst\n",
        "while cur:\n",
        "    print(cur[\"value\"])\n",
        "    cur = cur[\"next\"]"
      ]
    },
    {
      "cell_type": "code",
      "execution_count": 284,
      "metadata": {
        "colab": {
          "base_uri": "https://localhost:8080/"
        },
        "id": "NGGFI8yZNODh",
        "outputId": "13919076-461c-4f40-fff7-b53a17cfdb24"
      },
      "outputs": [
        {
          "data": {
            "text/plain": [
              "0"
            ]
          },
          "execution_count": 284,
          "metadata": {},
          "output_type": "execute_result"
        }
      ],
      "source": [
        "cur"
      ]
    },
    {
      "cell_type": "markdown",
      "metadata": {
        "id": "YHK5LpsyNODh"
      },
      "source": [
        "# Функции"
      ]
    },
    {
      "cell_type": "code",
      "execution_count": 285,
      "metadata": {
        "colab": {
          "base_uri": "https://localhost:8080/"
        },
        "id": "8gh-kx7jNODh",
        "outputId": "518924e0-e9ce-49a3-b438-5baf394a6f56"
      },
      "outputs": [
        {
          "data": {
            "text/plain": [
              "14"
            ]
          },
          "execution_count": 285,
          "metadata": {},
          "output_type": "execute_result"
        }
      ],
      "source": [
        "def gcd(a, b):\n",
        "    a = abs(a)\n",
        "    b = abs(b)\n",
        "    while b != 0:\n",
        "        a, b = b, a % b\n",
        "    return a\n",
        "\n",
        "gcd(675222842, 709073246)"
      ]
    },
    {
      "cell_type": "code",
      "execution_count": 286,
      "metadata": {
        "colab": {
          "base_uri": "https://localhost:8080/"
        },
        "id": "Mj-DMgr2NODh",
        "outputId": "a860e187-8915-48bf-f793-2d9a7ba5754a"
      },
      "outputs": [
        {
          "data": {
            "text/plain": [
              "[0, 1, 2]"
            ]
          },
          "execution_count": 286,
          "metadata": {},
          "output_type": "execute_result"
        }
      ],
      "source": [
        "b"
      ]
    },
    {
      "cell_type": "code",
      "execution_count": 287,
      "metadata": {
        "id": "QDSCeoTMNODh"
      },
      "outputs": [],
      "source": [
        "def fibo(B = 50):\n",
        "    # Обычный комментарий\n",
        "    '''\n",
        "    Print Fibonacci numbers less than or equal to B\n",
        "    '''\n",
        "    a, b = 0, 1\n",
        "    while b <= B:\n",
        "        print(b)\n",
        "        a, b = b, a + b"
      ]
    },
    {
      "cell_type": "code",
      "execution_count": 288,
      "metadata": {
        "colab": {
          "base_uri": "https://localhost:8080/"
        },
        "id": "8B1kN3YJNODh",
        "outputId": "e64c54d5-5485-4e06-c1f7-a08811ee176b"
      },
      "outputs": [
        {
          "name": "stdout",
          "output_type": "stream",
          "text": [
            "Help on function fibo in module __main__:\n",
            "\n",
            "fibo(B=50)\n",
            "    Print Fibonacci numbers less than or equal to B\n",
            "\n"
          ]
        }
      ],
      "source": [
        "help(fibo)"
      ]
    },
    {
      "cell_type": "code",
      "execution_count": 289,
      "metadata": {
        "colab": {
          "base_uri": "https://localhost:8080/"
        },
        "id": "TRQWeR8zNODh",
        "outputId": "0b51d3dc-b503-4123-df16-281352e457b4"
      },
      "outputs": [
        {
          "name": "stdout",
          "output_type": "stream",
          "text": [
            "1\n",
            "1\n",
            "2\n",
            "3\n",
            "5\n",
            "8\n",
            "13\n",
            "21\n",
            "34\n"
          ]
        }
      ],
      "source": [
        "fibo()"
      ]
    },
    {
      "cell_type": "code",
      "execution_count": 290,
      "metadata": {
        "colab": {
          "base_uri": "https://localhost:8080/"
        },
        "id": "mtX9cyEtNODh",
        "outputId": "8a051dd7-4e30-4b57-a047-7bc3434aeeb6"
      },
      "outputs": [
        {
          "name": "stdout",
          "output_type": "stream",
          "text": [
            "1\n",
            "1\n",
            "2\n",
            "3\n",
            "5\n",
            "8\n",
            "13\n",
            "21\n",
            "34\n",
            "55\n",
            "89\n",
            "144\n",
            "233\n",
            "377\n",
            "610\n",
            "987\n"
          ]
        }
      ],
      "source": [
        "fibo(1000)"
      ]
    },
    {
      "cell_type": "markdown",
      "metadata": {
        "id": "lTjx5T2rNODi"
      },
      "source": [
        "Как возвратить несколько значений? - использовать кортежи (или списки)\n",
        "$$\n",
        "ax^2 + bx + c = 0\n",
        "$$"
      ]
    },
    {
      "cell_type": "code",
      "execution_count": 291,
      "metadata": {
        "id": "ccQNDt1JNODi"
      },
      "outputs": [],
      "source": [
        "import math  # в pylab уже есть\n",
        "import cmath\n",
        "\n",
        "def square_eq(a, b, c):\n",
        "    D = b**2 - 4*a*c\n",
        "    if D >= 0:\n",
        "        d = math.sqrt(D)\n",
        "    else:\n",
        "        d = cmath.sqrt(D)    \n",
        "    x1 = (-b+d) / (2*a)\n",
        "    x2 = (-b-d) / (2*a)\n",
        "    return x1, x2"
      ]
    },
    {
      "cell_type": "code",
      "execution_count": 292,
      "metadata": {
        "colab": {
          "base_uri": "https://localhost:8080/"
        },
        "id": "8bURwxGRNODi",
        "outputId": "094aa057-0d3f-40b3-b568-4fc210cf627e"
      },
      "outputs": [
        {
          "data": {
            "text/plain": [
              "(3.0, 2.0)"
            ]
          },
          "execution_count": 292,
          "metadata": {},
          "output_type": "execute_result"
        }
      ],
      "source": [
        "square_eq(1, -5, 6)"
      ]
    },
    {
      "cell_type": "code",
      "execution_count": 293,
      "metadata": {
        "colab": {
          "base_uri": "https://localhost:8080/"
        },
        "id": "gUmhIiaLNODi",
        "outputId": "e37c4d62-dd14-4c80-cb96-fcd926cb3afa"
      },
      "outputs": [
        {
          "name": "stdout",
          "output_type": "stream",
          "text": [
            "3.0 2.0\n"
          ]
        }
      ],
      "source": [
        "x1, x2 = square_eq(1, -5, 6)\n",
        "print(x1, x2)"
      ]
    },
    {
      "cell_type": "code",
      "execution_count": 294,
      "metadata": {
        "colab": {
          "base_uri": "https://localhost:8080/"
        },
        "id": "ZidhEWMfNODi",
        "outputId": "74b56d86-c293-44dd-a8f1-4b86cf2d4612"
      },
      "outputs": [
        {
          "name": "stdout",
          "output_type": "stream",
          "text": [
            "(-0.5+0.8660254037844386j) (-0.5-0.8660254037844386j)\n"
          ]
        }
      ],
      "source": [
        "x1, x2 = square_eq(1, 1, 1)\n",
        "print(x1, x2)"
      ]
    },
    {
      "cell_type": "code",
      "execution_count": 295,
      "metadata": {
        "colab": {
          "base_uri": "https://localhost:8080/"
        },
        "id": "yD_nILfhNODj",
        "outputId": "cf7cba1b-aede-4f97-bc3c-142b566370c3"
      },
      "outputs": [
        {
          "data": {
            "text/plain": [
              "((-1+1.4142135623730951j), (-1-1.4142135623730951j))"
            ]
          },
          "execution_count": 295,
          "metadata": {},
          "output_type": "execute_result"
        }
      ],
      "source": [
        "x = square_eq(1,2,3)\n",
        "x"
      ]
    },
    {
      "cell_type": "code",
      "execution_count": 296,
      "metadata": {
        "id": "HfB3riucNODj"
      },
      "outputs": [],
      "source": [
        "def fibo_gen(B):\n",
        "    '''\n",
        "    Fibonacci generator\n",
        "    '''\n",
        "    a, b = 0, 1\n",
        "    while b <= B:\n",
        "        yield  b\n",
        "        a, b = b, a + b"
      ]
    },
    {
      "cell_type": "code",
      "execution_count": 297,
      "metadata": {
        "colab": {
          "base_uri": "https://localhost:8080/"
        },
        "id": "YuoW7GAkNODj",
        "outputId": "49c2c024-48d2-4fe6-daf0-56ebc938027e"
      },
      "outputs": [
        {
          "name": "stdout",
          "output_type": "stream",
          "text": [
            "1 1\n",
            "1 1\n",
            "2 4\n",
            "3 9\n",
            "5 25\n",
            "8 64\n",
            "13 169\n",
            "21 441\n",
            "34 1156\n",
            "55 3025\n",
            "89 7921\n"
          ]
        }
      ],
      "source": [
        "for f in fibo_gen(100):\n",
        "    print(f, f**2)"
      ]
    },
    {
      "cell_type": "markdown",
      "metadata": {
        "id": "GjtOoisrNODj"
      },
      "source": [
        "### Передача параметров\n",
        "\n",
        "Для передачи параметров в функцию в Питоне используется стратегия _вызова по соиспользованию_ : все значения являются _обёрнутыми_ (boxed). Функция получает значение, содержащее копию ссылки на объект. Сам объект не копируется - он оказывается разделяемым, или используемым совместно. \n",
        "\n",
        "Можно сказать так: параметры передаются по значению, где значением является ссылка.\n",
        "\n",
        "Поэтому\n",
        "* присваивание параметру в теле функции разрешено, но не имеет эффекта в вызывающей функции\n",
        "* присваивание компонентам этого аргумента - имеет эффект и в вызывающей функции\n",
        "\n"
      ]
    },
    {
      "cell_type": "code",
      "execution_count": 298,
      "metadata": {
        "colab": {
          "base_uri": "https://localhost:8080/"
        },
        "id": "X6Dnv6ANNODj",
        "outputId": "5879753a-a276-411e-e5e7-069b21220450"
      },
      "outputs": [
        {
          "name": "stdout",
          "output_type": "stream",
          "text": [
            "[1, 2, 3]\n",
            "['New value', '2', '3', 'New value2']\n"
          ]
        }
      ],
      "source": [
        "def fun(lst1, lst2):\n",
        "    lst1 = 'New value'\n",
        "    lst2[0] = 'New value'\n",
        "    lst2.append('New value2')\n",
        "\n",
        "lst1 = [1, 2, 3]\n",
        "lst2 = ['1', '2', '3']\n",
        "\n",
        "fun(lst1, lst2)\n",
        "\n",
        "print(lst1)\n",
        "print(lst2)"
      ]
    },
    {
      "cell_type": "markdown",
      "metadata": {
        "id": "di5WkgalNODj"
      },
      "source": [
        "### Видимость объектов"
      ]
    },
    {
      "cell_type": "markdown",
      "metadata": {
        "id": "6zHTgju4NODj"
      },
      "source": [
        "Имена из вызывающего контекста использовать можно, но присваивать им другие объекты нельзя.\n",
        "Объекты менять можно."
      ]
    },
    {
      "cell_type": "code",
      "execution_count": 299,
      "metadata": {
        "colab": {
          "base_uri": "https://localhost:8080/"
        },
        "id": "cj2mNma-NODj",
        "outputId": "3f7b393a-5162-41be-9181-1cc9ac138982"
      },
      "outputs": [
        {
          "name": "stdout",
          "output_type": "stream",
          "text": [
            "3\n",
            "123\n"
          ]
        }
      ],
      "source": [
        "def fun():\n",
        "    a = 3\n",
        "    print(a)\n",
        "\n",
        "a = 123\n",
        "fun()\n",
        "print(a)"
      ]
    },
    {
      "cell_type": "code",
      "execution_count": 300,
      "metadata": {
        "colab": {
          "base_uri": "https://localhost:8080/"
        },
        "id": "4IS3tVhZNODk",
        "outputId": "728abf2e-0957-40f8-d6be-817d0e4a18a5"
      },
      "outputs": [
        {
          "name": "stdout",
          "output_type": "stream",
          "text": [
            "124\n",
            "123\n"
          ]
        }
      ],
      "source": [
        "def fun():\n",
        "    print(a + 1)  # Так можно\n",
        "    #a = 3  # Так нельзя\n",
        "    \n",
        "a = 123\n",
        "fun()    \n",
        "print(a)"
      ]
    },
    {
      "cell_type": "code",
      "execution_count": 302,
      "metadata": {
        "colab": {
          "base_uri": "https://localhost:8080/"
        },
        "id": "yiO7Ehs7NODk",
        "outputId": "bba5955e-3fc3-4781-edfa-d8f13da2ff17"
      },
      "outputs": [
        {
          "name": "stdout",
          "output_type": "stream",
          "text": [
            "['NewValue0', 1, 2, 'NewValue3']\n"
          ]
        }
      ],
      "source": [
        "def fun():\n",
        "    lst[0] = 'NewValue0'     # Можно!\n",
        "    lst.append('NewValue3')\n",
        "\n",
        "lst = [0, 1, 2]\n",
        "fun()    \n",
        "print(lst)"
      ]
    },
    {
      "cell_type": "markdown",
      "metadata": {
        "id": "XkokjiVRNODk"
      },
      "source": [
        "# Работа с модулями"
      ]
    },
    {
      "cell_type": "markdown",
      "metadata": {
        "id": "9YhUFdMJNODk"
      },
      "source": [
        "```python\n",
        "import модуль\n",
        "from модуль import что-то конкретное\n",
        "from модуль import *\n",
        "import модуль as псевдоним\n",
        "```"
      ]
    },
    {
      "cell_type": "code",
      "execution_count": 303,
      "metadata": {
        "colab": {
          "base_uri": "https://localhost:8080/"
        },
        "id": "N3PtkbA2NODk",
        "outputId": "1254f280-a71e-49b4-de52-fbd6fc9d61ca"
      },
      "outputs": [
        {
          "name": "stdout",
          "output_type": "stream",
          "text": [
            "3.141592653589793 2.718281828459045\n"
          ]
        }
      ],
      "source": [
        "import math\n",
        "print(math.pi, math.exp(1))"
      ]
    },
    {
      "cell_type": "code",
      "execution_count": 304,
      "metadata": {
        "colab": {
          "base_uri": "https://localhost:8080/"
        },
        "id": "xloCxRQFNODk",
        "outputId": "21efec3b-55a7-473b-cb88-08f0d6132d6b"
      },
      "outputs": [
        {
          "name": "stdout",
          "output_type": "stream",
          "text": [
            "1.4142135623730951\n"
          ]
        }
      ],
      "source": [
        "print(math.sqrt(2))"
      ]
    },
    {
      "cell_type": "code",
      "execution_count": 305,
      "metadata": {
        "colab": {
          "base_uri": "https://localhost:8080/"
        },
        "id": "gyQBXpyWNODl",
        "outputId": "5b4a80eb-016c-4f82-e3e8-214d833b4a2d"
      },
      "outputs": [
        {
          "data": {
            "text/plain": [
              "1.4142135623730951"
            ]
          },
          "execution_count": 305,
          "metadata": {},
          "output_type": "execute_result"
        }
      ],
      "source": [
        "2**.5"
      ]
    },
    {
      "cell_type": "code",
      "execution_count": 306,
      "metadata": {
        "colab": {
          "base_uri": "https://localhost:8080/"
        },
        "id": "hsJ_g9GqNODl",
        "outputId": "bba7e007-1305-4f46-bf11-bb35d443eecd"
      },
      "outputs": [
        {
          "name": "stdout",
          "output_type": "stream",
          "text": [
            "3.141592653589793 2.718281828459045\n"
          ]
        }
      ],
      "source": [
        "from math import pi, exp\n",
        "print(pi, exp(1))"
      ]
    },
    {
      "cell_type": "code",
      "execution_count": 307,
      "metadata": {
        "colab": {
          "base_uri": "https://localhost:8080/"
        },
        "id": "-UwPaN-ENODl",
        "outputId": "6997d6bf-a5a6-45da-b7da-de140eddc5f8"
      },
      "outputs": [
        {
          "name": "stdout",
          "output_type": "stream",
          "text": [
            "3.141592653589793 2.718281828459045 1.2246467991473532e-16 1.4142135623730951\n"
          ]
        }
      ],
      "source": [
        "from math import *\n",
        "print(pi, exp(1), sin(pi), sqrt(2))"
      ]
    },
    {
      "cell_type": "code",
      "execution_count": 308,
      "metadata": {
        "id": "45bGXfcGNODl"
      },
      "outputs": [],
      "source": [
        "import numpy as np"
      ]
    },
    {
      "cell_type": "code",
      "execution_count": 309,
      "metadata": {
        "colab": {
          "base_uri": "https://localhost:8080/"
        },
        "id": "K08gADioNODl",
        "outputId": "395ddec9-ea11-498a-af48-ad4a15bc51e2"
      },
      "outputs": [
        {
          "data": {
            "text/plain": [
              "array([0, 1, 2, 3, 4, 5, 6, 7, 8, 9])"
            ]
          },
          "execution_count": 309,
          "metadata": {},
          "output_type": "execute_result"
        }
      ],
      "source": [
        "np.arange(10)"
      ]
    },
    {
      "cell_type": "markdown",
      "metadata": {
        "id": "4o0OAGumNODl"
      },
      "source": [
        "Любой файл с кодом на питоне - это уже модуль.\n",
        "```python\n",
        "import модуль\n",
        "```\n",
        "отправляет его на выполнение.\n",
        "\n",
        "Несколько модулей можно объединять в пакеты."
      ]
    },
    {
      "cell_type": "code",
      "execution_count": 309,
      "metadata": {
        "id": "xsIOT_BNNODl"
      },
      "outputs": [],
      "source": []
    }
  ],
  "metadata": {
    "colab": {
      "include_colab_link": true,
      "provenance": []
    },
    "kernelspec": {
      "display_name": "Python 3",
      "language": "python",
      "name": "python3"
    },
    "language_info": {
      "codemirror_mode": {
        "name": "ipython",
        "version": 3
      },
      "file_extension": ".py",
      "mimetype": "text/x-python",
      "name": "python",
      "nbconvert_exporter": "python",
      "pygments_lexer": "ipython3",
      "version": "3.10.6"
    },
    "vscode": {
      "interpreter": {
        "hash": "26de051ba29f2982a8de78e945f0abaf191376122a1563185a90213a26c5da77"
      }
    }
  },
  "nbformat": 4,
  "nbformat_minor": 0
}
