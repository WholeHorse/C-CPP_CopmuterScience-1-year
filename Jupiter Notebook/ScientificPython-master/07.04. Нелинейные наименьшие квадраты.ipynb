{
 "cells": [
  {
   "cell_type": "markdown",
   "metadata": {},
   "source": [
    "# Нелинейные наименьшие квадраты"
   ]
  },
  {
   "cell_type": "code",
   "execution_count": 1,
   "metadata": {},
   "outputs": [],
   "source": [
    "import numpy as np\n",
    "from scipy import linalg\n",
    "import matplotlib.pyplot as plt\n",
    "%matplotlib inline"
   ]
  },
  {
   "cell_type": "code",
   "execution_count": 2,
   "metadata": {},
   "outputs": [],
   "source": [
    "import math\n",
    "from scipy.optimize import minimize, rosen, rosen_der, rosen_hess, curve_fit, OptimizeResult"
   ]
  },
  {
   "cell_type": "markdown",
   "metadata": {},
   "source": [
    "Логистическая функция:\n",
    "$$\n",
    "y =   \\frac{a-d}{1+   (x/c)^b  }  + d\n",
    "$$"
   ]
  },
  {
   "cell_type": "code",
   "execution_count": 3,
   "metadata": {},
   "outputs": [],
   "source": [
    "def logistic4(x, a, b, c, d):\n",
    "    return ((a-d)/(1.0+(b**(-x/c)))) + d"
   ]
  },
  {
   "cell_type": "code",
   "execution_count": 4,
   "metadata": {},
   "outputs": [],
   "source": [
    "nobs = 24\n",
    "xdata = np.linspace(-3.5, 3.5, nobs)\n",
    "ptrue = [1, 3, 1, 0]\n",
    "ydata = logistic4(xdata, *ptrue) + 0.2*np.random.random(nobs)"
   ]
  },
  {
   "cell_type": "code",
   "execution_count": 5,
   "metadata": {},
   "outputs": [],
   "source": [
    "popt, pcov = curve_fit(logistic4, xdata, ydata)"
   ]
  },
  {
   "cell_type": "code",
   "execution_count": 6,
   "metadata": {},
   "outputs": [
    {
     "name": "stdout",
     "output_type": "stream",
     "text": [
      "Param\tTrue\tEstim (+/- 1 SD)\n",
      "a\t 1.00\t 0.11 (+/- 0.05)\n",
      "b\t 3.00\t 1.24 (+/-540420.22)\n",
      "c\t 1.00\t-0.20 (+/-412958.24)\n",
      "d\t 0.00\t 1.15 (+/- 0.05)\n"
     ]
    }
   ],
   "source": [
    "perr = yerr=np.sqrt(np.diag(pcov))\n",
    "print('Param\\tTrue\\tEstim (+/- 1 SD)')\n",
    "for p, pt, po, pe  in zip('abcd', ptrue, popt, perr):\n",
    "    print('%s\\t%5.2f\\t%5.2f (+/-%5.2f)' % (p, pt, po, pe))"
   ]
  },
  {
   "cell_type": "code",
   "execution_count": 8,
   "metadata": {},
   "outputs": [
    {
     "data": {
      "image/png": "[encoded data removed]",
      "text/plain": [
       "<Figure size 432x288 with 1 Axes>"
      ]
     },
     "metadata": {
      "needs_background": "light"
     },
     "output_type": "display_data"
    }
   ],
   "source": [
    "x = np.linspace(-4, 4, 100)\n",
    "y = logistic4(x, *popt)\n",
    "plt.plot(x, y)\n",
    "plt.plot(xdata, ydata, 'o')\n",
    "pass"
   ]
  },
  {
   "cell_type": "code",
   "execution_count": null,
   "metadata": {
    "collapsed": true
   },
   "outputs": [],
   "source": []
  },
  {
   "cell_type": "code",
   "execution_count": null,
   "metadata": {
    "collapsed": true
   },
   "outputs": [],
   "source": []
  }
 ],
 "metadata": {
  "kernelspec": {
   "display_name": "Python 3",
   "language": "python",
   "name": "python3"
  },
  "language_info": {
   "codemirror_mode": {
    "name": "ipython",
    "version": 3
   },
   "file_extension": ".py",
   "mimetype": "text/x-python",
   "name": "python",
   "nbconvert_exporter": "python",
   "pygments_lexer": "ipython3",
   "version": "3.8.3"
  }
 },
 "nbformat": 4,
 "nbformat_minor": 1
}
