{
 "cells": [
  {
   "cell_type": "code",
   "execution_count": 1,
   "metadata": {},
   "outputs": [],
   "source": [
    "import numpy as np\n",
    "import matplotlib.pyplot as plt\n",
    "%matplotlib inline\n",
    "from scipy import integrate"
   ]
  },
  {
   "cell_type": "markdown",
   "metadata": {},
   "source": [
    "# Численное интегрирование\n",
    "\n",
    "Задача численного интегрирования\n",
    "заключается в нахождении некоторого приближения к значению определенного интеграла\n",
    "$$\n",
    "  I = \\int_a^b f(x) dx,\n",
    "$$\n",
    "где $[a, b]$ - отрезок интегрирования, а $f(x)$ - заданная функция.\n",
    "В основе методов численного интегрирования лежит\n",
    "суммирование (с некоторыми весами) значений функции в узлах $x_0, x_1, \\dots, x_n$, \n",
    "выбираемых на отрезке интегрирования:\n",
    "$$\n",
    "  \\int_a^b f(x) dx = \\sum_{k=0}^n A_k f(x_k) + R,\n",
    "$$\n",
    "где $R$ - остаточный член (ошибка). Обозначим\n",
    "$$\n",
    "  h = \\max \\left\\{x_k - x_{k-1}: ~ k = 1,2,\\dots,n\\right\\}.\n",
    "$$\n",
    "\n",
    "## Формула прямоугольников\n",
    "\n",
    "Пусть \n",
    "$$\n",
    "   a = x_0 < x_1 < \\dots < x_{n-1} < x_n = b,  \\tag{*}\n",
    "$$\n",
    "тогда\n",
    "$$\n",
    "  \\int_a^b f(x) dx \\approx \\sum_{k=0}^{n-1} f(x_k) \\cdot (x_k - x_{k-1}).\n",
    "$$\n",
    "<img src='http://aco.ifmo.ru/el_books/numerical_methods/lectures/images/glava2_clip_image_p002.png'>\n",
    "Эта формула называется *формулой левых прямоугольников*.\n",
    "В случае равноотстоящих узлов ($x_k - x_{k-1} = h$) получаем:\n",
    "$$\n",
    "  \\int_a^b f(x) dx \\approx h\\sum_{k=0}^{n-1} f(x_k).\n",
    "$$\n",
    "Она соответствует замене площади криволинейной трапеции\n",
    "площадью ступенчатой фигуры.\n",
    "Аналогична *формула правых прямоугольников*:\n",
    "$$\n",
    "  \\int_a^b f(x) dx \\approx \\sum_{k=1}^n f(x_k) \\cdot (x_k - x_{k-1}).\n",
    "$$\n",
    "<img src='http://aco.ifmo.ru/el_books/numerical_methods/lectures/images/glava2_clip_image_p003.png'>\n",
    "\n",
    "Для равноотстоящих узлов имеем\n",
    "$$\n",
    "  \\int_a^b f(x) dx \\approx h\\sum_{k=1}^n f(x_k).\n",
    "$$\n",
    "\n",
    "Если $f(x)$ - непрерывно дифференцируемая на отрезке $[a, b]$\n",
    "функция, то для остаточного члена формул\n",
    "правых и левых прямоугольников справедливо:\n",
    "$$\n",
    "  R = \\frac{b-a}{4} f(\\xi)\\, h, \\quad \\mbox{где $\\xi \\in [a, b]$}.\n",
    "$$\n",
    "Из формулы для $R$ следует, что если $h\\to 0$, то $R\\to 0$ (для непрерывно дифференцируемой функции),\n",
    "иными словами, чем мельче шаг, тем меньше ошибка.\n",
    "\n",
    "Небольшая модификация позволяет улучшить точность метода.\n",
    "В качестве узлов возьмем точки\n",
    "$$\n",
    "  x_{k + \\frac{1}{2}} = \\frac{x_k - x_{k-1}}{2} \\quad (k=0,1,\\dots,n-1),\n",
    "$$\n",
    "тогда\n",
    "$$\n",
    "  \\int_a^b f(x) dx \\approx \\sum_{k=0}^{n-1} f\\left(x_{k+\\frac{1}{2}}\\right) \\cdot (x_k - x_{k-1}).\n",
    "$$\n",
    "Эта формула называется *формула (средних) прямоугольников*.\n",
    "<img src='http://aco.ifmo.ru/el_books/numerical_methods/lectures/images/glava2_clip_image_p001.png'>\n",
    "В случае равноотстоящих узлов получаем:\n",
    "$$\n",
    "  \\int_a^b f(x) dx \\approx h\\sum_{k=0}^{n-1} f\\left(x_{k+\\frac{1}{2}}\\right).\n",
    "$$\n",
    "\n",
    "Если $f(x)$ - дважды непрерывно дифференцируемая на отрезке $[a, b]$\n",
    "функция, то для остаточного члена формулы прямоугольников справедливо:\n",
    "$$\n",
    "  R = \\frac{b-a}{24} f''(\\xi)\\, h^2, \\quad \\mbox{где $\\xi \\in [a, b]$}.\n",
    "$$\n",
    "Так же, как и для формулы остаточного члена в левых и правых прямоугольниках, \n",
    "получаем, что если $h\\to 0$, то $R\\to 0$ (для дважды непрерывно дифференцируемой функции).\n",
    "Обратите внимание, что $h$ теперь стоит во 2-й степени, а в формулах для остаточного члена правых и левых прямоуголниках был в 1-й степени. Таким образом, *теперь $R$ стремится к нулю быстрее (2-й порядок сходимости, а раньше был $1$-й) и, следовательно, с помощью средних прямоугольников можно получить большую точность при том же количестве узлов*. "
   ]
  },
  {
   "attachments": {},
   "cell_type": "markdown",
   "metadata": {},
   "source": [
    "Вычисления по формуле прямоугольников с равноотстоящими узлами \n",
    "легко реализовать с помощью функции `np.sum()`.\n",
    "Рассмотрим, например, интеграл\n",
    "$$\n",
    "I = \\int_a^b \\frac{x}{\\sin x} dx  \\tag{**}\n",
    "$$\n",
    "\n",
    "График подынтегральной функции:"
   ]
  },
  {
   "cell_type": "code",
   "execution_count": 2,
   "metadata": {},
   "outputs": [
    {
     "data": {
      "image/png": "[encoded data removed]",
      "text/plain": [
       "<Figure size 432x288 with 1 Axes>"
      ]
     },
     "metadata": {
      "needs_background": "light"
     },
     "output_type": "display_data"
    }
   ],
   "source": [
    "xx = np.linspace(1e-3, 3, 500)\n",
    "yy = xx/np.sin(xx)\n",
    "plt.plot(xx, yy)\n",
    "plt.grid()\n",
    "pass"
   ]
  },
  {
   "cell_type": "markdown",
   "metadata": {},
   "source": [
    "Этот интеграл не берется в элементарных функциях.\n",
    "\n",
    "Вычислим его численно при $a=0$, $b=3$:"
   ]
  },
  {
   "cell_type": "code",
   "execution_count": 3,
   "metadata": {},
   "outputs": [
    {
     "data": {
      "text/plain": [
       "8.449457117179284"
      ]
     },
     "execution_count": 3,
     "metadata": {},
     "output_type": "execute_result"
    }
   ],
   "source": [
    "a = 0\n",
    "b = 3\n",
    "n = 100\n",
    "h = (b - a)/n\n",
    "x = np.arange(a + h/2, b, h)\n",
    "y = x/np.sin(x)\n",
    "I_rect = h*sum(y)\n",
    "I_rect"
   ]
  },
  {
   "cell_type": "markdown",
   "metadata": {},
   "source": [
    "Как оценить точность полученного значения?\n",
    "Давайте удвоим количество узлов и сравним полученные значения. Скорее всего, старшие цифры, в которых ответы совпадают, точные."
   ]
  },
  {
   "cell_type": "code",
   "execution_count": 4,
   "metadata": {},
   "outputs": [
    {
     "data": {
      "text/plain": [
       "8.453808551489745"
      ]
     },
     "execution_count": 4,
     "metadata": {},
     "output_type": "execute_result"
    }
   ],
   "source": [
    "n2 = 200\n",
    "h = (b - a)/n2\n",
    "x = np.arange(a + h/2, b, h)\n",
    "y = x/np.sin(x)\n",
    "h*sum(y)"
   ]
  },
  {
   "cell_type": "markdown",
   "metadata": {},
   "source": [
    "Таким образом, можем утверждать, что $I \\approx 8.45$"
   ]
  },
  {
   "cell_type": "markdown",
   "metadata": {},
   "source": [
    "С помощью функции `np.cumsum()` можно вычислять численно интеграл с переменным верхним пределом (первообразную):\n",
    "$$\n",
    "  I(x) = \\int_0^x \\frac{t}{\\sin t} dt\n",
    "$$"
   ]
  },
  {
   "cell_type": "code",
   "execution_count": 5,
   "metadata": {},
   "outputs": [
    {
     "data": {
      "image/png": "[encoded data removed]",
      "text/plain": [
       "<Figure size 432x288 with 1 Axes>"
      ]
     },
     "metadata": {
      "needs_background": "light"
     },
     "output_type": "display_data"
    }
   ],
   "source": [
    "plt.plot(x, h*np.cumsum(y))\n",
    "plt.grid()"
   ]
  },
  {
   "cell_type": "markdown",
   "metadata": {},
   "source": [
    "## Формула трапеций\n",
    "\n",
    "Пусть точки $x_k$ ($k=0,1,\\dots, n$) удовлетворяют условиям ($*$).\n",
    "Тогда\n",
    "$$\n",
    "  \\int_a^b f(x) dx \\approx \\sum_{k=1}^n \\frac{f(x_k) + f(x_k)}{2} \\cdot (x_k - x_{k-1}).\n",
    "$$\n",
    "Эта формула называется *формулой трапеций*.\n",
    "Она соответствует замене площади криволинейной трапеции на сумму площадей прямоугольных \n",
    "трапеций.\n",
    "\n",
    "<img src=http://aco.ifmo.ru/el_books/numerical_methods/lectures/images/glava2_clip_image012.png>\n",
    "\n",
    "Для равноотстоящих узлов имеем\n",
    "$$\n",
    "  \\int_a^b f(x) dx \\approx h \\, \n",
    "     \\left( \\frac{f(x_0) + f(x_n)}{2} + f(x_1) + f(x_2) + \\dots + f(x_{n-1}) \\right).\n",
    "$$\n",
    "Если $f(x)$ дважды непрерывно дифференцируема на отрезке $[a, b]$, \n",
    "то для остаточного члена формулы трапеций справедливо:\n",
    "$$\n",
    "  R = \\frac{b-a}{12} f''(\\xi)\\, h^2, \\quad \\mbox{где $\\xi \\in [a, b]$}.\n",
    "$$\n",
    "*Также имеем 2-й порядок сходимости, как и для формулы центральных прямоугольников.*\n",
    "\n",
    "Метод трапеций реализует функция `trapz()` из модуля `scipy.integrate`.\n",
    "Есть два варианта обращения к ней: с одним входным аргументом\n",
    "и с двумя. Если вектор `x` содержит узлы, а `y` - значения функции в этих узлах, то\n",
    "`trapz(y, x)`\n",
    "численно вычисляет значение определенного интеграла по формуле трапеций.\n",
    "\n",
    "Вычислим интеграл ($**$) по формуле трапеций введем:"
   ]
  },
  {
   "cell_type": "code",
   "execution_count": 6,
   "metadata": {},
   "outputs": [
    {
     "data": {
      "text/plain": [
       "8.466935060243005"
      ]
     },
     "execution_count": 6,
     "metadata": {},
     "output_type": "execute_result"
    }
   ],
   "source": [
    "a = np.finfo(float).eps\n",
    "b = 3\n",
    "n = 100\n",
    "h = (b - a)/n\n",
    "x = np.linspace(a, b, n + 1)\n",
    "y = x/np.sin(x)\n",
    "I_trapz = integrate.trapz(y, x)\n",
    "I_trapz"
   ]
  },
  {
   "cell_type": "markdown",
   "metadata": {},
   "source": [
    "В точке $0$ функция имеет (устранимую) особенность,\n",
    "поэтому мы отступили от $0$ на машинное эпсилон.\n",
    "\n",
    "Вариант функции `trapz` вида `trapz(y)`\n",
    "предназначен для интегрирования по формуле трапеций с равноотстоящими узлами.\n",
    "Чтобы получить численное значение интеграла, \n",
    "необходимо значение `trapz(y)` домножить на шаг интегрирования $h$."
   ]
  },
  {
   "cell_type": "code",
   "execution_count": 7,
   "metadata": {},
   "outputs": [
    {
     "data": {
      "text/plain": [
       "8.466935060243006"
      ]
     },
     "execution_count": 7,
     "metadata": {},
     "output_type": "execute_result"
    }
   ],
   "source": [
    "integrate.trapz(y)*h"
   ]
  },
  {
   "cell_type": "markdown",
   "metadata": {},
   "source": [
    "## Правило Симпсона\n",
    "\n",
    "Пусть точки $x_k$ ($k=0,1,\\dots, n$) \n",
    "удовлетворяют условиям ($*$), $n$ четно.\n",
    "Заменяя на каждом отрезке $[x_k, x_{k+2}]$ $(k=0,2,4,\\dots,n)$\n",
    "подынтегральную функцию $f(x)$ ее интерполяционным многочленом $f_k(x)$ $2$-го порядка,\n",
    "построенным по узлам $x_k$, $x_{k+1}$, $x_{k+2}$, \n",
    "и интегрируя эти многочлены, мы приходим\n",
    "к *формуле Симпсона*. В частности, для случая равноотстоящих узлов\n",
    "получим:\n",
    "$$\n",
    "  \\int_a^b f(x) dx \\approx \n",
    "\\frac{h}{3} \n",
    "\\Bigl(\n",
    "  y_0 + y_n\n",
    "  + 2\\bigl(f(x_2) + f(x_4) + \\dots + f(x_{n-2})\\bigr)\n",
    "  + 4\\bigl(f(x_1) + f(x_3) + \\dots + f(x_{n-1})\\bigr)\n",
    "\\Bigr).\n",
    "$$\n",
    "\n",
    "<img src='http://aco.ifmo.ru/el_books/numerical_methods/lectures/images/glava2_clip_image025.png'>\n",
    "\n",
    "Если функция $f(x)$ имеет непрерывную на отрезке $[a, b]$\n",
    "производную $4$-го порядка, то для остаточного члена формулы Симпсона справедливо:\n",
    "$$\n",
    "  R = \\frac{b-a}{180} f^{IV}(\\xi)\\, h^4, \\quad \\mbox{где $\\xi \\in [a, b]$}.\n",
    "$$\n",
    "Обратите внимание, что *поряок сходимости для формулы Симпсона составляет 4, т.е. эта формула намного точнее формул прямоугольников и трапеций*.\n",
    "Метод Симпсона реализован в функции `simps` модуля `scipy.integrate`:"
   ]
  },
  {
   "cell_type": "code",
   "execution_count": 8,
   "metadata": {},
   "outputs": [
    {
     "data": {
      "text/plain": [
       "8.455462165555241"
      ]
     },
     "execution_count": 8,
     "metadata": {},
     "output_type": "execute_result"
    }
   ],
   "source": [
    "I_simps = integrate.simps(y, x)\n",
    "I_simps"
   ]
  },
  {
   "cell_type": "code",
   "execution_count": 9,
   "metadata": {},
   "outputs": [
    {
     "data": {
      "text/plain": [
       "8.455462165555243"
      ]
     },
     "execution_count": 9,
     "metadata": {},
     "output_type": "execute_result"
    }
   ],
   "source": [
    "integrate.simps(y)*h"
   ]
  },
  {
   "cell_type": "markdown",
   "metadata": {},
   "source": [
    "Значения, которые мы получили, разбивая отрезок интегрирования на 100 частей. Ожидаемо, правило Симпсона должно давать наиболее точный результат. Сравнивая его с относительно точным значением, полученным адаптивными функциями ниже, установим, что правилосимпсона со 100 узлами дало 4 верные значащие цифры ($8.455$).\n"
   ]
  },
  {
   "cell_type": "code",
   "execution_count": 10,
   "metadata": {},
   "outputs": [
    {
     "name": "stdout",
     "output_type": "stream",
     "text": [
      "Rectangaular method  8.449457117179284\n",
      "Trapezoidal  method  8.466935060243005\n",
      "Simpson rule         8.455462165555241\n"
     ]
    }
   ],
   "source": [
    "print('Rectangaular method ', I_rect)\n",
    "print('Trapezoidal  method ', I_trapz)\n",
    "print('Simpson rule        ', I_simps)"
   ]
  },
  {
   "cell_type": "markdown",
   "metadata": {},
   "source": [
    "## Автоматический выбор шага\n",
    "\n",
    "\n",
    "Как мы уже отмечали, для оценки точности вычисленного значения интеграла можно увеличивать количество узлов, например, вдвое, и сравнивать полученный ответ с предыдущим. Если они отличаются незначительно, то можно считать, что необходимаю точность получена. Иначе можно еще раз увеличить количество узлов вдвое и т.д.\n",
    "\n",
    "Более интеллектуальная стратегия - увеличивать количество точек не на всем отрезке интегрирования, а только на проблемных участках - такого сорта алгоритмы называются адаптивными, так как они подстариваются (адаптируются) под поведение функции на конкретном участке. Например, применим метод Симпсона к заданной функции для $3$ и $5$ точек и сравним результаты. Если разница превышает некоторый порог, то разобьем отрезок интегрирования на два равных отрезка и применим к каждому из них тот же алгорритм рекурсивно.\n",
    "\n",
    "Функция `quad` из модуля `scipy.integrate` реализует некоторый сложный адаптивный алгоритм численного вычисления интеграла.\n",
    "\n",
    "Форма обращения к функции `quad` следующая:\n",
    "```\n",
    "    I, abserr = quad(f, a, b)\n",
    "```\n",
    "здесь $a$, $b$ - начало и конец отрезка интегрирования (могут быть $\\pm$`np.Inf`), а\n",
    "`f` - подынтегральная функция, `abserr` - полученная абсолютная ошибка.\n",
    "\n",
    "Для функции `quad` можно задавать некоторые другие параметры, в частности,\n",
    "можно задать абсолютную `epsabs` и относительную `epsabs` ошибки для остановки алгоритма\n",
    "(по умолчанию они равны $1.49\\times 10^{-8}$). "
   ]
  },
  {
   "cell_type": "code",
   "execution_count": 11,
   "metadata": {},
   "outputs": [
    {
     "data": {
      "text/plain": [
       "(8.45527024499398, 2.6426765123466225e-11)"
      ]
     },
     "execution_count": 11,
     "metadata": {},
     "output_type": "execute_result"
    }
   ],
   "source": [
    "def fun(x):\n",
    "    return x/np.sin(x)\n",
    "\n",
    "I, abserr = integrate.quad(fun, np.finfo(float).eps, 3)\n",
    "I, abserr"
   ]
  },
  {
   "cell_type": "markdown",
   "metadata": {},
   "source": [
    "Интеграл вычислен с 10 верными значащими цифрами. "
   ]
  },
  {
   "cell_type": "code",
   "execution_count": 12,
   "metadata": {},
   "outputs": [
    {
     "data": {
      "text/plain": [
       "(8.455270245966526, 0.0005948624018474938)"
      ]
     },
     "execution_count": 12,
     "metadata": {},
     "output_type": "execute_result"
    }
   ],
   "source": [
    "I, abserr = integrate.quad(fun, np.finfo(float).eps, 3, epsabs = 1e-3)\n",
    "I, abserr"
   ]
  },
  {
   "cell_type": "markdown",
   "metadata": {},
   "source": [
    "## Выводы\n",
    "\n",
    "* Для достаточно гладких функций \n",
    "    * метод левых и правых прямоугольников имеет 1-й порядок сходимости,\n",
    "    * средних прямоугольников и метод трапеций - 2-й порядок, \n",
    "    * метом Симпсона - самый точный - 4-й порядок сходимости.\n",
    "\n",
    "* Для вычисления интеграла с необхоимой точностью используют адаптивные алгоритмы.\n",
    "\n"
   ]
  }
 ],
 "metadata": {
  "kernelspec": {
   "display_name": "Python 3",
   "language": "python",
   "name": "python3"
  },
  "language_info": {
   "codemirror_mode": {
    "name": "ipython",
    "version": 3
   },
   "file_extension": ".py",
   "mimetype": "text/x-python",
   "name": "python",
   "nbconvert_exporter": "python",
   "pygments_lexer": "ipython3",
   "version": "3.7.3"
  }
 },
 "nbformat": 4,
 "nbformat_minor": 2
}
