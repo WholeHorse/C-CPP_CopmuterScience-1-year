{
 "cells": [
  {
   "cell_type": "code",
   "execution_count": 1,
   "metadata": {},
   "outputs": [],
   "source": [
    "import numpy as np\n",
    "from scipy import linalg\n",
    "import matplotlib.pyplot as plt\n",
    "%matplotlib inline"
   ]
  },
  {
   "cell_type": "markdown",
   "metadata": {},
   "source": [
    "Решение нелинейных уравнений\n",
    "\n",
    "Рассмотрим задачу численного нахождения корня $x^*$ нелинейного уравнения\n",
    "$$\n",
    "f(x) = 0, \\qquad a\\le x \\le b, \\qquad f(a)\\cdot f(b)<0.\n",
    "$$\n",
    "Предполагается, что функция $f(x)$ непрерывна на отрезке $[a,b]$ и в концах этого отрезка принимает значения разных знаков.\n",
    "\n",
    "## 1. Некоторые методы\n",
    "\n",
    "### 1.1. Метод деления пополам\n",
    "\n",
    "Метод *деления пополам* (или *дихотомии*, или *бисекции*) состоит в следующем.\n",
    "На первой итерации находим середину отрезка $[a,b]$\n",
    "$$\n",
    "m = \\frac{1}{2}(a+b)\n",
    "$$\n",
    "Если $f(a)\\cdot f(m) < 0$, то полагаем $b=m$, иначе полагаем $a=m$.\n",
    "В обоих случаях повторяем итерации для нового отрезка $[a,b]$, пока величина отрезка не станет меньше заданного значения.\n",
    "\n",
    "Метод деления пополам имеет *линейную скорость сходимости* (также в этом случае говорят, что последовательность сходится со скоростью геометрической прогрессии). Если $x_k$ - середина отрезка на $k$-й итерации, то\n",
    "$$\n",
    "|x_{k+1} - x^*| \\le \\frac{1}{2} |x_k - x^*| \\le \\frac{|b-a|}{2^k}\n",
    "$$\n",
    "\n",
    "\n",
    "### 1.2. Метод Ньютона\n",
    "\n",
    "*Метод Ньютона* (*метод касательных*) на каждой итерации $k$ аппроксимирует в текущей точке $x_k$ функцию $f(x)$ касательной к этой функции в точке $x_k$. Следующим приближением к $x^*$ является точка $x_{k+1}$ пересечения касательной \n",
    "$$\n",
    "y = f(x_k) + (x-x_k) f'(x_k)\n",
    "$$\n",
    "с осью $Ox$:\n",
    "$$\n",
    "x_{k+1} = x_k - \\frac{f(x_k)}{f'(x_k)}.\n",
    "$$\n",
    "\n",
    "<img src='http://www.math.by/newton1.png'>\n",
    "\n",
    "Если $f′(x)\\ne 0$ и $f(x)$ имеет непрерывную вторую производную, то имеет место *квадратичная сходимость* метода Ньютона:\n",
    "$$\n",
    "|x_{k+1} - x^*| \\le C |x_k - x^*|^2, \\quad где \\quad C = |f''(ξ)/(2f'(η))| \n",
    "$$\n",
    "Итак, метод Ньютона работает быстрее, чем метод деления пополам, но требует вычисления производной.\n",
    "\n",
    "\n",
    "### 1.3. Метод секущих\n",
    "\n",
    "Заменим в методе Ньютона производную разделенной разностью: \n",
    "$$\n",
    "f'(x_k)\\approx\\frac{f(x_k) - f(x_{k-1})}{x_k - x_{k-1}}\n",
    "$$\n",
    "получим *метод секущих* (или *метод хорд*):\n",
    "$$\n",
    "x_{k+1} = x_k - f(x_k)\\frac{x_k - x_{k-1}}{f(x_k) - f(x_{k-1})}\n",
    "$$\n",
    "\n",
    "<img src=https://studfile.net/html/2706/298/html_a70QXs6983.h1q0/img-y3y3j8.png>\n",
    "\n",
    "Если $f′(x)\\ne 0$ и $f(x)$ имеет непрерывную вторую производную, то имеет место _сверхлинейная сходимость_:\n",
    "$$\n",
    "|x_{k+1} - x^*| \\le C |x_k - x^*|^r, \\quad где \\quad r = \\frac{1+\\sqrt{5}}{2} = 1.618\\dots, \\quad C = \\sqrt[r]{|f''(ξ)/(2f'(η))|}\n",
    "$$\n",
    "— медленне, чем метод Ньютона, но не нужно вычислять производные.\n",
    "\n",
    "### 1.3. Обратная квадратичная интерполяция\n",
    "\n",
    "Рассмотрим квадратичную функцию\n",
    "$$\n",
    "g(y) = \n",
    " x_{k-2}\\frac{(y-f_{k-1})(y-f_k)}{(f_{k-2}-f_{k-1})(f_{k-2}-f_k)}\n",
    "+x_{k-1}\\frac{(y-f_{k-2})(y-f_k)}{(f_{k-1}-f_{k-2})(f_{k-2}-f_k)}\n",
    "+x_k    \\frac{(y-f_{k-2})(y-f_{k-1})}{(f_k-f_{k-2})(f_k-f_{k-1})}\n",
    "$$\n",
    "Имеем $x_k=g(f_k)$, $x_{k-1}=g(f_{k-1})$, $x_{k-2}=g(f_{k-2})$.\n",
    "\n",
    "В качестве очередного приближения берем\n",
    "$$\n",
    "x_{k+1} = g(0)\n",
    "$$\n",
    "Метод сходится чуть быстрее, чем метод секущих:\n",
    "$$\n",
    "|x_{k+1} - x^*| \\le C |x_k - x^*|^r, \\quad где \\quad r = 1.839\\dots\n",
    "$$\n",
    "но необходимы три начальные точки\n",
    "\n",
    "### 1.4. Метод Брента\n",
    "\n",
    "— сочетает методы деления пополам, секущих и обратной квадратичной интерполяции\n"
   ]
  },
  {
   "cell_type": "markdown",
   "metadata": {},
   "source": [
    "## 2. Методы из модуля `optimize`\n",
    "\n",
    "В модуле `optimize` реализован ряд методов для решения нелинейного уравнения.\n",
    "Наиболее общей является функция `minimize_scalar()` В ней используемый метод можно указать явным образом задав параметр `method`. Но можно также воспользоваться \"специальными\" методами. В частности,\n",
    "  * `bisect(f, a, b)` - реализует метод деления пополам; \n",
    "  * `brentq(f, a, b)` - модификация метода Брента;\n",
    "  * `newton(fun, x0, fprime)` - метод Ньютона, где `x0` - начальное приближение, `fun` - функция, вычисляющая $f(x)$, `fprime` - функция, вычисляющая $f'(x)$; если `fprime` не задано, то используется метод секущих.\n",
    "  \n",
    "В качестве дополнительных параметров можно задавать, в частности,\n",
    "  * `xtol` - абсолютная ошибка,\n",
    "  * `rtol` - относительная ошибка,\n",
    "  * `maxiter` - максимальное количество итераций.\n",
    " "
   ]
  },
  {
   "cell_type": "code",
   "execution_count": 2,
   "metadata": {},
   "outputs": [],
   "source": [
    "from scipy.optimize import bisect, newton, brentq "
   ]
  },
  {
   "cell_type": "markdown",
   "metadata": {},
   "source": [
    "## 3. Примеры и эксперимент\n",
    "\n",
    "Давайте поэкспериментируем с этими методами. В качестве тестового возьмем уравнение\n",
    "$$\n",
    "\\sin(x) = 0,\\qquad  3\\le x \\le 4.\n",
    "$$\n",
    "Вначале зададим функцию, вычисляющую $f(x)$:"
   ]
  },
  {
   "cell_type": "code",
   "execution_count": 3,
   "metadata": {},
   "outputs": [],
   "source": [
    "def f(x):\n",
    "    return np.sin(x)"
   ]
  },
  {
   "cell_type": "markdown",
   "metadata": {},
   "source": [
    "И ее производную (понадобится для метода Ньютона):"
   ]
  },
  {
   "cell_type": "code",
   "execution_count": 4,
   "metadata": {},
   "outputs": [],
   "source": [
    "def fprime(x):\n",
    "    return np.cos(x)"
   ]
  },
  {
   "cell_type": "markdown",
   "metadata": {},
   "source": [
    "Например, вызовем метод `brentq`:"
   ]
  },
  {
   "cell_type": "code",
   "execution_count": 5,
   "metadata": {},
   "outputs": [
    {
     "data": {
      "text/plain": [
       "3.141592653589793"
      ]
     },
     "execution_count": 5,
     "metadata": {},
     "output_type": "execute_result"
    }
   ],
   "source": [
    "brentq(f, 3, 4)"
   ]
  },
  {
   "cell_type": "markdown",
   "metadata": {},
   "source": [
    "Можно получить дополнительную информацию (сошелся ли метод, количество вычислений функции, количество итераций):"
   ]
  },
  {
   "cell_type": "code",
   "execution_count": 6,
   "metadata": {},
   "outputs": [
    {
     "data": {
      "text/plain": [
       "(3.141592653589793,       converged: True\n",
       "            flag: 'converged'\n",
       "  function_calls: 7\n",
       "      iterations: 6\n",
       "            root: 3.141592653589793)"
      ]
     },
     "execution_count": 6,
     "metadata": {},
     "output_type": "execute_result"
    }
   ],
   "source": [
    "x0, r = brentq(f, 3, 4, full_output = True)\n",
    "x0, r"
   ]
  },
  {
   "cell_type": "code",
   "execution_count": 7,
   "metadata": {},
   "outputs": [
    {
     "data": {
      "text/plain": [
       "(3.141592653589793,       converged: True\n",
       "            flag: 'converged'\n",
       "  function_calls: 6\n",
       "      iterations: 3\n",
       "            root: 3.141592653589793)"
      ]
     },
     "execution_count": 7,
     "metadata": {},
     "output_type": "execute_result"
    }
   ],
   "source": [
    "x0, r = newton(f, 3, fprime=fprime, full_output=True)\n",
    "x0, r"
   ]
  },
  {
   "cell_type": "markdown",
   "metadata": {},
   "source": [
    "Нам будет интересно в каких точках метод вычисляет $f(x)$ на каждой итерации, поэтому добавим сохранение этих точек в списке `x_all`:"
   ]
  },
  {
   "cell_type": "code",
   "execution_count": 8,
   "metadata": {},
   "outputs": [],
   "source": [
    "def f_ext(x):\n",
    "    x_all.append(x)\n",
    "    return np.sin(x)"
   ]
  },
  {
   "cell_type": "markdown",
   "metadata": {},
   "source": [
    "## 3.1. Метод деления пополам"
   ]
  },
  {
   "cell_type": "code",
   "execution_count": 9,
   "metadata": {},
   "outputs": [
    {
     "data": {
      "text/plain": [
       "[3.0,\n",
       " 4.0,\n",
       " 3.5,\n",
       " 3.25,\n",
       " 3.125,\n",
       " 3.1875,\n",
       " 3.15625,\n",
       " 3.140625,\n",
       " 3.1484375,\n",
       " 3.14453125,\n",
       " 3.142578125,\n",
       " 3.1416015625,\n",
       " 3.14111328125,\n",
       " 3.141357421875,\n",
       " 3.1414794921875,\n",
       " 3.14154052734375,\n",
       " 3.141571044921875,\n",
       " 3.1415863037109375,\n",
       " 3.1415939331054688,\n",
       " 3.141590118408203,\n",
       " 3.141592025756836,\n",
       " 3.1415929794311523,\n",
       " 3.141592502593994,\n",
       " 3.1415927410125732,\n",
       " 3.1415926218032837,\n",
       " 3.1415926814079285,\n",
       " 3.141592651605606,\n",
       " 3.1415926665067673,\n",
       " 3.1415926590561867,\n",
       " 3.1415926553308964,\n",
       " 3.1415926534682512,\n",
       " 3.141592654399574,\n",
       " 3.1415926539339125,\n",
       " 3.141592653701082,\n",
       " 3.1415926535846666,\n",
       " 3.141592653642874,\n",
       " 3.1415926536137704,\n",
       " 3.1415926535992185,\n",
       " 3.1415926535919425,\n",
       " 3.1415926535883045,\n",
       " 3.1415926535901235,\n",
       " 3.1415926535901235]"
      ]
     },
     "execution_count": 9,
     "metadata": {},
     "output_type": "execute_result"
    }
   ],
   "source": [
    "x_all = []\n",
    "x0 = bisect(f_ext, 3, 4)\n",
    "x_all.append(x0)\n",
    "x_bisect = x_all\n",
    "x_bisect"
   ]
  },
  {
   "cell_type": "markdown",
   "metadata": {},
   "source": [
    "Обратите внимание, что в методе деления пополам очередная цифра в ответе генерируется примерно за одно и то же счисло итераций (4 итераций). **Это по сути дела и означает линейную скорость сходимости.**"
   ]
  },
  {
   "cell_type": "markdown",
   "metadata": {},
   "source": [
    "## 3.2. Метод секущих"
   ]
  },
  {
   "cell_type": "code",
   "execution_count": 10,
   "metadata": {},
   "outputs": [
    {
     "data": {
      "text/plain": [
       "[3.0,\n",
       " 3.0004000000000004,\n",
       " 3.142542483087832,\n",
       " 3.1415894937885818,\n",
       " 3.1415926535902665,\n",
       " 3.1415926535897936]"
      ]
     },
     "execution_count": 10,
     "metadata": {},
     "output_type": "execute_result"
    }
   ],
   "source": [
    "x_all = []\n",
    "x0 = newton(f_ext, 3)\n",
    "x_all.append(x0)\n",
    "x_secant = x_all\n",
    "x_secant"
   ]
  },
  {
   "cell_type": "markdown",
   "metadata": {},
   "source": [
    "## 3.3. Метод Ньютона"
   ]
  },
  {
   "cell_type": "code",
   "execution_count": 11,
   "metadata": {},
   "outputs": [
    {
     "data": {
      "text/plain": [
       "[3.0, 3.142546543074278, 3.141592653300477, 3.141592653589793]"
      ]
     },
     "execution_count": 11,
     "metadata": {},
     "output_type": "execute_result"
    }
   ],
   "source": [
    "x_all = []\n",
    "x0 = newton(f_ext, 3, fprime=fprime)\n",
    "x_all.append(x0)\n",
    "x_newton = x_all\n",
    "x_newton"
   ]
  },
  {
   "cell_type": "markdown",
   "metadata": {},
   "source": [
    "## 3.4. Метод Брента"
   ]
  },
  {
   "cell_type": "code",
   "execution_count": 12,
   "metadata": {},
   "outputs": [
    {
     "data": {
      "text/plain": [
       "[3.0,\n",
       " 4.0,\n",
       " 3.157162792479947,\n",
       " 3.14154625558915,\n",
       " 3.1415926554589646,\n",
       " 3.141592653589793,\n",
       " 3.1415926535907945,\n",
       " 3.141592653589793]"
      ]
     },
     "execution_count": 12,
     "metadata": {},
     "output_type": "execute_result"
    }
   ],
   "source": [
    "x_all = []\n",
    "x0 = brentq(f_ext, 3, 4)\n",
    "x_all.append(x0)\n",
    "x_brent = x_all\n",
    "x_brent"
   ]
  },
  {
   "cell_type": "markdown",
   "metadata": {},
   "source": [
    "Теперь для каждого метода построим график зависимости абсолютной ошибки от номера итерации."
   ]
  },
  {
   "cell_type": "code",
   "execution_count": 13,
   "metadata": {},
   "outputs": [
    {
     "data": {
      "image/png": "[encoded data removed]",
      "text/plain": [
       "<Figure size 432x288 with 1 Axes>"
      ]
     },
     "metadata": {
      "needs_background": "light"
     },
     "output_type": "display_data"
    }
   ],
   "source": [
    "plt.semilogy(np.abs(np.array(x_bisect) - np.pi), label='Bisect')\n",
    "plt.semilogy(np.abs(np.array(x_secant) - np.pi), label='Secant')\n",
    "plt.semilogy(np.abs(np.array(x_newton) - np.pi), label='Newton')\n",
    "plt.semilogy(np.abs(np.array(x_brent)  - np.pi), label='Brent')\n",
    "plt.legend()\n",
    "pass"
   ]
  },
  {
   "cell_type": "markdown",
   "metadata": {},
   "source": [
    "Обратите внимание, что для метода деления пополам график ошибки в логарифмическом масштабе (по вертикальной оси) - практически прямая (**это и означает сходимость с линейной скоростью или со скоростью геометрической прогрессии!**) Для остальных методов - сходимость еще более быстрая!"
   ]
  },
  {
   "cell_type": "markdown",
   "metadata": {
    "collapsed": true
   },
   "source": [
    "## Выводы\n",
    "\n",
    "1. Метод деления пополам - простой и надежный метод нахождения корня нелинейного уравнения, но не самый быстрый! Скорость сходимости у него - линейная.\n",
    "2. У метода Ньютона - скорость сходимости квадратичная, но он требует вычисления производной.\n",
    "3. Метод секущих работает быстрее метода деления пополам, но медленнее метода Ньютона.\n",
    "4. Метод Брента и разные его модификации - это надежный метод, не требующий вычисления производных. Этот метод работает не медленне метода деления пополам. Как правило, это первый метод, который нужно попробовать для решения вашей задачи"
   ]
  },
  {
   "cell_type": "code",
   "execution_count": null,
   "metadata": {},
   "outputs": [],
   "source": []
  }
 ],
 "metadata": {
  "kernelspec": {
   "display_name": "Python 3",
   "language": "python",
   "name": "python3"
  },
  "language_info": {
   "codemirror_mode": {
    "name": "ipython",
    "version": 3
   },
   "file_extension": ".py",
   "mimetype": "text/x-python",
   "name": "python",
   "nbconvert_exporter": "python",
   "pygments_lexer": "ipython3",
   "version": "3.7.3"
  }
 },
 "nbformat": 4,
 "nbformat_minor": 1
}
